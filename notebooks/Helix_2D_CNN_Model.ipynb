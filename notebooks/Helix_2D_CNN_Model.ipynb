{
 "cells": [
  {
   "cell_type": "markdown",
   "metadata": {},
   "source": [
    "## Introduction\n",
    "In this notebook, we explore a novel approach to data preprocessing and modeling.  The one-dimensional mass spectrometry data is transformed into two-dimensional images using a helix matrix transformation. A 2D Convolutional Neural Network (2D CNN) is then trained on these transformed images. This section investigates whether this visual transformation can provide new, discriminative features for predicting drug resistance, and it compares the performance of the 2D CNN with the 1D CNN and classic machine learning models."
   ]
  },
  {
   "cell_type": "markdown",
   "metadata": {},
   "source": [
    "### Data Preparation"
   ]
  },
  {
   "cell_type": "code",
   "execution_count": 1,
   "metadata": {
    "execution": {
     "iopub.execute_input": "2025-09-03T16:36:39.672059Z",
     "iopub.status.busy": "2025-09-03T16:36:39.671870Z",
     "iopub.status.idle": "2025-09-03T16:36:42.347538Z",
     "shell.execute_reply": "2025-09-03T16:36:42.346697Z",
     "shell.execute_reply.started": "2025-09-03T16:36:39.672042Z"
    },
    "trusted": true
   },
   "outputs": [],
   "source": [
    "import torch\n",
    "import torch.nn as nn\n",
    "import torch.optim as optim\n",
    "from torch.utils.data import Dataset, DataLoader\n",
    "import numpy as np\n",
    "import matplotlib.pyplot as plt\n",
    "from sklearn.model_selection import train_test_split\n",
    "from sklearn.metrics import accuracy_score, classification_report, confusion_matrix\n",
    "import cv2\n",
    "from typing import Tuple, List\n",
    "import random\n",
    "import pandas as pd\n",
    "from tqdm import tqdm\n",
    "import seaborn as sns\n",
    "import os\n",
    "\n",
    "import warnings\n",
    "warnings.filterwarnings('ignore')"
   ]
  },
  {
   "cell_type": "markdown",
   "metadata": {},
   "source": [
    "Load Dataset"
   ]
  },
  {
   "cell_type": "code",
   "execution_count": 2,
   "metadata": {
    "execution": {
     "iopub.execute_input": "2025-09-03T16:36:42.350065Z",
     "iopub.status.busy": "2025-09-03T16:36:42.349695Z",
     "iopub.status.idle": "2025-09-03T16:36:50.238901Z",
     "shell.execute_reply": "2025-09-03T16:36:50.237915Z",
     "shell.execute_reply.started": "2025-09-03T16:36:42.350042Z"
    },
    "trusted": true
   },
   "outputs": [],
   "source": [
    "if os.path.exists('../data/e_coli_driams_a_bin3_2000_20000Da.csv'):\n",
    "    df = pd.read_csv('../data/e_coli_driams_a_bin3_2000_20000Da.csv')\n",
    "else:\n",
    "    df = pd.read_csv('https://media.githubusercontent.com/media/xlopez-ml/DL-AMR/master/datasets/driams_a/s_aureus_driams_a_bin3_2000_20000Da.csv')"
   ]
  },
  {
   "cell_type": "code",
   "execution_count": 3,
   "metadata": {
    "execution": {
     "iopub.execute_input": "2025-09-03T16:36:50.240169Z",
     "iopub.status.busy": "2025-09-03T16:36:50.239825Z",
     "iopub.status.idle": "2025-09-03T16:36:50.264459Z",
     "shell.execute_reply": "2025-09-03T16:36:50.263782Z",
     "shell.execute_reply.started": "2025-09-03T16:36:50.240141Z"
    },
    "trusted": true
   },
   "outputs": [
    {
     "data": {
      "text/html": [
       "<div>\n",
       "<style scoped>\n",
       "    .dataframe tbody tr th:only-of-type {\n",
       "        vertical-align: middle;\n",
       "    }\n",
       "\n",
       "    .dataframe tbody tr th {\n",
       "        vertical-align: top;\n",
       "    }\n",
       "\n",
       "    .dataframe thead th {\n",
       "        text-align: right;\n",
       "    }\n",
       "</style>\n",
       "<table border=\"1\" class=\"dataframe\">\n",
       "  <thead>\n",
       "    <tr style=\"text-align: right;\">\n",
       "      <th></th>\n",
       "      <th>2000</th>\n",
       "      <th>2003</th>\n",
       "      <th>2006</th>\n",
       "      <th>2009</th>\n",
       "      <th>2012</th>\n",
       "      <th>2015</th>\n",
       "      <th>2018</th>\n",
       "      <th>2021</th>\n",
       "      <th>2024</th>\n",
       "      <th>2027</th>\n",
       "      <th>...</th>\n",
       "      <th>19991</th>\n",
       "      <th>19994</th>\n",
       "      <th>19997</th>\n",
       "      <th>code</th>\n",
       "      <th>species</th>\n",
       "      <th>Oxacillin</th>\n",
       "      <th>Clindamycin</th>\n",
       "      <th>Ceftriaxone</th>\n",
       "      <th>Ciprofloxacin</th>\n",
       "      <th>Fusidic acid</th>\n",
       "    </tr>\n",
       "  </thead>\n",
       "  <tbody>\n",
       "    <tr>\n",
       "      <th>0</th>\n",
       "      <td>951.428571</td>\n",
       "      <td>826.125000</td>\n",
       "      <td>944.857143</td>\n",
       "      <td>898.428571</td>\n",
       "      <td>1007.714286</td>\n",
       "      <td>936.000000</td>\n",
       "      <td>828.571429</td>\n",
       "      <td>812.000000</td>\n",
       "      <td>782.714286</td>\n",
       "      <td>741.625000</td>\n",
       "      <td>...</td>\n",
       "      <td>35.5</td>\n",
       "      <td>20.5</td>\n",
       "      <td>27.342857</td>\n",
       "      <td>029f0abf-1664-424f-88cb-11c9c8af2b11</td>\n",
       "      <td>Staphylococcus aureus</td>\n",
       "      <td>0.0</td>\n",
       "      <td>0.0</td>\n",
       "      <td>0.0</td>\n",
       "      <td>0.0</td>\n",
       "      <td>1.0</td>\n",
       "    </tr>\n",
       "    <tr>\n",
       "      <th>1</th>\n",
       "      <td>784.714286</td>\n",
       "      <td>701.125000</td>\n",
       "      <td>681.571429</td>\n",
       "      <td>762.142857</td>\n",
       "      <td>737.571429</td>\n",
       "      <td>733.000000</td>\n",
       "      <td>735.857143</td>\n",
       "      <td>659.571429</td>\n",
       "      <td>802.714286</td>\n",
       "      <td>554.375000</td>\n",
       "      <td>...</td>\n",
       "      <td>30.0</td>\n",
       "      <td>40.5</td>\n",
       "      <td>34.695238</td>\n",
       "      <td>08149af1-10f5-4f02-81d8-3d46d66d4a7a</td>\n",
       "      <td>Staphylococcus aureus</td>\n",
       "      <td>0.0</td>\n",
       "      <td>0.0</td>\n",
       "      <td>0.0</td>\n",
       "      <td>0.0</td>\n",
       "      <td>0.0</td>\n",
       "    </tr>\n",
       "    <tr>\n",
       "      <th>2</th>\n",
       "      <td>50.875000</td>\n",
       "      <td>89.142857</td>\n",
       "      <td>56.142857</td>\n",
       "      <td>151.285714</td>\n",
       "      <td>132.714286</td>\n",
       "      <td>110.428571</td>\n",
       "      <td>47.285714</td>\n",
       "      <td>63.428571</td>\n",
       "      <td>100.375000</td>\n",
       "      <td>52.142857</td>\n",
       "      <td>...</td>\n",
       "      <td>2.5</td>\n",
       "      <td>30.5</td>\n",
       "      <td>11.288462</td>\n",
       "      <td>08fe3876-ecee-4ddc-9aa9-a84f605757f7</td>\n",
       "      <td>Staphylococcus aureus</td>\n",
       "      <td>0.0</td>\n",
       "      <td>0.0</td>\n",
       "      <td>0.0</td>\n",
       "      <td>0.0</td>\n",
       "      <td>0.0</td>\n",
       "    </tr>\n",
       "    <tr>\n",
       "      <th>3</th>\n",
       "      <td>843.285714</td>\n",
       "      <td>816.500000</td>\n",
       "      <td>734.428571</td>\n",
       "      <td>1027.142857</td>\n",
       "      <td>979.428571</td>\n",
       "      <td>875.571429</td>\n",
       "      <td>912.142857</td>\n",
       "      <td>714.428571</td>\n",
       "      <td>945.428571</td>\n",
       "      <td>886.500000</td>\n",
       "      <td>...</td>\n",
       "      <td>15.5</td>\n",
       "      <td>8.0</td>\n",
       "      <td>20.057143</td>\n",
       "      <td>0a9fdd4b-7180-47c0-849e-cb32d46da94c</td>\n",
       "      <td>Staphylococcus aureus</td>\n",
       "      <td>0.0</td>\n",
       "      <td>0.0</td>\n",
       "      <td>0.0</td>\n",
       "      <td>0.0</td>\n",
       "      <td>0.0</td>\n",
       "    </tr>\n",
       "    <tr>\n",
       "      <th>4</th>\n",
       "      <td>307.857143</td>\n",
       "      <td>295.000000</td>\n",
       "      <td>246.714286</td>\n",
       "      <td>181.571429</td>\n",
       "      <td>258.000000</td>\n",
       "      <td>318.714286</td>\n",
       "      <td>295.714286</td>\n",
       "      <td>300.857143</td>\n",
       "      <td>278.142857</td>\n",
       "      <td>256.125000</td>\n",
       "      <td>...</td>\n",
       "      <td>25.5</td>\n",
       "      <td>32.0</td>\n",
       "      <td>24.990476</td>\n",
       "      <td>0d82f4c4-473c-49d8-8c85-e3e36e96d047</td>\n",
       "      <td>Staphylococcus aureus</td>\n",
       "      <td>1.0</td>\n",
       "      <td>0.0</td>\n",
       "      <td>1.0</td>\n",
       "      <td>1.0</td>\n",
       "      <td>0.0</td>\n",
       "    </tr>\n",
       "  </tbody>\n",
       "</table>\n",
       "<p>5 rows × 6007 columns</p>\n",
       "</div>"
      ],
      "text/plain": [
       "         2000        2003        2006         2009         2012        2015  \\\n",
       "0  951.428571  826.125000  944.857143   898.428571  1007.714286  936.000000   \n",
       "1  784.714286  701.125000  681.571429   762.142857   737.571429  733.000000   \n",
       "2   50.875000   89.142857   56.142857   151.285714   132.714286  110.428571   \n",
       "3  843.285714  816.500000  734.428571  1027.142857   979.428571  875.571429   \n",
       "4  307.857143  295.000000  246.714286   181.571429   258.000000  318.714286   \n",
       "\n",
       "         2018        2021        2024        2027  ...  19991  19994  \\\n",
       "0  828.571429  812.000000  782.714286  741.625000  ...   35.5   20.5   \n",
       "1  735.857143  659.571429  802.714286  554.375000  ...   30.0   40.5   \n",
       "2   47.285714   63.428571  100.375000   52.142857  ...    2.5   30.5   \n",
       "3  912.142857  714.428571  945.428571  886.500000  ...   15.5    8.0   \n",
       "4  295.714286  300.857143  278.142857  256.125000  ...   25.5   32.0   \n",
       "\n",
       "       19997                                  code                species  \\\n",
       "0  27.342857  029f0abf-1664-424f-88cb-11c9c8af2b11  Staphylococcus aureus   \n",
       "1  34.695238  08149af1-10f5-4f02-81d8-3d46d66d4a7a  Staphylococcus aureus   \n",
       "2  11.288462  08fe3876-ecee-4ddc-9aa9-a84f605757f7  Staphylococcus aureus   \n",
       "3  20.057143  0a9fdd4b-7180-47c0-849e-cb32d46da94c  Staphylococcus aureus   \n",
       "4  24.990476  0d82f4c4-473c-49d8-8c85-e3e36e96d047  Staphylococcus aureus   \n",
       "\n",
       "   Oxacillin  Clindamycin  Ceftriaxone  Ciprofloxacin  Fusidic acid  \n",
       "0        0.0          0.0          0.0            0.0           1.0  \n",
       "1        0.0          0.0          0.0            0.0           0.0  \n",
       "2        0.0          0.0          0.0            0.0           0.0  \n",
       "3        0.0          0.0          0.0            0.0           0.0  \n",
       "4        1.0          0.0          1.0            1.0           0.0  \n",
       "\n",
       "[5 rows x 6007 columns]"
      ]
     },
     "execution_count": 3,
     "metadata": {},
     "output_type": "execute_result"
    }
   ],
   "source": [
    "df.head()"
   ]
  },
  {
   "cell_type": "code",
   "execution_count": 4,
   "metadata": {
    "execution": {
     "iopub.execute_input": "2025-09-03T16:36:50.265682Z",
     "iopub.status.busy": "2025-09-03T16:36:50.265449Z",
     "iopub.status.idle": "2025-09-03T16:36:50.270570Z",
     "shell.execute_reply": "2025-09-03T16:36:50.269991Z",
     "shell.execute_reply.started": "2025-09-03T16:36:50.265654Z"
    },
    "trusted": true
   },
   "outputs": [
    {
     "data": {
      "text/plain": [
       "['Oxacillin', 'Clindamycin', 'Ceftriaxone', 'Ciprofloxacin', 'Fusidic acid']"
      ]
     },
     "execution_count": 4,
     "metadata": {},
     "output_type": "execute_result"
    }
   ],
   "source": [
    "antibiotics = df.columns[-5:].to_list()\n",
    "antibiotics"
   ]
  },
  {
   "cell_type": "markdown",
   "metadata": {},
   "source": [
    "### Create Dataset"
   ]
  },
  {
   "cell_type": "code",
   "execution_count": 5,
   "metadata": {
    "execution": {
     "iopub.execute_input": "2025-09-03T16:36:50.271464Z",
     "iopub.status.busy": "2025-09-03T16:36:50.271257Z",
     "iopub.status.idle": "2025-09-03T16:36:50.293097Z",
     "shell.execute_reply": "2025-09-03T16:36:50.292416Z",
     "shell.execute_reply.started": "2025-09-03T16:36:50.271449Z"
    },
    "trusted": true
   },
   "outputs": [],
   "source": [
    "class MALDITOFDataset(Dataset):\n",
    "    \n",
    "    def __init__(self, spectra: np.ndarray, labels: np.ndarray, target_size: Tuple[int, int] = (64, 64)):\n",
    "        self.spectra = spectra\n",
    "        self.labels = labels\n",
    "        self.target_size = target_size\n",
    "        \n",
    "    def __len__(self):\n",
    "        return len(self.spectra)\n",
    "    \n",
    "    def __getitem__(self, idx):\n",
    "        spectrum = self.spectra[idx]\n",
    "        label = [self.labels[idx]]\n",
    "        \n",
    "        # Apply transformations\n",
    "        helix_matrix = self.helix_matrix_transform(spectrum)\n",
    "        binary_image = self.image_binarization(helix_matrix)\n",
    "        resized_image = self.resize_image(binary_image, self.target_size)\n",
    "        \n",
    "        # Convert to tensor and add channel dimension\n",
    "        image_tensor = torch.FloatTensor(resized_image).unsqueeze(0)  # Add channel dim\n",
    "        label_tensor = torch.LongTensor(label)\n",
    "        \n",
    "        return image_tensor, label_tensor.squeeze()\n",
    "    \n",
    "    def helix_matrix_transform(self, spectrum_1d: np.ndarray) -> np.ndarray:\n",
    "        \"\"\"\n",
    "        Transform 1D spectrum to 2D using helix matrix transformation\n",
    "        Creates a spiral-like pattern filling a square matrix\n",
    "        \"\"\"\n",
    "        n = len(spectrum_1d)\n",
    "        # Calculate square matrix size (find smallest square that can fit all data)\n",
    "        side_length = int(np.ceil(np.sqrt(n)))\n",
    "        \n",
    "        # Create empty matrix\n",
    "        matrix = np.zeros((side_length, side_length))\n",
    "        \n",
    "        # Fill matrix in spiral pattern (helix-like)\n",
    "        directions = [(0, 1), (1, 0), (0, -1), (-1, 0)]  # right, down, left, up\n",
    "        direction_idx = 0\n",
    "        row, col = 0, 0\n",
    "        \n",
    "        for i in range(min(n, side_length * side_length)):\n",
    "            matrix[row, col] = spectrum_1d[i]\n",
    "            \n",
    "            # Calculate next position\n",
    "            dr, dc = directions[direction_idx]\n",
    "            next_row, next_col = row + dr, col + dc\n",
    "            \n",
    "            # Check if we need to turn (hit boundary or filled cell)\n",
    "            if (next_row < 0 or next_row >= side_length or \n",
    "                next_col < 0 or next_col >= side_length or \n",
    "                matrix[next_row, next_col] != 0):\n",
    "                direction_idx = (direction_idx + 1) % 4\n",
    "                dr, dc = directions[direction_idx]\n",
    "                next_row, next_col = row + dr, col + dc\n",
    "            \n",
    "            row, col = next_row, next_col\n",
    "        \n",
    "        return matrix\n",
    "    \n",
    "    def image_binarization(self, matrix: np.ndarray, threshold_method: str = 'otsu') -> np.ndarray:\n",
    "        \"\"\"\n",
    "        Convert grayscale matrix to binary image\n",
    "        \"\"\"\n",
    "        # Normalize to 0-255 range\n",
    "        normalized = ((matrix - matrix.min()) / (matrix.max() - matrix.min()) * 255).astype(np.uint8)\n",
    "        \n",
    "        if threshold_method == 'otsu':\n",
    "            # Use Otsu's method for automatic thresholding\n",
    "            _, binary = cv2.threshold(normalized, 0, 255, cv2.THRESH_BINARY + cv2.THRESH_OTSU)\n",
    "        else:\n",
    "            # Use mean as threshold\n",
    "            threshold = np.mean(normalized)\n",
    "            binary = (normalized > threshold).astype(np.uint8) * 255\n",
    "        \n",
    "        return binary.astype(np.float32) / 255.0  # Normalize to 0-1\n",
    "    \n",
    "    def resize_image(self, image: np.ndarray, target_size: Tuple[int, int]) -> np.ndarray:\n",
    "        \"\"\"\n",
    "        Resize image to target size using bilinear interpolation\n",
    "        \"\"\"\n",
    "        resized = cv2.resize(image, target_size, interpolation=cv2.INTER_LINEAR)\n",
    "        return resized"
   ]
  },
  {
   "cell_type": "code",
   "execution_count": 6,
   "metadata": {
    "execution": {
     "iopub.execute_input": "2025-09-03T16:36:50.293987Z",
     "iopub.status.busy": "2025-09-03T16:36:50.293760Z",
     "iopub.status.idle": "2025-09-03T16:36:51.002533Z",
     "shell.execute_reply": "2025-09-03T16:36:51.001949Z",
     "shell.execute_reply.started": "2025-09-03T16:36:50.293964Z"
    },
    "trusted": true
   },
   "outputs": [],
   "source": [
    "antibiotic = antibiotics[2]\n",
    "max_length = 6000\n",
    "antibiotic_df = df.iloc[:, :max_length].join(df[antibiotic])\n",
    "antibiotic_df = antibiotic_df.dropna(how='any').reset_index(drop=True)\n",
    "\n",
    "spectra = antibiotic_df.iloc[:, 0:77*77].values\n",
    "labels = antibiotic_df.iloc[:, 6000].values\n",
    "\n",
    "X_train, X_test, y_train, y_test = train_test_split(\n",
    "    spectra, labels, test_size=0.2, random_state=42, stratify=labels\n",
    ")\n",
    "X_train, X_val, y_train, y_val = train_test_split(\n",
    "    X_train, y_train, test_size=0.1, random_state=42, stratify=y_train\n",
    ")"
   ]
  },
  {
   "cell_type": "code",
   "execution_count": 7,
   "metadata": {
    "execution": {
     "iopub.execute_input": "2025-09-03T16:36:51.003538Z",
     "iopub.status.busy": "2025-09-03T16:36:51.003271Z",
     "iopub.status.idle": "2025-09-03T16:36:51.008735Z",
     "shell.execute_reply": "2025-09-03T16:36:51.008211Z",
     "shell.execute_reply.started": "2025-09-03T16:36:51.003513Z"
    },
    "trusted": true
   },
   "outputs": [],
   "source": [
    "target_size = (32, 32)\n",
    "train_dataset = MALDITOFDataset(X_train, y_train, target_size)\n",
    "val_dataset = MALDITOFDataset(X_val, y_val, target_size)\n",
    "test_dataset = MALDITOFDataset(X_test, y_test, target_size)\n",
    "\n",
    "# Create data loaders\n",
    "batch_size = 32\n",
    "train_loader = DataLoader(train_dataset, batch_size=batch_size, shuffle=True)\n",
    "val_loader = DataLoader(val_dataset, batch_size=batch_size, shuffle=False)\n",
    "test_loader = DataLoader(test_dataset, batch_size=batch_size, shuffle=False)"
   ]
  },
  {
   "cell_type": "markdown",
   "metadata": {},
   "source": [
    "### Fit Model"
   ]
  },
  {
   "cell_type": "code",
   "execution_count": 8,
   "metadata": {
    "execution": {
     "iopub.execute_input": "2025-09-03T16:36:51.011263Z",
     "iopub.status.busy": "2025-09-03T16:36:51.011031Z",
     "iopub.status.idle": "2025-09-03T16:36:51.092208Z",
     "shell.execute_reply": "2025-09-03T16:36:51.091364Z",
     "shell.execute_reply.started": "2025-09-03T16:36:51.011246Z"
    },
    "trusted": true
   },
   "outputs": [
    {
     "data": {
      "text/plain": [
       "device(type='cuda')"
      ]
     },
     "execution_count": 8,
     "metadata": {},
     "output_type": "execute_result"
    }
   ],
   "source": [
    "device = torch.device('cuda' if torch.cuda.is_available() else 'cpu')\n",
    "device"
   ]
  },
  {
   "cell_type": "code",
   "execution_count": 9,
   "metadata": {
    "execution": {
     "iopub.execute_input": "2025-09-03T16:36:51.093675Z",
     "iopub.status.busy": "2025-09-03T16:36:51.093009Z",
     "iopub.status.idle": "2025-09-03T16:36:51.109037Z",
     "shell.execute_reply": "2025-09-03T16:36:51.108543Z",
     "shell.execute_reply.started": "2025-09-03T16:36:51.093652Z"
    },
    "trusted": true
   },
   "outputs": [],
   "source": [
    "class CNN2D(nn.Module):\n",
    "    \"\"\"\n",
    "    2D CNN model for antimicrobial resistance classification\n",
    "    \"\"\"\n",
    "    \n",
    "    def __init__(self, input_size: Tuple[int, int] = (64, 64), num_classes: int = 2):\n",
    "        super(CNN2D, self).__init__()\n",
    "        \n",
    "        self.features = nn.Sequential(\n",
    "            # First convolutional block\n",
    "            nn.Conv2d(1, 32, kernel_size=5, padding=1),\n",
    "            nn.BatchNorm2d(32),\n",
    "            nn.ReLU(inplace=True),\n",
    "            nn.MaxPool2d(2, 2),\n",
    "            \n",
    "            # Second convolutional block\n",
    "            nn.Conv2d(32, 64, kernel_size=5, padding=1),\n",
    "            nn.BatchNorm2d(64),\n",
    "            nn.ReLU(inplace=True),\n",
    "            nn.MaxPool2d(2, 2),\n",
    "            \n",
    "            # Third convolutional block\n",
    "            nn.Conv2d(64, 128, kernel_size=3, padding=1),\n",
    "            nn.BatchNorm2d(128),\n",
    "            nn.ReLU(inplace=True),\n",
    "            nn.MaxPool2d(2, 2),\n",
    "            \n",
    "            # Fourth convolutional block\n",
    "            nn.Conv2d(128, 256, kernel_size=3, padding=1),\n",
    "            nn.BatchNorm2d(256),\n",
    "            nn.ReLU(inplace=True),\n",
    "            nn.MaxPool2d(2, 2),\n",
    "        )\n",
    "        \n",
    "        # Calculate flattened size\n",
    "        self.flattened_size = self._get_flattened_size(input_size)\n",
    "        \n",
    "        self.classifier = nn.Sequential(\n",
    "            nn.Dropout(0.5),\n",
    "            nn.Linear(self.flattened_size, 512),\n",
    "            nn.ReLU(inplace=True),\n",
    "            # nn.Dropout(0.5),\n",
    "            # nn.Linear(512, 256),\n",
    "            # nn.ReLU(inplace=True),\n",
    "            nn.Linear(512, 64),\n",
    "            nn.ReLU(inplace=True),\n",
    "            nn.Linear(64, num_classes)\n",
    "        )\n",
    "    \n",
    "    def _get_flattened_size(self, input_size):\n",
    "        \"\"\"Calculate the size of flattened features\"\"\"\n",
    "        with torch.no_grad():\n",
    "            x = torch.zeros(1, 1, *input_size)\n",
    "            x = self.features(x)\n",
    "            return x.numel()\n",
    "    \n",
    "    def forward(self, x):\n",
    "        x = self.features(x)\n",
    "        x = x.view(x.size(0), -1)  # Flatten\n",
    "        x = self.classifier(x)\n",
    "        return x"
   ]
  },
  {
   "cell_type": "code",
   "execution_count": 10,
   "metadata": {
    "execution": {
     "iopub.execute_input": "2025-09-03T16:36:51.110213Z",
     "iopub.status.busy": "2025-09-03T16:36:51.109664Z",
     "iopub.status.idle": "2025-09-03T16:36:51.279872Z",
     "shell.execute_reply": "2025-09-03T16:36:51.279214Z",
     "shell.execute_reply.started": "2025-09-03T16:36:51.110195Z"
    },
    "trusted": true
   },
   "outputs": [
    {
     "data": {
      "text/plain": [
       "CNN2D(\n",
       "  (features): Sequential(\n",
       "    (0): Conv2d(1, 32, kernel_size=(5, 5), stride=(1, 1), padding=(1, 1))\n",
       "    (1): BatchNorm2d(32, eps=1e-05, momentum=0.1, affine=True, track_running_stats=True)\n",
       "    (2): ReLU(inplace=True)\n",
       "    (3): MaxPool2d(kernel_size=2, stride=2, padding=0, dilation=1, ceil_mode=False)\n",
       "    (4): Conv2d(32, 64, kernel_size=(5, 5), stride=(1, 1), padding=(1, 1))\n",
       "    (5): BatchNorm2d(64, eps=1e-05, momentum=0.1, affine=True, track_running_stats=True)\n",
       "    (6): ReLU(inplace=True)\n",
       "    (7): MaxPool2d(kernel_size=2, stride=2, padding=0, dilation=1, ceil_mode=False)\n",
       "    (8): Conv2d(64, 128, kernel_size=(3, 3), stride=(1, 1), padding=(1, 1))\n",
       "    (9): BatchNorm2d(128, eps=1e-05, momentum=0.1, affine=True, track_running_stats=True)\n",
       "    (10): ReLU(inplace=True)\n",
       "    (11): MaxPool2d(kernel_size=2, stride=2, padding=0, dilation=1, ceil_mode=False)\n",
       "    (12): Conv2d(128, 256, kernel_size=(3, 3), stride=(1, 1), padding=(1, 1))\n",
       "    (13): BatchNorm2d(256, eps=1e-05, momentum=0.1, affine=True, track_running_stats=True)\n",
       "    (14): ReLU(inplace=True)\n",
       "    (15): MaxPool2d(kernel_size=2, stride=2, padding=0, dilation=1, ceil_mode=False)\n",
       "  )\n",
       "  (classifier): Sequential(\n",
       "    (0): Dropout(p=0.5, inplace=False)\n",
       "    (1): Linear(in_features=256, out_features=512, bias=True)\n",
       "    (2): ReLU(inplace=True)\n",
       "    (3): Linear(in_features=512, out_features=64, bias=True)\n",
       "    (4): ReLU(inplace=True)\n",
       "    (5): Linear(in_features=64, out_features=2, bias=True)\n",
       "  )\n",
       ")"
      ]
     },
     "execution_count": 10,
     "metadata": {},
     "output_type": "execute_result"
    }
   ],
   "source": [
    "model = CNN2D(input_size=target_size)\n",
    "model.to(device)"
   ]
  },
  {
   "cell_type": "code",
   "execution_count": 11,
   "metadata": {
    "execution": {
     "iopub.execute_input": "2025-09-03T16:36:51.281186Z",
     "iopub.status.busy": "2025-09-03T16:36:51.280906Z",
     "iopub.status.idle": "2025-09-03T16:36:51.286234Z",
     "shell.execute_reply": "2025-09-03T16:36:51.285693Z",
     "shell.execute_reply.started": "2025-09-03T16:36:51.281163Z"
    },
    "trusted": true
   },
   "outputs": [],
   "source": [
    "class EarlyStopping:\n",
    "    def __init__(self, model, patience=5, delta=0.0001, path='../checkpoints/best_model.pt', verbose=True):\n",
    "        self.model = model\n",
    "        self.patience = patience\n",
    "        self.delta = delta\n",
    "        self.path = path\n",
    "        self.verbose = verbose\n",
    "        self.best_loss = None\n",
    "        self.no_improvement_count = 0\n",
    "\n",
    "    def check_early_stop(self, val_loss):\n",
    "        if self.best_loss is None or val_loss < self.best_loss - self.delta:\n",
    "            self.best_loss = val_loss\n",
    "            self.no_improvement_count = 0\n",
    "            # Save checkpoint if improvement observed\n",
    "            torch.save(self.model.state_dict(), self.path)\n",
    "            if self.verbose:\n",
    "                print(f\"Model improved; checkpoint saved at loss {val_loss:.4f}\")\n",
    "        else:\n",
    "            self.no_improvement_count += 1\n",
    "            if self.no_improvement_count >= self.patience:\n",
    "                print(\"Early stopping triggered.\")\n",
    "                return True  # Signal to stop training\n",
    "        return False"
   ]
  },
  {
   "cell_type": "code",
   "execution_count": 12,
   "metadata": {
    "execution": {
     "iopub.execute_input": "2025-09-03T16:36:51.286995Z",
     "iopub.status.busy": "2025-09-03T16:36:51.286797Z",
     "iopub.status.idle": "2025-09-03T16:36:52.402551Z",
     "shell.execute_reply": "2025-09-03T16:36:52.401789Z",
     "shell.execute_reply.started": "2025-09-03T16:36:51.286980Z"
    },
    "trusted": true
   },
   "outputs": [],
   "source": [
    "learning_rate = 1e-3# - 1e-6\n",
    "num_epochs = 50\n",
    "\n",
    "early_stopper = EarlyStopping(model=model, patience=5, path='./model4.pt', delta=1e-4, verbose=0)\n",
    "criterion = nn.CrossEntropyLoss()\n",
    "optimizer = optim.AdamW(model.parameters(), lr=learning_rate)\n",
    "scheduler = optim.lr_scheduler.StepLR(optimizer, step_size=20, gamma=0.5)"
   ]
  },
  {
   "cell_type": "code",
   "execution_count": 13,
   "metadata": {
    "execution": {
     "iopub.execute_input": "2025-09-03T16:36:52.403820Z",
     "iopub.status.busy": "2025-09-03T16:36:52.403387Z"
    },
    "trusted": true
   },
   "outputs": [
    {
     "name": "stderr",
     "output_type": "stream",
     "text": [
      "                                                             \r"
     ]
    },
    {
     "name": "stdout",
     "output_type": "stream",
     "text": [
      "Epoch [1/50], Loss: 0.51814, Val Loss: 0.49428\n"
     ]
    },
    {
     "name": "stderr",
     "output_type": "stream",
     "text": [
      "                                                             \r"
     ]
    },
    {
     "name": "stdout",
     "output_type": "stream",
     "text": [
      "Epoch [2/50], Loss: 0.49809, Val Loss: 0.49611\n"
     ]
    },
    {
     "name": "stderr",
     "output_type": "stream",
     "text": [
      "                                                             \r"
     ]
    },
    {
     "name": "stdout",
     "output_type": "stream",
     "text": [
      "Epoch [3/50], Loss: 0.48564, Val Loss: 0.47342\n"
     ]
    },
    {
     "name": "stderr",
     "output_type": "stream",
     "text": [
      "                                                             \r"
     ]
    },
    {
     "name": "stdout",
     "output_type": "stream",
     "text": [
      "Epoch [4/50], Loss: 0.46838, Val Loss: 0.47113\n"
     ]
    },
    {
     "name": "stderr",
     "output_type": "stream",
     "text": [
      "                                                             \r"
     ]
    },
    {
     "name": "stdout",
     "output_type": "stream",
     "text": [
      "Epoch [5/50], Loss: 0.45763, Val Loss: 0.45946\n"
     ]
    },
    {
     "name": "stderr",
     "output_type": "stream",
     "text": [
      "                                                             \r"
     ]
    },
    {
     "name": "stdout",
     "output_type": "stream",
     "text": [
      "Epoch [6/50], Loss: 0.44056, Val Loss: 0.45816\n"
     ]
    },
    {
     "name": "stderr",
     "output_type": "stream",
     "text": [
      "                                                             \r"
     ]
    },
    {
     "name": "stdout",
     "output_type": "stream",
     "text": [
      "Epoch [7/50], Loss: 0.42280, Val Loss: 0.51079\n"
     ]
    },
    {
     "name": "stderr",
     "output_type": "stream",
     "text": [
      "                                                             \r"
     ]
    },
    {
     "name": "stdout",
     "output_type": "stream",
     "text": [
      "Epoch [8/50], Loss: 0.41893, Val Loss: 0.44514\n"
     ]
    },
    {
     "name": "stderr",
     "output_type": "stream",
     "text": [
      "                                                             \r"
     ]
    },
    {
     "name": "stdout",
     "output_type": "stream",
     "text": [
      "Epoch [9/50], Loss: 0.40278, Val Loss: 0.44116\n"
     ]
    },
    {
     "name": "stderr",
     "output_type": "stream",
     "text": [
      "                                                              \r"
     ]
    },
    {
     "name": "stdout",
     "output_type": "stream",
     "text": [
      "Epoch [10/50], Loss: 0.38568, Val Loss: 0.46750\n"
     ]
    },
    {
     "name": "stderr",
     "output_type": "stream",
     "text": [
      "                                                              \r"
     ]
    },
    {
     "name": "stdout",
     "output_type": "stream",
     "text": [
      "Epoch [11/50], Loss: 0.38593, Val Loss: 0.44085\n"
     ]
    },
    {
     "name": "stderr",
     "output_type": "stream",
     "text": [
      "                                                              \r"
     ]
    },
    {
     "name": "stdout",
     "output_type": "stream",
     "text": [
      "Epoch [12/50], Loss: 0.34898, Val Loss: 0.41697\n"
     ]
    },
    {
     "name": "stderr",
     "output_type": "stream",
     "text": [
      "                                                              \r"
     ]
    },
    {
     "name": "stdout",
     "output_type": "stream",
     "text": [
      "Epoch [13/50], Loss: 0.33494, Val Loss: 0.58847\n"
     ]
    },
    {
     "name": "stderr",
     "output_type": "stream",
     "text": [
      "                                                              \r"
     ]
    },
    {
     "name": "stdout",
     "output_type": "stream",
     "text": [
      "Epoch [14/50], Loss: 0.32916, Val Loss: 0.41053\n"
     ]
    },
    {
     "name": "stderr",
     "output_type": "stream",
     "text": [
      "                                                              \r"
     ]
    },
    {
     "name": "stdout",
     "output_type": "stream",
     "text": [
      "Epoch [15/50], Loss: 0.29254, Val Loss: 0.68906\n"
     ]
    },
    {
     "name": "stderr",
     "output_type": "stream",
     "text": [
      "                                                              \r"
     ]
    },
    {
     "name": "stdout",
     "output_type": "stream",
     "text": [
      "Epoch [16/50], Loss: 0.29604, Val Loss: 0.59250\n"
     ]
    },
    {
     "name": "stderr",
     "output_type": "stream",
     "text": [
      "                                                              \r"
     ]
    },
    {
     "name": "stdout",
     "output_type": "stream",
     "text": [
      "Epoch [17/50], Loss: 0.27547, Val Loss: 0.56887\n"
     ]
    },
    {
     "name": "stderr",
     "output_type": "stream",
     "text": [
      "                                                              \r"
     ]
    },
    {
     "name": "stdout",
     "output_type": "stream",
     "text": [
      "Epoch [18/50], Loss: 0.24675, Val Loss: 0.59367\n"
     ]
    },
    {
     "name": "stderr",
     "output_type": "stream",
     "text": [
      "                                                              \r"
     ]
    },
    {
     "name": "stdout",
     "output_type": "stream",
     "text": [
      "Epoch [19/50], Loss: 0.22906, Val Loss: 0.53722\n"
     ]
    },
    {
     "name": "stderr",
     "output_type": "stream",
     "text": [
      "                                                              \r"
     ]
    },
    {
     "name": "stdout",
     "output_type": "stream",
     "text": [
      "Epoch [20/50], Loss: 0.21116, Val Loss: 0.57021\n"
     ]
    },
    {
     "name": "stderr",
     "output_type": "stream",
     "text": [
      "                                                              \r"
     ]
    },
    {
     "name": "stdout",
     "output_type": "stream",
     "text": [
      "Epoch [21/50], Loss: 0.17287, Val Loss: 0.63890\n"
     ]
    },
    {
     "name": "stderr",
     "output_type": "stream",
     "text": [
      "                                                              \r"
     ]
    },
    {
     "name": "stdout",
     "output_type": "stream",
     "text": [
      "Epoch [22/50], Loss: 0.14307, Val Loss: 0.61892\n"
     ]
    },
    {
     "name": "stderr",
     "output_type": "stream",
     "text": [
      "                                                              \r"
     ]
    },
    {
     "name": "stdout",
     "output_type": "stream",
     "text": [
      "Epoch [23/50], Loss: 0.14999, Val Loss: 0.60178\n"
     ]
    },
    {
     "name": "stderr",
     "output_type": "stream",
     "text": [
      "                                                              \r"
     ]
    },
    {
     "name": "stdout",
     "output_type": "stream",
     "text": [
      "Epoch [24/50], Loss: 0.12978, Val Loss: 1.11013\n"
     ]
    },
    {
     "name": "stderr",
     "output_type": "stream",
     "text": [
      "                                                              \r"
     ]
    },
    {
     "name": "stdout",
     "output_type": "stream",
     "text": [
      "Epoch [25/50], Loss: 0.13272, Val Loss: 0.65273\n"
     ]
    },
    {
     "name": "stderr",
     "output_type": "stream",
     "text": [
      "                                                              \r"
     ]
    },
    {
     "name": "stdout",
     "output_type": "stream",
     "text": [
      "Epoch [26/50], Loss: 0.11311, Val Loss: 0.74781\n"
     ]
    },
    {
     "name": "stderr",
     "output_type": "stream",
     "text": [
      "                                                              \r"
     ]
    },
    {
     "name": "stdout",
     "output_type": "stream",
     "text": [
      "Epoch [27/50], Loss: 0.09672, Val Loss: 0.71872\n"
     ]
    },
    {
     "name": "stderr",
     "output_type": "stream",
     "text": [
      "                                                              \r"
     ]
    },
    {
     "name": "stdout",
     "output_type": "stream",
     "text": [
      "Epoch [28/50], Loss: 0.10579, Val Loss: 0.77443\n"
     ]
    },
    {
     "name": "stderr",
     "output_type": "stream",
     "text": [
      "                                                              \r"
     ]
    },
    {
     "name": "stdout",
     "output_type": "stream",
     "text": [
      "Epoch [29/50], Loss: 0.10621, Val Loss: 0.85215\n"
     ]
    },
    {
     "name": "stderr",
     "output_type": "stream",
     "text": [
      "                                                              \r"
     ]
    },
    {
     "name": "stdout",
     "output_type": "stream",
     "text": [
      "Epoch [30/50], Loss: 0.11382, Val Loss: 0.94337\n"
     ]
    },
    {
     "name": "stderr",
     "output_type": "stream",
     "text": [
      "                                                              \r"
     ]
    },
    {
     "name": "stdout",
     "output_type": "stream",
     "text": [
      "Epoch [31/50], Loss: 0.08891, Val Loss: 0.96742\n"
     ]
    },
    {
     "name": "stderr",
     "output_type": "stream",
     "text": [
      "                                                              \r"
     ]
    },
    {
     "name": "stdout",
     "output_type": "stream",
     "text": [
      "Epoch [32/50], Loss: 0.08716, Val Loss: 0.80998\n"
     ]
    },
    {
     "name": "stderr",
     "output_type": "stream",
     "text": [
      "                                                              \r"
     ]
    },
    {
     "name": "stdout",
     "output_type": "stream",
     "text": [
      "Epoch [33/50], Loss: 0.06915, Val Loss: 1.52058\n"
     ]
    },
    {
     "name": "stderr",
     "output_type": "stream",
     "text": [
      "                                                              \r"
     ]
    },
    {
     "name": "stdout",
     "output_type": "stream",
     "text": [
      "Epoch [34/50], Loss: 0.08849, Val Loss: 1.21537\n"
     ]
    },
    {
     "name": "stderr",
     "output_type": "stream",
     "text": [
      "                                                              \r"
     ]
    },
    {
     "name": "stdout",
     "output_type": "stream",
     "text": [
      "Epoch [35/50], Loss: 0.07429, Val Loss: 0.89031\n"
     ]
    },
    {
     "name": "stderr",
     "output_type": "stream",
     "text": [
      "                                                              \r"
     ]
    },
    {
     "name": "stdout",
     "output_type": "stream",
     "text": [
      "Epoch [36/50], Loss: 0.06241, Val Loss: 1.06912\n"
     ]
    },
    {
     "name": "stderr",
     "output_type": "stream",
     "text": [
      "                                                              \r"
     ]
    },
    {
     "name": "stdout",
     "output_type": "stream",
     "text": [
      "Epoch [37/50], Loss: 0.09949, Val Loss: 0.80411\n"
     ]
    },
    {
     "name": "stderr",
     "output_type": "stream",
     "text": [
      "                                                              \r"
     ]
    },
    {
     "name": "stdout",
     "output_type": "stream",
     "text": [
      "Epoch [38/50], Loss: 0.06287, Val Loss: 1.15107\n"
     ]
    },
    {
     "name": "stderr",
     "output_type": "stream",
     "text": [
      "                                                              \r"
     ]
    },
    {
     "name": "stdout",
     "output_type": "stream",
     "text": [
      "Epoch [39/50], Loss: 0.06214, Val Loss: 1.32693\n"
     ]
    },
    {
     "name": "stderr",
     "output_type": "stream",
     "text": [
      "                                                              \r"
     ]
    },
    {
     "name": "stdout",
     "output_type": "stream",
     "text": [
      "Epoch [40/50], Loss: 0.06295, Val Loss: 1.27381\n"
     ]
    },
    {
     "name": "stderr",
     "output_type": "stream",
     "text": [
      "                                                              \r"
     ]
    },
    {
     "name": "stdout",
     "output_type": "stream",
     "text": [
      "Epoch [41/50], Loss: 0.03497, Val Loss: 1.25987\n"
     ]
    },
    {
     "name": "stderr",
     "output_type": "stream",
     "text": [
      "                                                              \r"
     ]
    },
    {
     "name": "stdout",
     "output_type": "stream",
     "text": [
      "Epoch [42/50], Loss: 0.02892, Val Loss: 1.35902\n"
     ]
    },
    {
     "name": "stderr",
     "output_type": "stream",
     "text": [
      "                                                              \r"
     ]
    },
    {
     "name": "stdout",
     "output_type": "stream",
     "text": [
      "Epoch [43/50], Loss: 0.02752, Val Loss: 1.38847\n"
     ]
    },
    {
     "name": "stderr",
     "output_type": "stream",
     "text": [
      "                                                              \r"
     ]
    },
    {
     "name": "stdout",
     "output_type": "stream",
     "text": [
      "Epoch [44/50], Loss: 0.03668, Val Loss: 1.44127\n"
     ]
    },
    {
     "name": "stderr",
     "output_type": "stream",
     "text": [
      "                                                              \r"
     ]
    },
    {
     "name": "stdout",
     "output_type": "stream",
     "text": [
      "Epoch [45/50], Loss: 0.03225, Val Loss: 1.42933\n"
     ]
    },
    {
     "name": "stderr",
     "output_type": "stream",
     "text": [
      "                                                              \r"
     ]
    },
    {
     "name": "stdout",
     "output_type": "stream",
     "text": [
      "Epoch [46/50], Loss: 0.03138, Val Loss: 1.53653\n"
     ]
    },
    {
     "name": "stderr",
     "output_type": "stream",
     "text": [
      "                                                              \r"
     ]
    },
    {
     "name": "stdout",
     "output_type": "stream",
     "text": [
      "Epoch [47/50], Loss: 0.02298, Val Loss: 1.65862\n"
     ]
    },
    {
     "name": "stderr",
     "output_type": "stream",
     "text": [
      "                                                              \r"
     ]
    },
    {
     "name": "stdout",
     "output_type": "stream",
     "text": [
      "Epoch [48/50], Loss: 0.02344, Val Loss: 1.75679\n"
     ]
    },
    {
     "name": "stderr",
     "output_type": "stream",
     "text": [
      "                                                              \r"
     ]
    },
    {
     "name": "stdout",
     "output_type": "stream",
     "text": [
      "Epoch [49/50], Loss: 0.03085, Val Loss: 1.57643\n"
     ]
    },
    {
     "name": "stderr",
     "output_type": "stream",
     "text": [
      "                                                              \r"
     ]
    },
    {
     "name": "stdout",
     "output_type": "stream",
     "text": [
      "Epoch [50/50], Loss: 0.03003, Val Loss: 1.85216\n"
     ]
    }
   ],
   "source": [
    "train_losses = []\n",
    "val_losses = []\n",
    "\n",
    "for epoch in range(num_epochs):\n",
    "    # Training phase\n",
    "    model.train()\n",
    "    running_loss = 0.0\n",
    "    loop = tqdm(train_loader, desc=f\"Epoch [{epoch+1}/{num_epochs}]\", leave=False)\n",
    "    for images, labels in loop:\n",
    "        images, labels = images.to(device), labels.to(device)\n",
    "        optimizer.zero_grad()\n",
    "        outputs = model(images)\n",
    "        loss = criterion(outputs, labels)\n",
    "        loss.backward()\n",
    "        optimizer.step()\n",
    "        \n",
    "        running_loss += loss.item()\n",
    "    \n",
    "    train_loss = running_loss / len(train_loader)\n",
    "    # Validation phase\n",
    "    model.eval()\n",
    "\n",
    "    running_loss = 0.0\n",
    "    with torch.no_grad():\n",
    "        for images, labels in val_loader:\n",
    "            images, labels = images.to(device), labels.to(device)\n",
    "            outputs = model(images)\n",
    "            loss = criterion(outputs, labels)\n",
    "            running_loss += loss.item()\n",
    "    \n",
    "    val_loss = running_loss / len(val_loader)\n",
    "    train_losses.append(train_loss)\n",
    "    val_losses.append(val_loss)\n",
    "    \n",
    "    scheduler.step()\n",
    "    \n",
    "    print(f'Epoch [{epoch+1}/{num_epochs}], Loss: {train_loss:.5f}, Val Loss: {val_loss:.5f}')\n",
    "\n",
    "    # if early_stopper.check_early_stop(val_loss):\n",
    "    #     print(f\"Stopping training at epoch {epoch+1}\")\n",
    "    #     break"
   ]
  },
  {
   "cell_type": "markdown",
   "metadata": {},
   "source": [
    "### Model Evaluation"
   ]
  },
  {
   "cell_type": "code",
   "execution_count": 14,
   "metadata": {
    "trusted": true
   },
   "outputs": [],
   "source": [
    "all_preds = []\n",
    "all_labels = []\n",
    "\n",
    "with torch.no_grad():\n",
    "    for images, labels in test_loader:\n",
    "        images, labels = images.to(device), labels.to(device)\n",
    "        outputs = model(images)\n",
    "        _, predicted = torch.max(outputs, 1)\n",
    "        # _, labels = torch.max(labels, 1)\n",
    "        all_preds.extend(predicted.cpu().numpy())\n",
    "        all_labels.extend(labels.cpu().numpy())"
   ]
  },
  {
   "cell_type": "code",
   "execution_count": 15,
   "metadata": {
    "trusted": true
   },
   "outputs": [
    {
     "name": "stdout",
     "output_type": "stream",
     "text": [
      "              precision    recall  f1-score   support\n",
      "\n",
      "           0       0.85      0.94      0.89       586\n",
      "           1       0.55      0.31      0.40       142\n",
      "\n",
      "    accuracy                           0.82       728\n",
      "   macro avg       0.70      0.62      0.64       728\n",
      "weighted avg       0.79      0.82      0.79       728\n",
      "\n"
     ]
    }
   ],
   "source": [
    "print(classification_report(y_pred=all_preds, y_true=all_labels))"
   ]
  },
  {
   "cell_type": "code",
   "execution_count": 16,
   "metadata": {
    "trusted": true
   },
   "outputs": [
    {
     "data": {
      "image/png": "[encoded data removed]",
      "text/plain": [
       "<Figure size 800x600 with 1 Axes>"
      ]
     },
     "metadata": {},
     "output_type": "display_data"
    }
   ],
   "source": [
    "epochs = range(1, len(train_losses) + 1)\n",
    "    \n",
    "plt.figure(figsize=(8, 6))\n",
    "plt.plot(epochs, train_losses, label='Training Loss')\n",
    "plt.plot(epochs, val_losses, label='Validation Loss')\n",
    "\n",
    "plt.xlabel('Epochs')\n",
    "plt.ylabel('Loss')\n",
    "plt.title('Training and Validation Loss Over Epochs')\n",
    "plt.legend()\n",
    "plt.grid(True)\n",
    "plt.show()"
   ]
  },
  {
   "cell_type": "code",
   "execution_count": 17,
   "metadata": {},
   "outputs": [
    {
     "data": {
      "image/png": "[encoded data removed]",
      "text/plain": [
       "<Figure size 600x400 with 2 Axes>"
      ]
     },
     "metadata": {},
     "output_type": "display_data"
    }
   ],
   "source": [
    "cm = confusion_matrix(all_labels, all_preds)\n",
    "\n",
    "target_names = ['Susceptible', 'Resistant']\n",
    "plt.figure(figsize=(6,4))\n",
    "sns.heatmap(cm, annot=True, fmt=\"d\", cmap=\"Blues\",\n",
    "            xticklabels=target_names, yticklabels=target_names)\n",
    "plt.xlabel(\"Predicted\")\n",
    "plt.ylabel(\"Actual\")\n",
    "plt.title(f'Confusion Matrix for \"{antibiotic}\"')\n",
    "plt.show()"
   ]
  },
  {
   "cell_type": "code",
   "execution_count": 20,
   "metadata": {},
   "outputs": [
    {
     "name": "stdout",
     "output_type": "stream",
     "text": [
      "AUROC: 0.6242,\n",
      "AUPRC: 0.3050\n"
     ]
    }
   ],
   "source": [
    "from sklearn.metrics import (\n",
    "    average_precision_score,\n",
    "    roc_auc_score,\n",
    ")\n",
    "\n",
    "auc = roc_auc_score(all_labels, all_preds)\n",
    "aucpr = average_precision_score(all_labels, all_preds)\n",
    "print(f\"AUROC: {auc:0.4f},\\nAUPRC: {aucpr:0.4f}\")"
   ]
  }
 ],
 "metadata": {
  "kaggle": {
   "accelerator": "nvidiaTeslaT4",
   "dataSources": [],
   "dockerImageVersionId": 31090,
   "isGpuEnabled": true,
   "isInternetEnabled": true,
   "language": "python",
   "sourceType": "notebook"
  },
  "kernelspec": {
   "display_name": "torch",
   "language": "python",
   "name": "python3"
  },
  "language_info": {
   "codemirror_mode": {
    "name": "ipython",
    "version": 3
   },
   "file_extension": ".py",
   "mimetype": "text/x-python",
   "name": "python",
   "nbconvert_exporter": "python",
   "pygments_lexer": "ipython3",
   "version": "3.11.13"
  }
 },
 "nbformat": 4,
 "nbformat_minor": 4
}
