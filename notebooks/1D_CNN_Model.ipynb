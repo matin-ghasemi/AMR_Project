{
  "cells": [
    {
      "cell_type": "markdown",
      "id": "c3c14dda",
      "metadata": {},
      "source": [
        "## Introduction\n",
        "This notebook delves into deep learning by implementing a 1D Convolutional Neural Network (1D CNN) model, inspired by the MSDeepAMR architecture.  A key aspect of this work is addressing the problem as a multilabel task, which allows the model to capture the correlations between different antibiotic resistance profiles. The notebook evaluates how this advanced model performs compared to the classic baseline, particularly in the presence of imbalanced data, demonstrating its potential to improve predictive accuracy."
      ]
    },
    {
      "cell_type": "markdown",
      "id": "48e24395",
      "metadata": {
        "id": "48e24395"
      },
      "source": [
        "### Data Preparation"
      ]
    },
    {
      "cell_type": "code",
      "execution_count": null,
      "id": "c467151a",
      "metadata": {
        "id": "c467151a"
      },
      "outputs": [],
      "source": [
        "import numpy as np\n",
        "import matplotlib.pyplot as plt\n",
        "import seaborn as sns\n",
        "import pandas as pd\n",
        "import os\n",
        "import sklearn\n",
        "from sklearn.model_selection import train_test_split\n",
        "from sklearn.metrics import confusion_matrix,classification_report,ConfusionMatrixDisplay, balanced_accuracy_score\n",
        "from sklearn.preprocessing import Normalizer\n",
        "import tensorflow as tf\n",
        "from tensorflow import keras\n",
        "from keras import regularizers\n",
        "from keras.optimizers import Adam\n",
        "from keras.callbacks import ReduceLROnPlateau, EarlyStopping\n",
        "from keras.models import Sequential\n",
        "from keras.layers import Activation, Dense, Conv1D, Flatten, MaxPooling1D, Dropout, BatchNormalization\n",
        "\n",
        "from sklearn.metrics import (\n",
        "    average_precision_score,\n",
        "    roc_auc_score,\n",
        ")\n",
        "\n",
        "import warnings\n",
        "warnings.filterwarnings('ignore')"
      ]
    },
    {
      "cell_type": "markdown",
      "id": "fb8f1df6",
      "metadata": {
        "id": "fb8f1df6"
      },
      "source": [
        "Load Dataset"
      ]
    },
    {
      "cell_type": "code",
      "execution_count": null,
      "id": "71b3eee2",
      "metadata": {
        "id": "71b3eee2"
      },
      "outputs": [],
      "source": [
        "if os.path.exists('../data/e_coli_driams_a_bin3_2000_20000Da.csv'):\n",
        "    df = pd.read_csv('../data/e_coli_driams_a_bin3_2000_20000Da.csv')\n",
        "else:\n",
        "    df = pd.read_csv('https://media.githubusercontent.com/media/xlopez-ml/DL-AMR/master/datasets/driams_a/s_aureus_driams_a_bin3_2000_20000Da.csv')"
      ]
    },
    {
      "cell_type": "code",
      "execution_count": null,
      "id": "986437da",
      "metadata": {
        "colab": {
          "base_uri": "https://localhost:8080/",
          "height": 533
        },
        "id": "986437da",
        "outputId": "ba8b7791-692d-4d85-e707-5fee17f4482a"
      },
      "outputs": [
        {
          "data": {
            "application/vnd.google.colaboratory.intrinsic+json": {
              "type": "dataframe",
              "variable_name": "df"
            },
            "text/html": [
              "\n",
              "  <div id=\"df-3735b127-87d6-4108-aefe-6e6ba9ffef3f\" class=\"colab-df-container\">\n",
              "    <div>\n",
              "<style scoped>\n",
              "    .dataframe tbody tr th:only-of-type {\n",
              "        vertical-align: middle;\n",
              "    }\n",
              "\n",
              "    .dataframe tbody tr th {\n",
              "        vertical-align: top;\n",
              "    }\n",
              "\n",
              "    .dataframe thead th {\n",
              "        text-align: right;\n",
              "    }\n",
              "</style>\n",
              "<table border=\"1\" class=\"dataframe\">\n",
              "  <thead>\n",
              "    <tr style=\"text-align: right;\">\n",
              "      <th></th>\n",
              "      <th>2000</th>\n",
              "      <th>2003</th>\n",
              "      <th>2006</th>\n",
              "      <th>2009</th>\n",
              "      <th>2012</th>\n",
              "      <th>2015</th>\n",
              "      <th>2018</th>\n",
              "      <th>2021</th>\n",
              "      <th>2024</th>\n",
              "      <th>2027</th>\n",
              "      <th>...</th>\n",
              "      <th>19991</th>\n",
              "      <th>19994</th>\n",
              "      <th>19997</th>\n",
              "      <th>code</th>\n",
              "      <th>species</th>\n",
              "      <th>Oxacillin</th>\n",
              "      <th>Clindamycin</th>\n",
              "      <th>Ceftriaxone</th>\n",
              "      <th>Ciprofloxacin</th>\n",
              "      <th>Fusidic acid</th>\n",
              "    </tr>\n",
              "  </thead>\n",
              "  <tbody>\n",
              "    <tr>\n",
              "      <th>0</th>\n",
              "      <td>951.428571</td>\n",
              "      <td>826.125000</td>\n",
              "      <td>944.857143</td>\n",
              "      <td>898.428571</td>\n",
              "      <td>1007.714286</td>\n",
              "      <td>936.000000</td>\n",
              "      <td>828.571429</td>\n",
              "      <td>812.000000</td>\n",
              "      <td>782.714286</td>\n",
              "      <td>741.625000</td>\n",
              "      <td>...</td>\n",
              "      <td>35.5</td>\n",
              "      <td>20.5</td>\n",
              "      <td>27.342857</td>\n",
              "      <td>029f0abf-1664-424f-88cb-11c9c8af2b11</td>\n",
              "      <td>Staphylococcus aureus</td>\n",
              "      <td>0.0</td>\n",
              "      <td>0.0</td>\n",
              "      <td>0.0</td>\n",
              "      <td>0.0</td>\n",
              "      <td>1.0</td>\n",
              "    </tr>\n",
              "    <tr>\n",
              "      <th>1</th>\n",
              "      <td>784.714286</td>\n",
              "      <td>701.125000</td>\n",
              "      <td>681.571429</td>\n",
              "      <td>762.142857</td>\n",
              "      <td>737.571429</td>\n",
              "      <td>733.000000</td>\n",
              "      <td>735.857143</td>\n",
              "      <td>659.571429</td>\n",
              "      <td>802.714286</td>\n",
              "      <td>554.375000</td>\n",
              "      <td>...</td>\n",
              "      <td>30.0</td>\n",
              "      <td>40.5</td>\n",
              "      <td>34.695238</td>\n",
              "      <td>08149af1-10f5-4f02-81d8-3d46d66d4a7a</td>\n",
              "      <td>Staphylococcus aureus</td>\n",
              "      <td>0.0</td>\n",
              "      <td>0.0</td>\n",
              "      <td>0.0</td>\n",
              "      <td>0.0</td>\n",
              "      <td>0.0</td>\n",
              "    </tr>\n",
              "    <tr>\n",
              "      <th>2</th>\n",
              "      <td>50.875000</td>\n",
              "      <td>89.142857</td>\n",
              "      <td>56.142857</td>\n",
              "      <td>151.285714</td>\n",
              "      <td>132.714286</td>\n",
              "      <td>110.428571</td>\n",
              "      <td>47.285714</td>\n",
              "      <td>63.428571</td>\n",
              "      <td>100.375000</td>\n",
              "      <td>52.142857</td>\n",
              "      <td>...</td>\n",
              "      <td>2.5</td>\n",
              "      <td>30.5</td>\n",
              "      <td>11.288462</td>\n",
              "      <td>08fe3876-ecee-4ddc-9aa9-a84f605757f7</td>\n",
              "      <td>Staphylococcus aureus</td>\n",
              "      <td>0.0</td>\n",
              "      <td>0.0</td>\n",
              "      <td>0.0</td>\n",
              "      <td>0.0</td>\n",
              "      <td>0.0</td>\n",
              "    </tr>\n",
              "    <tr>\n",
              "      <th>3</th>\n",
              "      <td>843.285714</td>\n",
              "      <td>816.500000</td>\n",
              "      <td>734.428571</td>\n",
              "      <td>1027.142857</td>\n",
              "      <td>979.428571</td>\n",
              "      <td>875.571429</td>\n",
              "      <td>912.142857</td>\n",
              "      <td>714.428571</td>\n",
              "      <td>945.428571</td>\n",
              "      <td>886.500000</td>\n",
              "      <td>...</td>\n",
              "      <td>15.5</td>\n",
              "      <td>8.0</td>\n",
              "      <td>20.057143</td>\n",
              "      <td>0a9fdd4b-7180-47c0-849e-cb32d46da94c</td>\n",
              "      <td>Staphylococcus aureus</td>\n",
              "      <td>0.0</td>\n",
              "      <td>0.0</td>\n",
              "      <td>0.0</td>\n",
              "      <td>0.0</td>\n",
              "      <td>0.0</td>\n",
              "    </tr>\n",
              "    <tr>\n",
              "      <th>4</th>\n",
              "      <td>307.857143</td>\n",
              "      <td>295.000000</td>\n",
              "      <td>246.714286</td>\n",
              "      <td>181.571429</td>\n",
              "      <td>258.000000</td>\n",
              "      <td>318.714286</td>\n",
              "      <td>295.714286</td>\n",
              "      <td>300.857143</td>\n",
              "      <td>278.142857</td>\n",
              "      <td>256.125000</td>\n",
              "      <td>...</td>\n",
              "      <td>25.5</td>\n",
              "      <td>32.0</td>\n",
              "      <td>24.990476</td>\n",
              "      <td>0d82f4c4-473c-49d8-8c85-e3e36e96d047</td>\n",
              "      <td>Staphylococcus aureus</td>\n",
              "      <td>1.0</td>\n",
              "      <td>0.0</td>\n",
              "      <td>1.0</td>\n",
              "      <td>1.0</td>\n",
              "      <td>0.0</td>\n",
              "    </tr>\n",
              "  </tbody>\n",
              "</table>\n",
              "<p>5 rows × 6007 columns</p>\n",
              "</div>\n",
              "    <div class=\"colab-df-buttons\">\n",
              "\n",
              "  <div class=\"colab-df-container\">\n",
              "    <button class=\"colab-df-convert\" onclick=\"convertToInteractive('df-3735b127-87d6-4108-aefe-6e6ba9ffef3f')\"\n",
              "            title=\"Convert this dataframe to an interactive table.\"\n",
              "            style=\"display:none;\">\n",
              "\n",
              "  <svg xmlns=\"http://www.w3.org/2000/svg\" height=\"24px\" viewBox=\"0 -960 960 960\">\n",
              "    <path d=\"M120-120v-720h720v720H120Zm60-500h600v-160H180v160Zm220 220h160v-160H400v160Zm0 220h160v-160H400v160ZM180-400h160v-160H180v160Zm440 0h160v-160H620v160ZM180-180h160v-160H180v160Zm440 0h160v-160H620v160Z\"/>\n",
              "  </svg>\n",
              "    </button>\n",
              "\n",
              "  <style>\n",
              "    .colab-df-container {\n",
              "      display:flex;\n",
              "      gap: 12px;\n",
              "    }\n",
              "\n",
              "    .colab-df-convert {\n",
              "      background-color: #E8F0FE;\n",
              "      border: none;\n",
              "      border-radius: 50%;\n",
              "      cursor: pointer;\n",
              "      display: none;\n",
              "      fill: #1967D2;\n",
              "      height: 32px;\n",
              "      padding: 0 0 0 0;\n",
              "      width: 32px;\n",
              "    }\n",
              "\n",
              "    .colab-df-convert:hover {\n",
              "      background-color: #E2EBFA;\n",
              "      box-shadow: 0px 1px 2px rgba(60, 64, 67, 0.3), 0px 1px 3px 1px rgba(60, 64, 67, 0.15);\n",
              "      fill: #174EA6;\n",
              "    }\n",
              "\n",
              "    .colab-df-buttons div {\n",
              "      margin-bottom: 4px;\n",
              "    }\n",
              "\n",
              "    [theme=dark] .colab-df-convert {\n",
              "      background-color: #3B4455;\n",
              "      fill: #D2E3FC;\n",
              "    }\n",
              "\n",
              "    [theme=dark] .colab-df-convert:hover {\n",
              "      background-color: #434B5C;\n",
              "      box-shadow: 0px 1px 3px 1px rgba(0, 0, 0, 0.15);\n",
              "      filter: drop-shadow(0px 1px 2px rgba(0, 0, 0, 0.3));\n",
              "      fill: #FFFFFF;\n",
              "    }\n",
              "  </style>\n",
              "\n",
              "    <script>\n",
              "      const buttonEl =\n",
              "        document.querySelector('#df-3735b127-87d6-4108-aefe-6e6ba9ffef3f button.colab-df-convert');\n",
              "      buttonEl.style.display =\n",
              "        google.colab.kernel.accessAllowed ? 'block' : 'none';\n",
              "\n",
              "      async function convertToInteractive(key) {\n",
              "        const element = document.querySelector('#df-3735b127-87d6-4108-aefe-6e6ba9ffef3f');\n",
              "        const dataTable =\n",
              "          await google.colab.kernel.invokeFunction('convertToInteractive',\n",
              "                                                    [key], {});\n",
              "        if (!dataTable) return;\n",
              "\n",
              "        const docLinkHtml = 'Like what you see? Visit the ' +\n",
              "          '<a target=\"_blank\" href=https://colab.research.google.com/notebooks/data_table.ipynb>data table notebook</a>'\n",
              "          + ' to learn more about interactive tables.';\n",
              "        element.innerHTML = '';\n",
              "        dataTable['output_type'] = 'display_data';\n",
              "        await google.colab.output.renderOutput(dataTable, element);\n",
              "        const docLink = document.createElement('div');\n",
              "        docLink.innerHTML = docLinkHtml;\n",
              "        element.appendChild(docLink);\n",
              "      }\n",
              "    </script>\n",
              "  </div>\n",
              "\n",
              "\n",
              "    <div id=\"df-fe76ed80-2e61-48b6-8e81-d91b6a9c3ece\">\n",
              "      <button class=\"colab-df-quickchart\" onclick=\"quickchart('df-fe76ed80-2e61-48b6-8e81-d91b6a9c3ece')\"\n",
              "                title=\"Suggest charts\"\n",
              "                style=\"display:none;\">\n",
              "\n",
              "<svg xmlns=\"http://www.w3.org/2000/svg\" height=\"24px\"viewBox=\"0 0 24 24\"\n",
              "     width=\"24px\">\n",
              "    <g>\n",
              "        <path d=\"M19 3H5c-1.1 0-2 .9-2 2v14c0 1.1.9 2 2 2h14c1.1 0 2-.9 2-2V5c0-1.1-.9-2-2-2zM9 17H7v-7h2v7zm4 0h-2V7h2v10zm4 0h-2v-4h2v4z\"/>\n",
              "    </g>\n",
              "</svg>\n",
              "      </button>\n",
              "\n",
              "<style>\n",
              "  .colab-df-quickchart {\n",
              "      --bg-color: #E8F0FE;\n",
              "      --fill-color: #1967D2;\n",
              "      --hover-bg-color: #E2EBFA;\n",
              "      --hover-fill-color: #174EA6;\n",
              "      --disabled-fill-color: #AAA;\n",
              "      --disabled-bg-color: #DDD;\n",
              "  }\n",
              "\n",
              "  [theme=dark] .colab-df-quickchart {\n",
              "      --bg-color: #3B4455;\n",
              "      --fill-color: #D2E3FC;\n",
              "      --hover-bg-color: #434B5C;\n",
              "      --hover-fill-color: #FFFFFF;\n",
              "      --disabled-bg-color: #3B4455;\n",
              "      --disabled-fill-color: #666;\n",
              "  }\n",
              "\n",
              "  .colab-df-quickchart {\n",
              "    background-color: var(--bg-color);\n",
              "    border: none;\n",
              "    border-radius: 50%;\n",
              "    cursor: pointer;\n",
              "    display: none;\n",
              "    fill: var(--fill-color);\n",
              "    height: 32px;\n",
              "    padding: 0;\n",
              "    width: 32px;\n",
              "  }\n",
              "\n",
              "  .colab-df-quickchart:hover {\n",
              "    background-color: var(--hover-bg-color);\n",
              "    box-shadow: 0 1px 2px rgba(60, 64, 67, 0.3), 0 1px 3px 1px rgba(60, 64, 67, 0.15);\n",
              "    fill: var(--button-hover-fill-color);\n",
              "  }\n",
              "\n",
              "  .colab-df-quickchart-complete:disabled,\n",
              "  .colab-df-quickchart-complete:disabled:hover {\n",
              "    background-color: var(--disabled-bg-color);\n",
              "    fill: var(--disabled-fill-color);\n",
              "    box-shadow: none;\n",
              "  }\n",
              "\n",
              "  .colab-df-spinner {\n",
              "    border: 2px solid var(--fill-color);\n",
              "    border-color: transparent;\n",
              "    border-bottom-color: var(--fill-color);\n",
              "    animation:\n",
              "      spin 1s steps(1) infinite;\n",
              "  }\n",
              "\n",
              "  @keyframes spin {\n",
              "    0% {\n",
              "      border-color: transparent;\n",
              "      border-bottom-color: var(--fill-color);\n",
              "      border-left-color: var(--fill-color);\n",
              "    }\n",
              "    20% {\n",
              "      border-color: transparent;\n",
              "      border-left-color: var(--fill-color);\n",
              "      border-top-color: var(--fill-color);\n",
              "    }\n",
              "    30% {\n",
              "      border-color: transparent;\n",
              "      border-left-color: var(--fill-color);\n",
              "      border-top-color: var(--fill-color);\n",
              "      border-right-color: var(--fill-color);\n",
              "    }\n",
              "    40% {\n",
              "      border-color: transparent;\n",
              "      border-right-color: var(--fill-color);\n",
              "      border-top-color: var(--fill-color);\n",
              "    }\n",
              "    60% {\n",
              "      border-color: transparent;\n",
              "      border-right-color: var(--fill-color);\n",
              "    }\n",
              "    80% {\n",
              "      border-color: transparent;\n",
              "      border-right-color: var(--fill-color);\n",
              "      border-bottom-color: var(--fill-color);\n",
              "    }\n",
              "    90% {\n",
              "      border-color: transparent;\n",
              "      border-bottom-color: var(--fill-color);\n",
              "    }\n",
              "  }\n",
              "</style>\n",
              "\n",
              "      <script>\n",
              "        async function quickchart(key) {\n",
              "          const quickchartButtonEl =\n",
              "            document.querySelector('#' + key + ' button');\n",
              "          quickchartButtonEl.disabled = true;  // To prevent multiple clicks.\n",
              "          quickchartButtonEl.classList.add('colab-df-spinner');\n",
              "          try {\n",
              "            const charts = await google.colab.kernel.invokeFunction(\n",
              "                'suggestCharts', [key], {});\n",
              "          } catch (error) {\n",
              "            console.error('Error during call to suggestCharts:', error);\n",
              "          }\n",
              "          quickchartButtonEl.classList.remove('colab-df-spinner');\n",
              "          quickchartButtonEl.classList.add('colab-df-quickchart-complete');\n",
              "        }\n",
              "        (() => {\n",
              "          let quickchartButtonEl =\n",
              "            document.querySelector('#df-fe76ed80-2e61-48b6-8e81-d91b6a9c3ece button');\n",
              "          quickchartButtonEl.style.display =\n",
              "            google.colab.kernel.accessAllowed ? 'block' : 'none';\n",
              "        })();\n",
              "      </script>\n",
              "    </div>\n",
              "\n",
              "    </div>\n",
              "  </div>\n"
            ],
            "text/plain": [
              "         2000        2003        2006         2009         2012        2015  \\\n",
              "0  951.428571  826.125000  944.857143   898.428571  1007.714286  936.000000   \n",
              "1  784.714286  701.125000  681.571429   762.142857   737.571429  733.000000   \n",
              "2   50.875000   89.142857   56.142857   151.285714   132.714286  110.428571   \n",
              "3  843.285714  816.500000  734.428571  1027.142857   979.428571  875.571429   \n",
              "4  307.857143  295.000000  246.714286   181.571429   258.000000  318.714286   \n",
              "\n",
              "         2018        2021        2024        2027  ...  19991  19994  \\\n",
              "0  828.571429  812.000000  782.714286  741.625000  ...   35.5   20.5   \n",
              "1  735.857143  659.571429  802.714286  554.375000  ...   30.0   40.5   \n",
              "2   47.285714   63.428571  100.375000   52.142857  ...    2.5   30.5   \n",
              "3  912.142857  714.428571  945.428571  886.500000  ...   15.5    8.0   \n",
              "4  295.714286  300.857143  278.142857  256.125000  ...   25.5   32.0   \n",
              "\n",
              "       19997                                  code                species  \\\n",
              "0  27.342857  029f0abf-1664-424f-88cb-11c9c8af2b11  Staphylococcus aureus   \n",
              "1  34.695238  08149af1-10f5-4f02-81d8-3d46d66d4a7a  Staphylococcus aureus   \n",
              "2  11.288462  08fe3876-ecee-4ddc-9aa9-a84f605757f7  Staphylococcus aureus   \n",
              "3  20.057143  0a9fdd4b-7180-47c0-849e-cb32d46da94c  Staphylococcus aureus   \n",
              "4  24.990476  0d82f4c4-473c-49d8-8c85-e3e36e96d047  Staphylococcus aureus   \n",
              "\n",
              "   Oxacillin  Clindamycin  Ceftriaxone  Ciprofloxacin  Fusidic acid  \n",
              "0        0.0          0.0          0.0            0.0           1.0  \n",
              "1        0.0          0.0          0.0            0.0           0.0  \n",
              "2        0.0          0.0          0.0            0.0           0.0  \n",
              "3        0.0          0.0          0.0            0.0           0.0  \n",
              "4        1.0          0.0          1.0            1.0           0.0  \n",
              "\n",
              "[5 rows x 6007 columns]"
            ]
          },
          "execution_count": 3,
          "metadata": {},
          "output_type": "execute_result"
        }
      ],
      "source": [
        "df.head()"
      ]
    },
    {
      "cell_type": "code",
      "execution_count": null,
      "id": "TwVAHXZaZNkr",
      "metadata": {
        "id": "TwVAHXZaZNkr"
      },
      "outputs": [],
      "source": [
        "df = df.rename(columns={'Fusidic acid': 'Fusidic_acid'})"
      ]
    },
    {
      "cell_type": "code",
      "execution_count": null,
      "id": "026ed996",
      "metadata": {
        "colab": {
          "base_uri": "https://localhost:8080/"
        },
        "id": "026ed996",
        "outputId": "17b2ba4c-7c8e-46ab-8961-a61b5038983c"
      },
      "outputs": [
        {
          "data": {
            "text/plain": [
              "['Oxacillin', 'Clindamycin', 'Ceftriaxone', 'Ciprofloxacin', 'Fusidic_acid']"
            ]
          },
          "execution_count": 5,
          "metadata": {},
          "output_type": "execute_result"
        }
      ],
      "source": [
        "antibiotics = df.columns[-5:].to_list()\n",
        "antibiotics"
      ]
    },
    {
      "cell_type": "code",
      "execution_count": null,
      "id": "a32767ef",
      "metadata": {
        "id": "a32767ef"
      },
      "outputs": [],
      "source": [
        "def create_dataset(df, antibiotic, max_length):\n",
        "    antibiotic_df = df.iloc[:, :max_length].join(df[antibiotic])\n",
        "    antibiotic_df = antibiotic_df.dropna(how='any').reset_index(drop=True)\n",
        "\n",
        "    X = antibiotic_df.iloc[:, 0:6000].values\n",
        "    y = antibiotic_df.iloc[:, 6000:].values\n",
        "\n",
        "    X = np.asarray(X).astype(np.float32)\n",
        "    y = np.asarray(y).astype(np.float32)\n",
        "\n",
        "    X_train, X_test, y_train, y_test = train_test_split(X, y, test_size = 0.2, random_state = 0, stratify=y)\n",
        "\n",
        "    scaler=Normalizer(norm='max')\n",
        "    sc_X = scaler\n",
        "    X_train = sc_X.fit_transform(X_train)\n",
        "    X_test = sc_X.transform(X_test)\n",
        "\n",
        "    sample_size = X_train.shape[0]\n",
        "    time_steps  = X_train.shape[1]\n",
        "    input_dimension = 1\n",
        "\n",
        "    X_train_reshaped = X_train.reshape(sample_size,time_steps,input_dimension)\n",
        "    X_test_reshaped = X_test.reshape(X_test.shape[0],X_test.shape[1],1)\n",
        "\n",
        "    return X_train_reshaped, X_test_reshaped, y_train, y_test"
      ]
    },
    {
      "cell_type": "markdown",
      "id": "b129b6f8",
      "metadata": {
        "id": "b129b6f8"
      },
      "source": [
        "Set Antibiotic"
      ]
    },
    {
      "cell_type": "code",
      "execution_count": null,
      "id": "b62fce25",
      "metadata": {
        "id": "b62fce25"
      },
      "outputs": [],
      "source": [
        "antibiotic = antibiotics[0]\n",
        "\n",
        "X_train, X_test, y_train, y_test = create_dataset(df, antibiotic, 6000)"
      ]
    },
    {
      "cell_type": "markdown",
      "id": "4a1c53b2",
      "metadata": {
        "id": "4a1c53b2"
      },
      "source": [
        "### Create Model"
      ]
    },
    {
      "cell_type": "code",
      "execution_count": null,
      "id": "b431cf96",
      "metadata": {
        "id": "b431cf96"
      },
      "outputs": [],
      "source": [
        "def create_model(name, n_features, n_timesteps, n_targets):\n",
        "    METRICS = [\n",
        "      keras.metrics.TruePositives(name='tp'),\n",
        "      keras.metrics.FalsePositives(name='fp'),\n",
        "      keras.metrics.TrueNegatives(name='tn'),\n",
        "      keras.metrics.FalseNegatives(name='fn'),\n",
        "      keras.metrics.BinaryAccuracy(name='accuracy'),\n",
        "      keras.metrics.Precision(name='precision'),\n",
        "      keras.metrics.Recall(name='recall'),\n",
        "      keras.metrics.AUC(name='auc'),\n",
        "      keras.metrics.AUC(name='prc', curve='PR'), # precision-recall curve\n",
        "    ]\n",
        "\n",
        "    model = Sequential(name=name)\n",
        "    init_mode = 'normal'\n",
        "    model.add(Conv1D(filters=(64), kernel_size=(17), input_shape = (n_timesteps,n_features), name='Conv_1'))\n",
        "    model.add(BatchNormalization())\n",
        "    model.add(Activation('relu'))\n",
        "    model.add(MaxPooling1D(pool_size=2, name=\"MaxPooling1D_1\"))\n",
        "\n",
        "    model.add(Conv1D(filters=(128), kernel_size=(9),kernel_initializer=init_mode, kernel_regularizer=regularizers.l2(0.0001),  name='Conv_2'))\n",
        "    model.add(BatchNormalization())\n",
        "    model.add(Activation('relu'))\n",
        "    model.add(MaxPooling1D(pool_size=2, name=\"MaxPooling1D_2\"))\n",
        "\n",
        "    model.add(Conv1D(filters=(256), kernel_size=(5),kernel_initializer=init_mode,kernel_regularizer=regularizers.l2(0.0001),   name='Conv_3'))\n",
        "    model.add(BatchNormalization())\n",
        "    model.add(Activation('relu'))\n",
        "    model.add(MaxPooling1D(pool_size=2, name=\"MaxPooling1D_3\"))\n",
        "\n",
        "    model.add(Conv1D(filters=(256), kernel_size=(5),kernel_initializer=init_mode, kernel_regularizer=regularizers.l2(0.0001),   name='Conv_4'))\n",
        "    model.add(BatchNormalization())\n",
        "    model.add(Activation('relu'))\n",
        "    model.add(MaxPooling1D(pool_size=2, name=\"MaxPooling1D_4\"))\n",
        "\n",
        "    model.add(Flatten())\n",
        "    model.add(Dropout(0.65))\n",
        "    model.add(Dense(256, activation='relu',kernel_initializer=init_mode, kernel_regularizer=regularizers.l2(0.0001), name=\"fully_connected_0\"))\n",
        "    model.add(Dense(64, activation='relu',kernel_initializer=init_mode, kernel_regularizer=regularizers.l2(0.0001), name=\"fully_connected_1\"))\n",
        "    model.add(Dense(64, activation='relu',kernel_initializer=init_mode, kernel_regularizer=regularizers.l2(0.0001),  name=\"fully_connected_2\"))\n",
        "    model.add(Dense(n_targets, activation='sigmoid', name=\"OUT_Layer\"))\n",
        "\n",
        "    model.compile(optimizer = Adam(learning_rate=0.0001), loss = 'binary_crossentropy',  metrics=METRICS)\n",
        "\n",
        "    return model"
      ]
    },
    {
      "cell_type": "code",
      "execution_count": null,
      "id": "038c0e26",
      "metadata": {
        "colab": {
          "base_uri": "https://localhost:8080/",
          "height": 897
        },
        "id": "038c0e26",
        "outputId": "f7cfb622-18eb-46f0-97d6-f8318ab363c1"
      },
      "outputs": [
        {
          "data": {
            "text/html": [
              "<pre style=\"white-space:pre;overflow-x:auto;line-height:normal;font-family:Menlo,'DejaVu Sans Mono',consolas,'Courier New',monospace\"><span style=\"font-weight: bold\">Model: \"e_coli_Oxacillin_model\"</span>\n",
              "</pre>\n"
            ],
            "text/plain": [
              "\u001b[1mModel: \"e_coli_Oxacillin_model\"\u001b[0m\n"
            ]
          },
          "metadata": {},
          "output_type": "display_data"
        },
        {
          "data": {
            "text/html": [
              "<pre style=\"white-space:pre;overflow-x:auto;line-height:normal;font-family:Menlo,'DejaVu Sans Mono',consolas,'Courier New',monospace\">┏━━━━━━━━━━━━━━━━━━━━━━━━━━━━━━━━━┳━━━━━━━━━━━━━━━━━━━━━━━━┳━━━━━━━━━━━━━━━┓\n",
              "┃<span style=\"font-weight: bold\"> Layer (type)                    </span>┃<span style=\"font-weight: bold\"> Output Shape           </span>┃<span style=\"font-weight: bold\">       Param # </span>┃\n",
              "┡━━━━━━━━━━━━━━━━━━━━━━━━━━━━━━━━━╇━━━━━━━━━━━━━━━━━━━━━━━━╇━━━━━━━━━━━━━━━┩\n",
              "│ Conv_1 (<span style=\"color: #0087ff; text-decoration-color: #0087ff\">Conv1D</span>)                 │ (<span style=\"color: #00d7ff; text-decoration-color: #00d7ff\">None</span>, <span style=\"color: #00af00; text-decoration-color: #00af00\">5984</span>, <span style=\"color: #00af00; text-decoration-color: #00af00\">64</span>)       │         <span style=\"color: #00af00; text-decoration-color: #00af00\">1,152</span> │\n",
              "├─────────────────────────────────┼────────────────────────┼───────────────┤\n",
              "│ batch_normalization             │ (<span style=\"color: #00d7ff; text-decoration-color: #00d7ff\">None</span>, <span style=\"color: #00af00; text-decoration-color: #00af00\">5984</span>, <span style=\"color: #00af00; text-decoration-color: #00af00\">64</span>)       │           <span style=\"color: #00af00; text-decoration-color: #00af00\">256</span> │\n",
              "│ (<span style=\"color: #0087ff; text-decoration-color: #0087ff\">BatchNormalization</span>)            │                        │               │\n",
              "├─────────────────────────────────┼────────────────────────┼───────────────┤\n",
              "│ activation (<span style=\"color: #0087ff; text-decoration-color: #0087ff\">Activation</span>)         │ (<span style=\"color: #00d7ff; text-decoration-color: #00d7ff\">None</span>, <span style=\"color: #00af00; text-decoration-color: #00af00\">5984</span>, <span style=\"color: #00af00; text-decoration-color: #00af00\">64</span>)       │             <span style=\"color: #00af00; text-decoration-color: #00af00\">0</span> │\n",
              "├─────────────────────────────────┼────────────────────────┼───────────────┤\n",
              "│ MaxPooling1D_1 (<span style=\"color: #0087ff; text-decoration-color: #0087ff\">MaxPooling1D</span>)   │ (<span style=\"color: #00d7ff; text-decoration-color: #00d7ff\">None</span>, <span style=\"color: #00af00; text-decoration-color: #00af00\">2992</span>, <span style=\"color: #00af00; text-decoration-color: #00af00\">64</span>)       │             <span style=\"color: #00af00; text-decoration-color: #00af00\">0</span> │\n",
              "├─────────────────────────────────┼────────────────────────┼───────────────┤\n",
              "│ Conv_2 (<span style=\"color: #0087ff; text-decoration-color: #0087ff\">Conv1D</span>)                 │ (<span style=\"color: #00d7ff; text-decoration-color: #00d7ff\">None</span>, <span style=\"color: #00af00; text-decoration-color: #00af00\">2984</span>, <span style=\"color: #00af00; text-decoration-color: #00af00\">128</span>)      │        <span style=\"color: #00af00; text-decoration-color: #00af00\">73,856</span> │\n",
              "├─────────────────────────────────┼────────────────────────┼───────────────┤\n",
              "│ batch_normalization_1           │ (<span style=\"color: #00d7ff; text-decoration-color: #00d7ff\">None</span>, <span style=\"color: #00af00; text-decoration-color: #00af00\">2984</span>, <span style=\"color: #00af00; text-decoration-color: #00af00\">128</span>)      │           <span style=\"color: #00af00; text-decoration-color: #00af00\">512</span> │\n",
              "│ (<span style=\"color: #0087ff; text-decoration-color: #0087ff\">BatchNormalization</span>)            │                        │               │\n",
              "├─────────────────────────────────┼────────────────────────┼───────────────┤\n",
              "│ activation_1 (<span style=\"color: #0087ff; text-decoration-color: #0087ff\">Activation</span>)       │ (<span style=\"color: #00d7ff; text-decoration-color: #00d7ff\">None</span>, <span style=\"color: #00af00; text-decoration-color: #00af00\">2984</span>, <span style=\"color: #00af00; text-decoration-color: #00af00\">128</span>)      │             <span style=\"color: #00af00; text-decoration-color: #00af00\">0</span> │\n",
              "├─────────────────────────────────┼────────────────────────┼───────────────┤\n",
              "│ MaxPooling1D_2 (<span style=\"color: #0087ff; text-decoration-color: #0087ff\">MaxPooling1D</span>)   │ (<span style=\"color: #00d7ff; text-decoration-color: #00d7ff\">None</span>, <span style=\"color: #00af00; text-decoration-color: #00af00\">1492</span>, <span style=\"color: #00af00; text-decoration-color: #00af00\">128</span>)      │             <span style=\"color: #00af00; text-decoration-color: #00af00\">0</span> │\n",
              "├─────────────────────────────────┼────────────────────────┼───────────────┤\n",
              "│ Conv_3 (<span style=\"color: #0087ff; text-decoration-color: #0087ff\">Conv1D</span>)                 │ (<span style=\"color: #00d7ff; text-decoration-color: #00d7ff\">None</span>, <span style=\"color: #00af00; text-decoration-color: #00af00\">1488</span>, <span style=\"color: #00af00; text-decoration-color: #00af00\">256</span>)      │       <span style=\"color: #00af00; text-decoration-color: #00af00\">164,096</span> │\n",
              "├─────────────────────────────────┼────────────────────────┼───────────────┤\n",
              "│ batch_normalization_2           │ (<span style=\"color: #00d7ff; text-decoration-color: #00d7ff\">None</span>, <span style=\"color: #00af00; text-decoration-color: #00af00\">1488</span>, <span style=\"color: #00af00; text-decoration-color: #00af00\">256</span>)      │         <span style=\"color: #00af00; text-decoration-color: #00af00\">1,024</span> │\n",
              "│ (<span style=\"color: #0087ff; text-decoration-color: #0087ff\">BatchNormalization</span>)            │                        │               │\n",
              "├─────────────────────────────────┼────────────────────────┼───────────────┤\n",
              "│ activation_2 (<span style=\"color: #0087ff; text-decoration-color: #0087ff\">Activation</span>)       │ (<span style=\"color: #00d7ff; text-decoration-color: #00d7ff\">None</span>, <span style=\"color: #00af00; text-decoration-color: #00af00\">1488</span>, <span style=\"color: #00af00; text-decoration-color: #00af00\">256</span>)      │             <span style=\"color: #00af00; text-decoration-color: #00af00\">0</span> │\n",
              "├─────────────────────────────────┼────────────────────────┼───────────────┤\n",
              "│ MaxPooling1D_3 (<span style=\"color: #0087ff; text-decoration-color: #0087ff\">MaxPooling1D</span>)   │ (<span style=\"color: #00d7ff; text-decoration-color: #00d7ff\">None</span>, <span style=\"color: #00af00; text-decoration-color: #00af00\">744</span>, <span style=\"color: #00af00; text-decoration-color: #00af00\">256</span>)       │             <span style=\"color: #00af00; text-decoration-color: #00af00\">0</span> │\n",
              "├─────────────────────────────────┼────────────────────────┼───────────────┤\n",
              "│ Conv_4 (<span style=\"color: #0087ff; text-decoration-color: #0087ff\">Conv1D</span>)                 │ (<span style=\"color: #00d7ff; text-decoration-color: #00d7ff\">None</span>, <span style=\"color: #00af00; text-decoration-color: #00af00\">740</span>, <span style=\"color: #00af00; text-decoration-color: #00af00\">256</span>)       │       <span style=\"color: #00af00; text-decoration-color: #00af00\">327,936</span> │\n",
              "├─────────────────────────────────┼────────────────────────┼───────────────┤\n",
              "│ batch_normalization_3           │ (<span style=\"color: #00d7ff; text-decoration-color: #00d7ff\">None</span>, <span style=\"color: #00af00; text-decoration-color: #00af00\">740</span>, <span style=\"color: #00af00; text-decoration-color: #00af00\">256</span>)       │         <span style=\"color: #00af00; text-decoration-color: #00af00\">1,024</span> │\n",
              "│ (<span style=\"color: #0087ff; text-decoration-color: #0087ff\">BatchNormalization</span>)            │                        │               │\n",
              "├─────────────────────────────────┼────────────────────────┼───────────────┤\n",
              "│ activation_3 (<span style=\"color: #0087ff; text-decoration-color: #0087ff\">Activation</span>)       │ (<span style=\"color: #00d7ff; text-decoration-color: #00d7ff\">None</span>, <span style=\"color: #00af00; text-decoration-color: #00af00\">740</span>, <span style=\"color: #00af00; text-decoration-color: #00af00\">256</span>)       │             <span style=\"color: #00af00; text-decoration-color: #00af00\">0</span> │\n",
              "├─────────────────────────────────┼────────────────────────┼───────────────┤\n",
              "│ MaxPooling1D_4 (<span style=\"color: #0087ff; text-decoration-color: #0087ff\">MaxPooling1D</span>)   │ (<span style=\"color: #00d7ff; text-decoration-color: #00d7ff\">None</span>, <span style=\"color: #00af00; text-decoration-color: #00af00\">370</span>, <span style=\"color: #00af00; text-decoration-color: #00af00\">256</span>)       │             <span style=\"color: #00af00; text-decoration-color: #00af00\">0</span> │\n",
              "├─────────────────────────────────┼────────────────────────┼───────────────┤\n",
              "│ flatten (<span style=\"color: #0087ff; text-decoration-color: #0087ff\">Flatten</span>)               │ (<span style=\"color: #00d7ff; text-decoration-color: #00d7ff\">None</span>, <span style=\"color: #00af00; text-decoration-color: #00af00\">94720</span>)          │             <span style=\"color: #00af00; text-decoration-color: #00af00\">0</span> │\n",
              "├─────────────────────────────────┼────────────────────────┼───────────────┤\n",
              "│ dropout (<span style=\"color: #0087ff; text-decoration-color: #0087ff\">Dropout</span>)               │ (<span style=\"color: #00d7ff; text-decoration-color: #00d7ff\">None</span>, <span style=\"color: #00af00; text-decoration-color: #00af00\">94720</span>)          │             <span style=\"color: #00af00; text-decoration-color: #00af00\">0</span> │\n",
              "├─────────────────────────────────┼────────────────────────┼───────────────┤\n",
              "│ fully_connected_0 (<span style=\"color: #0087ff; text-decoration-color: #0087ff\">Dense</span>)       │ (<span style=\"color: #00d7ff; text-decoration-color: #00d7ff\">None</span>, <span style=\"color: #00af00; text-decoration-color: #00af00\">256</span>)            │    <span style=\"color: #00af00; text-decoration-color: #00af00\">24,248,576</span> │\n",
              "├─────────────────────────────────┼────────────────────────┼───────────────┤\n",
              "│ fully_connected_1 (<span style=\"color: #0087ff; text-decoration-color: #0087ff\">Dense</span>)       │ (<span style=\"color: #00d7ff; text-decoration-color: #00d7ff\">None</span>, <span style=\"color: #00af00; text-decoration-color: #00af00\">64</span>)             │        <span style=\"color: #00af00; text-decoration-color: #00af00\">16,448</span> │\n",
              "├─────────────────────────────────┼────────────────────────┼───────────────┤\n",
              "│ fully_connected_2 (<span style=\"color: #0087ff; text-decoration-color: #0087ff\">Dense</span>)       │ (<span style=\"color: #00d7ff; text-decoration-color: #00d7ff\">None</span>, <span style=\"color: #00af00; text-decoration-color: #00af00\">64</span>)             │         <span style=\"color: #00af00; text-decoration-color: #00af00\">4,160</span> │\n",
              "├─────────────────────────────────┼────────────────────────┼───────────────┤\n",
              "│ OUT_Layer (<span style=\"color: #0087ff; text-decoration-color: #0087ff\">Dense</span>)               │ (<span style=\"color: #00d7ff; text-decoration-color: #00d7ff\">None</span>, <span style=\"color: #00af00; text-decoration-color: #00af00\">1</span>)              │            <span style=\"color: #00af00; text-decoration-color: #00af00\">65</span> │\n",
              "└─────────────────────────────────┴────────────────────────┴───────────────┘\n",
              "</pre>\n"
            ],
            "text/plain": [
              "┏━━━━━━━━━━━━━━━━━━━━━━━━━━━━━━━━━┳━━━━━━━━━━━━━━━━━━━━━━━━┳━━━━━━━━━━━━━━━┓\n",
              "┃\u001b[1m \u001b[0m\u001b[1mLayer (type)                   \u001b[0m\u001b[1m \u001b[0m┃\u001b[1m \u001b[0m\u001b[1mOutput Shape          \u001b[0m\u001b[1m \u001b[0m┃\u001b[1m \u001b[0m\u001b[1m      Param #\u001b[0m\u001b[1m \u001b[0m┃\n",
              "┡━━━━━━━━━━━━━━━━━━━━━━━━━━━━━━━━━╇━━━━━━━━━━━━━━━━━━━━━━━━╇━━━━━━━━━━━━━━━┩\n",
              "│ Conv_1 (\u001b[38;5;33mConv1D\u001b[0m)                 │ (\u001b[38;5;45mNone\u001b[0m, \u001b[38;5;34m5984\u001b[0m, \u001b[38;5;34m64\u001b[0m)       │         \u001b[38;5;34m1,152\u001b[0m │\n",
              "├─────────────────────────────────┼────────────────────────┼───────────────┤\n",
              "│ batch_normalization             │ (\u001b[38;5;45mNone\u001b[0m, \u001b[38;5;34m5984\u001b[0m, \u001b[38;5;34m64\u001b[0m)       │           \u001b[38;5;34m256\u001b[0m │\n",
              "│ (\u001b[38;5;33mBatchNormalization\u001b[0m)            │                        │               │\n",
              "├─────────────────────────────────┼────────────────────────┼───────────────┤\n",
              "│ activation (\u001b[38;5;33mActivation\u001b[0m)         │ (\u001b[38;5;45mNone\u001b[0m, \u001b[38;5;34m5984\u001b[0m, \u001b[38;5;34m64\u001b[0m)       │             \u001b[38;5;34m0\u001b[0m │\n",
              "├─────────────────────────────────┼────────────────────────┼───────────────┤\n",
              "│ MaxPooling1D_1 (\u001b[38;5;33mMaxPooling1D\u001b[0m)   │ (\u001b[38;5;45mNone\u001b[0m, \u001b[38;5;34m2992\u001b[0m, \u001b[38;5;34m64\u001b[0m)       │             \u001b[38;5;34m0\u001b[0m │\n",
              "├─────────────────────────────────┼────────────────────────┼───────────────┤\n",
              "│ Conv_2 (\u001b[38;5;33mConv1D\u001b[0m)                 │ (\u001b[38;5;45mNone\u001b[0m, \u001b[38;5;34m2984\u001b[0m, \u001b[38;5;34m128\u001b[0m)      │        \u001b[38;5;34m73,856\u001b[0m │\n",
              "├─────────────────────────────────┼────────────────────────┼───────────────┤\n",
              "│ batch_normalization_1           │ (\u001b[38;5;45mNone\u001b[0m, \u001b[38;5;34m2984\u001b[0m, \u001b[38;5;34m128\u001b[0m)      │           \u001b[38;5;34m512\u001b[0m │\n",
              "│ (\u001b[38;5;33mBatchNormalization\u001b[0m)            │                        │               │\n",
              "├─────────────────────────────────┼────────────────────────┼───────────────┤\n",
              "│ activation_1 (\u001b[38;5;33mActivation\u001b[0m)       │ (\u001b[38;5;45mNone\u001b[0m, \u001b[38;5;34m2984\u001b[0m, \u001b[38;5;34m128\u001b[0m)      │             \u001b[38;5;34m0\u001b[0m │\n",
              "├─────────────────────────────────┼────────────────────────┼───────────────┤\n",
              "│ MaxPooling1D_2 (\u001b[38;5;33mMaxPooling1D\u001b[0m)   │ (\u001b[38;5;45mNone\u001b[0m, \u001b[38;5;34m1492\u001b[0m, \u001b[38;5;34m128\u001b[0m)      │             \u001b[38;5;34m0\u001b[0m │\n",
              "├─────────────────────────────────┼────────────────────────┼───────────────┤\n",
              "│ Conv_3 (\u001b[38;5;33mConv1D\u001b[0m)                 │ (\u001b[38;5;45mNone\u001b[0m, \u001b[38;5;34m1488\u001b[0m, \u001b[38;5;34m256\u001b[0m)      │       \u001b[38;5;34m164,096\u001b[0m │\n",
              "├─────────────────────────────────┼────────────────────────┼───────────────┤\n",
              "│ batch_normalization_2           │ (\u001b[38;5;45mNone\u001b[0m, \u001b[38;5;34m1488\u001b[0m, \u001b[38;5;34m256\u001b[0m)      │         \u001b[38;5;34m1,024\u001b[0m │\n",
              "│ (\u001b[38;5;33mBatchNormalization\u001b[0m)            │                        │               │\n",
              "├─────────────────────────────────┼────────────────────────┼───────────────┤\n",
              "│ activation_2 (\u001b[38;5;33mActivation\u001b[0m)       │ (\u001b[38;5;45mNone\u001b[0m, \u001b[38;5;34m1488\u001b[0m, \u001b[38;5;34m256\u001b[0m)      │             \u001b[38;5;34m0\u001b[0m │\n",
              "├─────────────────────────────────┼────────────────────────┼───────────────┤\n",
              "│ MaxPooling1D_3 (\u001b[38;5;33mMaxPooling1D\u001b[0m)   │ (\u001b[38;5;45mNone\u001b[0m, \u001b[38;5;34m744\u001b[0m, \u001b[38;5;34m256\u001b[0m)       │             \u001b[38;5;34m0\u001b[0m │\n",
              "├─────────────────────────────────┼────────────────────────┼───────────────┤\n",
              "│ Conv_4 (\u001b[38;5;33mConv1D\u001b[0m)                 │ (\u001b[38;5;45mNone\u001b[0m, \u001b[38;5;34m740\u001b[0m, \u001b[38;5;34m256\u001b[0m)       │       \u001b[38;5;34m327,936\u001b[0m │\n",
              "├─────────────────────────────────┼────────────────────────┼───────────────┤\n",
              "│ batch_normalization_3           │ (\u001b[38;5;45mNone\u001b[0m, \u001b[38;5;34m740\u001b[0m, \u001b[38;5;34m256\u001b[0m)       │         \u001b[38;5;34m1,024\u001b[0m │\n",
              "│ (\u001b[38;5;33mBatchNormalization\u001b[0m)            │                        │               │\n",
              "├─────────────────────────────────┼────────────────────────┼───────────────┤\n",
              "│ activation_3 (\u001b[38;5;33mActivation\u001b[0m)       │ (\u001b[38;5;45mNone\u001b[0m, \u001b[38;5;34m740\u001b[0m, \u001b[38;5;34m256\u001b[0m)       │             \u001b[38;5;34m0\u001b[0m │\n",
              "├─────────────────────────────────┼────────────────────────┼───────────────┤\n",
              "│ MaxPooling1D_4 (\u001b[38;5;33mMaxPooling1D\u001b[0m)   │ (\u001b[38;5;45mNone\u001b[0m, \u001b[38;5;34m370\u001b[0m, \u001b[38;5;34m256\u001b[0m)       │             \u001b[38;5;34m0\u001b[0m │\n",
              "├─────────────────────────────────┼────────────────────────┼───────────────┤\n",
              "│ flatten (\u001b[38;5;33mFlatten\u001b[0m)               │ (\u001b[38;5;45mNone\u001b[0m, \u001b[38;5;34m94720\u001b[0m)          │             \u001b[38;5;34m0\u001b[0m │\n",
              "├─────────────────────────────────┼────────────────────────┼───────────────┤\n",
              "│ dropout (\u001b[38;5;33mDropout\u001b[0m)               │ (\u001b[38;5;45mNone\u001b[0m, \u001b[38;5;34m94720\u001b[0m)          │             \u001b[38;5;34m0\u001b[0m │\n",
              "├─────────────────────────────────┼────────────────────────┼───────────────┤\n",
              "│ fully_connected_0 (\u001b[38;5;33mDense\u001b[0m)       │ (\u001b[38;5;45mNone\u001b[0m, \u001b[38;5;34m256\u001b[0m)            │    \u001b[38;5;34m24,248,576\u001b[0m │\n",
              "├─────────────────────────────────┼────────────────────────┼───────────────┤\n",
              "│ fully_connected_1 (\u001b[38;5;33mDense\u001b[0m)       │ (\u001b[38;5;45mNone\u001b[0m, \u001b[38;5;34m64\u001b[0m)             │        \u001b[38;5;34m16,448\u001b[0m │\n",
              "├─────────────────────────────────┼────────────────────────┼───────────────┤\n",
              "│ fully_connected_2 (\u001b[38;5;33mDense\u001b[0m)       │ (\u001b[38;5;45mNone\u001b[0m, \u001b[38;5;34m64\u001b[0m)             │         \u001b[38;5;34m4,160\u001b[0m │\n",
              "├─────────────────────────────────┼────────────────────────┼───────────────┤\n",
              "│ OUT_Layer (\u001b[38;5;33mDense\u001b[0m)               │ (\u001b[38;5;45mNone\u001b[0m, \u001b[38;5;34m1\u001b[0m)              │            \u001b[38;5;34m65\u001b[0m │\n",
              "└─────────────────────────────────┴────────────────────────┴───────────────┘\n"
            ]
          },
          "metadata": {},
          "output_type": "display_data"
        },
        {
          "data": {
            "text/html": [
              "<pre style=\"white-space:pre;overflow-x:auto;line-height:normal;font-family:Menlo,'DejaVu Sans Mono',consolas,'Courier New',monospace\"><span style=\"font-weight: bold\"> Total params: </span><span style=\"color: #00af00; text-decoration-color: #00af00\">24,839,105</span> (94.75 MB)\n",
              "</pre>\n"
            ],
            "text/plain": [
              "\u001b[1m Total params: \u001b[0m\u001b[38;5;34m24,839,105\u001b[0m (94.75 MB)\n"
            ]
          },
          "metadata": {},
          "output_type": "display_data"
        },
        {
          "data": {
            "text/html": [
              "<pre style=\"white-space:pre;overflow-x:auto;line-height:normal;font-family:Menlo,'DejaVu Sans Mono',consolas,'Courier New',monospace\"><span style=\"font-weight: bold\"> Trainable params: </span><span style=\"color: #00af00; text-decoration-color: #00af00\">24,837,697</span> (94.75 MB)\n",
              "</pre>\n"
            ],
            "text/plain": [
              "\u001b[1m Trainable params: \u001b[0m\u001b[38;5;34m24,837,697\u001b[0m (94.75 MB)\n"
            ]
          },
          "metadata": {},
          "output_type": "display_data"
        },
        {
          "data": {
            "text/html": [
              "<pre style=\"white-space:pre;overflow-x:auto;line-height:normal;font-family:Menlo,'DejaVu Sans Mono',consolas,'Courier New',monospace\"><span style=\"font-weight: bold\"> Non-trainable params: </span><span style=\"color: #00af00; text-decoration-color: #00af00\">1,408</span> (5.50 KB)\n",
              "</pre>\n"
            ],
            "text/plain": [
              "\u001b[1m Non-trainable params: \u001b[0m\u001b[38;5;34m1,408\u001b[0m (5.50 KB)\n"
            ]
          },
          "metadata": {},
          "output_type": "display_data"
        }
      ],
      "source": [
        "_, n_timesteps, n_features = X_train.shape\n",
        "\n",
        "model = create_model(f'e_coli_{antibiotic}_model', n_features, n_timesteps, n_targets=1)\n",
        "model.summary()"
      ]
    },
    {
      "cell_type": "markdown",
      "id": "cb5c9eb5",
      "metadata": {
        "id": "cb5c9eb5"
      },
      "source": [
        "### Fit Model"
      ]
    },
    {
      "cell_type": "code",
      "execution_count": null,
      "id": "2b67957b",
      "metadata": {
        "id": "2b67957b"
      },
      "outputs": [],
      "source": [
        "reduce_lr = ReduceLROnPlateau(monitor='val_loss', factor=0.1, patience=3, min_lr=0.000001)\n",
        "early_st = EarlyStopping(monitor='val_loss', patience=4, restore_best_weights=True)"
      ]
    },
    {
      "cell_type": "code",
      "execution_count": null,
      "id": "89cbf898",
      "metadata": {
        "colab": {
          "base_uri": "https://localhost:8080/"
        },
        "id": "89cbf898",
        "outputId": "fe022186-80cd-4152-94c0-093464b9f269"
      },
      "outputs": [
        {
          "name": "stdout",
          "output_type": "stream",
          "text": [
            "Epoch 1/100\n",
            "\u001b[1m273/273\u001b[0m \u001b[32m━━━━━━━━━━━━━━━━━━━━\u001b[0m\u001b[37m\u001b[0m \u001b[1m34s\u001b[0m 83ms/step - accuracy: 0.7803 - auc: 0.5708 - fn: 254.0110 - fp: 41.0328 - loss: 6.5020 - prc: 0.2435 - precision: 0.2671 - recall: 0.0717 - tn: 1066.3175 - tp: 13.5876 - val_accuracy: 0.8158 - val_auc: 0.6329 - val_fn: 56.0000 - val_fp: 0.0000e+00 - val_loss: 5.8850 - val_prc: 0.3024 - val_precision: 0.0000e+00 - val_recall: 0.0000e+00 - val_tn: 248.0000 - val_tp: 0.0000e+00 - learning_rate: 1.0000e-04\n",
            "Epoch 2/100\n",
            "\u001b[1m273/273\u001b[0m \u001b[32m━━━━━━━━━━━━━━━━━━━━\u001b[0m\u001b[37m\u001b[0m \u001b[1m20s\u001b[0m 30ms/step - accuracy: 0.8139 - auc: 0.6406 - fn: 251.4671 - fp: 14.9343 - loss: 5.6539 - prc: 0.2812 - precision: 0.4079 - recall: 0.0327 - tn: 1098.7153 - tp: 9.8321 - val_accuracy: 0.8158 - val_auc: 0.8277 - val_fn: 56.0000 - val_fp: 0.0000e+00 - val_loss: 5.2349 - val_prc: 0.5528 - val_precision: 0.0000e+00 - val_recall: 0.0000e+00 - val_tn: 248.0000 - val_tp: 0.0000e+00 - learning_rate: 1.0000e-04\n",
            "Epoch 3/100\n",
            "\u001b[1m273/273\u001b[0m \u001b[32m━━━━━━━━━━━━━━━━━━━━\u001b[0m\u001b[37m\u001b[0m \u001b[1m10s\u001b[0m 31ms/step - accuracy: 0.8093 - auc: 0.7077 - fn: 223.0693 - fp: 33.6314 - loss: 5.1269 - prc: 0.3657 - precision: 0.5113 - recall: 0.1450 - tn: 1080.9635 - tp: 37.2847 - val_accuracy: 0.8388 - val_auc: 0.8642 - val_fn: 48.0000 - val_fp: 1.0000 - val_loss: 4.7281 - val_prc: 0.6271 - val_precision: 0.8889 - val_recall: 0.1429 - val_tn: 247.0000 - val_tp: 8.0000 - learning_rate: 1.0000e-04\n",
            "Epoch 4/100\n",
            "\u001b[1m273/273\u001b[0m \u001b[32m━━━━━━━━━━━━━━━━━━━━\u001b[0m\u001b[37m\u001b[0m \u001b[1m8s\u001b[0m 31ms/step - accuracy: 0.8180 - auc: 0.7707 - fn: 203.5511 - fp: 44.3175 - loss: 4.6969 - prc: 0.4993 - precision: 0.5834 - recall: 0.2387 - tn: 1062.3102 - tp: 64.7701 - val_accuracy: 0.8454 - val_auc: 0.8499 - val_fn: 38.0000 - val_fp: 9.0000 - val_loss: 4.3756 - val_prc: 0.5980 - val_precision: 0.6667 - val_recall: 0.3214 - val_tn: 239.0000 - val_tp: 18.0000 - learning_rate: 1.0000e-04\n",
            "Epoch 5/100\n",
            "\u001b[1m273/273\u001b[0m \u001b[32m━━━━━━━━━━━━━━━━━━━━\u001b[0m\u001b[37m\u001b[0m \u001b[1m10s\u001b[0m 31ms/step - accuracy: 0.8236 - auc: 0.7669 - fn: 193.2117 - fp: 42.3905 - loss: 4.3516 - prc: 0.5012 - precision: 0.6336 - recall: 0.2758 - tn: 1062.7555 - tp: 76.5912 - val_accuracy: 0.8618 - val_auc: 0.8687 - val_fn: 36.0000 - val_fp: 6.0000 - val_loss: 4.0347 - val_prc: 0.6251 - val_precision: 0.7692 - val_recall: 0.3571 - val_tn: 242.0000 - val_tp: 20.0000 - learning_rate: 1.0000e-04\n",
            "Epoch 6/100\n",
            "\u001b[1m273/273\u001b[0m \u001b[32m━━━━━━━━━━━━━━━━━━━━\u001b[0m\u001b[37m\u001b[0m \u001b[1m8s\u001b[0m 31ms/step - accuracy: 0.8447 - auc: 0.8167 - fn: 168.5912 - fp: 44.6460 - loss: 3.9900 - prc: 0.5860 - precision: 0.6659 - recall: 0.3322 - tn: 1070.4927 - tp: 91.2190 - val_accuracy: 0.8553 - val_auc: 0.8778 - val_fn: 24.0000 - val_fp: 20.0000 - val_loss: 3.7706 - val_prc: 0.6539 - val_precision: 0.6154 - val_recall: 0.5714 - val_tn: 228.0000 - val_tp: 32.0000 - learning_rate: 1.0000e-04\n",
            "Epoch 7/100\n",
            "\u001b[1m273/273\u001b[0m \u001b[32m━━━━━━━━━━━━━━━━━━━━\u001b[0m\u001b[37m\u001b[0m \u001b[1m8s\u001b[0m 30ms/step - accuracy: 0.8557 - auc: 0.8372 - fn: 160.0620 - fp: 46.6898 - loss: 3.6917 - prc: 0.6369 - precision: 0.7193 - recall: 0.4205 - tn: 1054.4417 - tp: 113.7555 - val_accuracy: 0.8684 - val_auc: 0.8837 - val_fn: 34.0000 - val_fp: 6.0000 - val_loss: 3.4580 - val_prc: 0.6948 - val_precision: 0.7857 - val_recall: 0.3929 - val_tn: 242.0000 - val_tp: 22.0000 - learning_rate: 1.0000e-04\n",
            "Epoch 8/100\n",
            "\u001b[1m273/273\u001b[0m \u001b[32m━━━━━━━━━━━━━━━━━━━━\u001b[0m\u001b[37m\u001b[0m \u001b[1m8s\u001b[0m 31ms/step - accuracy: 0.8456 - auc: 0.8471 - fn: 159.5912 - fp: 44.7664 - loss: 3.4267 - prc: 0.6150 - precision: 0.6898 - recall: 0.3566 - tn: 1068.9417 - tp: 101.6496 - val_accuracy: 0.8717 - val_auc: 0.8762 - val_fn: 24.0000 - val_fp: 15.0000 - val_loss: 3.2284 - val_prc: 0.6869 - val_precision: 0.6809 - val_recall: 0.5714 - val_tn: 233.0000 - val_tp: 32.0000 - learning_rate: 1.0000e-04\n",
            "Epoch 9/100\n",
            "\u001b[1m273/273\u001b[0m \u001b[32m━━━━━━━━━━━━━━━━━━━━\u001b[0m\u001b[37m\u001b[0m \u001b[1m8s\u001b[0m 31ms/step - accuracy: 0.8597 - auc: 0.8286 - fn: 150.6350 - fp: 43.2409 - loss: 3.1891 - prc: 0.6018 - precision: 0.7254 - recall: 0.4036 - tn: 1075.4635 - tp: 105.6095 - val_accuracy: 0.8684 - val_auc: 0.8553 - val_fn: 36.0000 - val_fp: 4.0000 - val_loss: 3.0132 - val_prc: 0.6725 - val_precision: 0.8333 - val_recall: 0.3571 - val_tn: 244.0000 - val_tp: 20.0000 - learning_rate: 1.0000e-04\n",
            "Epoch 10/100\n",
            "\u001b[1m273/273\u001b[0m \u001b[32m━━━━━━━━━━━━━━━━━━━━\u001b[0m\u001b[37m\u001b[0m \u001b[1m10s\u001b[0m 31ms/step - accuracy: 0.8700 - auc: 0.8362 - fn: 134.4599 - fp: 40.3869 - loss: 2.9576 - prc: 0.6378 - precision: 0.7559 - recall: 0.4556 - tn: 1080.7263 - tp: 119.3759 - val_accuracy: 0.8750 - val_auc: 0.8878 - val_fn: 28.0000 - val_fp: 10.0000 - val_loss: 2.7467 - val_prc: 0.7289 - val_precision: 0.7368 - val_recall: 0.5000 - val_tn: 238.0000 - val_tp: 28.0000 - learning_rate: 1.0000e-04\n",
            "Epoch 11/100\n",
            "\u001b[1m273/273\u001b[0m \u001b[32m━━━━━━━━━━━━━━━━━━━━\u001b[0m\u001b[37m\u001b[0m \u001b[1m10s\u001b[0m 31ms/step - accuracy: 0.8723 - auc: 0.8651 - fn: 133.6715 - fp: 42.9416 - loss: 2.7255 - prc: 0.6882 - precision: 0.7570 - recall: 0.4817 - tn: 1068.7190 - tp: 129.6168 - val_accuracy: 0.8717 - val_auc: 0.8922 - val_fn: 22.0000 - val_fp: 17.0000 - val_loss: 2.5544 - val_prc: 0.7350 - val_precision: 0.6667 - val_recall: 0.6071 - val_tn: 231.0000 - val_tp: 34.0000 - learning_rate: 1.0000e-04\n",
            "Epoch 12/100\n",
            "\u001b[1m273/273\u001b[0m \u001b[32m━━━━━━━━━━━━━━━━━━━━\u001b[0m\u001b[37m\u001b[0m \u001b[1m10s\u001b[0m 30ms/step - accuracy: 0.8729 - auc: 0.8624 - fn: 139.2993 - fp: 38.6679 - loss: 2.5323 - prc: 0.6640 - precision: 0.7559 - recall: 0.4462 - tn: 1072.7700 - tp: 124.2117 - val_accuracy: 0.8750 - val_auc: 0.8951 - val_fn: 31.0000 - val_fp: 7.0000 - val_loss: 2.3655 - val_prc: 0.7526 - val_precision: 0.7812 - val_recall: 0.4464 - val_tn: 241.0000 - val_tp: 25.0000 - learning_rate: 1.0000e-04\n",
            "Epoch 13/100\n",
            "\u001b[1m273/273\u001b[0m \u001b[32m━━━━━━━━━━━━━━━━━━━━\u001b[0m\u001b[37m\u001b[0m \u001b[1m10s\u001b[0m 31ms/step - accuracy: 0.8746 - auc: 0.8831 - fn: 124.8832 - fp: 43.2920 - loss: 2.3425 - prc: 0.7284 - precision: 0.7489 - recall: 0.5061 - tn: 1065.1460 - tp: 141.6277 - val_accuracy: 0.8717 - val_auc: 0.8981 - val_fn: 32.0000 - val_fp: 7.0000 - val_loss: 2.1990 - val_prc: 0.7649 - val_precision: 0.7742 - val_recall: 0.4286 - val_tn: 241.0000 - val_tp: 24.0000 - learning_rate: 1.0000e-04\n",
            "Epoch 14/100\n",
            "\u001b[1m273/273\u001b[0m \u001b[32m━━━━━━━━━━━━━━━━━━━━\u001b[0m\u001b[37m\u001b[0m \u001b[1m9s\u001b[0m 31ms/step - accuracy: 0.8814 - auc: 0.8968 - fn: 121.0474 - fp: 41.5730 - loss: 2.1769 - prc: 0.7592 - precision: 0.7917 - recall: 0.5581 - tn: 1060.0219 - tp: 152.3066 - val_accuracy: 0.8914 - val_auc: 0.9119 - val_fn: 30.0000 - val_fp: 3.0000 - val_loss: 2.0386 - val_prc: 0.8104 - val_precision: 0.8966 - val_recall: 0.4643 - val_tn: 245.0000 - val_tp: 26.0000 - learning_rate: 1.0000e-04\n",
            "Epoch 15/100\n",
            "\u001b[1m273/273\u001b[0m \u001b[32m━━━━━━━━━━━━━━━━━━━━\u001b[0m\u001b[37m\u001b[0m \u001b[1m10s\u001b[0m 31ms/step - accuracy: 0.8905 - auc: 0.9012 - fn: 112.9234 - fp: 39.5109 - loss: 2.0248 - prc: 0.7616 - precision: 0.8021 - recall: 0.5728 - tn: 1064.5730 - tp: 157.9416 - val_accuracy: 0.9145 - val_auc: 0.9183 - val_fn: 18.0000 - val_fp: 8.0000 - val_loss: 1.8851 - val_prc: 0.8257 - val_precision: 0.8261 - val_recall: 0.6786 - val_tn: 240.0000 - val_tp: 38.0000 - learning_rate: 1.0000e-04\n",
            "Epoch 16/100\n",
            "\u001b[1m273/273\u001b[0m \u001b[32m━━━━━━━━━━━━━━━━━━━━\u001b[0m\u001b[37m\u001b[0m \u001b[1m8s\u001b[0m 31ms/step - accuracy: 0.8928 - auc: 0.9005 - fn: 112.1934 - fp: 33.4854 - loss: 1.8865 - prc: 0.7794 - precision: 0.8128 - recall: 0.5728 - tn: 1074.3759 - tp: 154.8942 - val_accuracy: 0.9112 - val_auc: 0.9245 - val_fn: 24.0000 - val_fp: 3.0000 - val_loss: 1.7636 - val_prc: 0.8284 - val_precision: 0.9143 - val_recall: 0.5714 - val_tn: 245.0000 - val_tp: 32.0000 - learning_rate: 1.0000e-04\n",
            "Epoch 17/100\n",
            "\u001b[1m273/273\u001b[0m \u001b[32m━━━━━━━━━━━━━━━━━━━━\u001b[0m\u001b[37m\u001b[0m \u001b[1m10s\u001b[0m 30ms/step - accuracy: 0.8973 - auc: 0.9200 - fn: 112.6277 - fp: 30.2190 - loss: 1.7505 - prc: 0.8218 - precision: 0.8624 - recall: 0.5923 - tn: 1071.1313 - tp: 160.9708 - val_accuracy: 0.9145 - val_auc: 0.9165 - val_fn: 21.0000 - val_fp: 5.0000 - val_loss: 1.6513 - val_prc: 0.8315 - val_precision: 0.8750 - val_recall: 0.6250 - val_tn: 243.0000 - val_tp: 35.0000 - learning_rate: 1.0000e-04\n",
            "Epoch 18/100\n",
            "\u001b[1m273/273\u001b[0m \u001b[32m━━━━━━━━━━━━━━━━━━━━\u001b[0m\u001b[37m\u001b[0m \u001b[1m8s\u001b[0m 31ms/step - accuracy: 0.8971 - auc: 0.9084 - fn: 111.9015 - fp: 33.3540 - loss: 1.6378 - prc: 0.7936 - precision: 0.8022 - recall: 0.5831 - tn: 1080.4489 - tp: 149.2445 - val_accuracy: 0.8947 - val_auc: 0.9216 - val_fn: 30.0000 - val_fp: 2.0000 - val_loss: 1.5691 - val_prc: 0.8252 - val_precision: 0.9286 - val_recall: 0.4643 - val_tn: 246.0000 - val_tp: 26.0000 - learning_rate: 1.0000e-04\n",
            "Epoch 19/100\n",
            "\u001b[1m273/273\u001b[0m \u001b[32m━━━━━━━━━━━━━━━━━━━━\u001b[0m\u001b[37m\u001b[0m \u001b[1m8s\u001b[0m 31ms/step - accuracy: 0.8981 - auc: 0.9212 - fn: 105.4964 - fp: 33.0109 - loss: 1.5513 - prc: 0.8109 - precision: 0.8438 - recall: 0.6014 - tn: 1074.3138 - tp: 162.1277 - val_accuracy: 0.9309 - val_auc: 0.9321 - val_fn: 18.0000 - val_fp: 3.0000 - val_loss: 1.4479 - val_prc: 0.8430 - val_precision: 0.9268 - val_recall: 0.6786 - val_tn: 245.0000 - val_tp: 38.0000 - learning_rate: 1.0000e-04\n",
            "Epoch 20/100\n",
            "\u001b[1m273/273\u001b[0m \u001b[32m━━━━━━━━━━━━━━━━━━━━\u001b[0m\u001b[37m\u001b[0m \u001b[1m10s\u001b[0m 31ms/step - accuracy: 0.9047 - auc: 0.9250 - fn: 95.5438 - fp: 33.9854 - loss: 1.4467 - prc: 0.8161 - precision: 0.8195 - recall: 0.6219 - tn: 1080.8868 - tp: 164.5329 - val_accuracy: 0.9309 - val_auc: 0.9418 - val_fn: 15.0000 - val_fp: 6.0000 - val_loss: 1.3751 - val_prc: 0.8572 - val_precision: 0.8723 - val_recall: 0.7321 - val_tn: 242.0000 - val_tp: 41.0000 - learning_rate: 1.0000e-04\n",
            "Epoch 21/100\n",
            "\u001b[1m273/273\u001b[0m \u001b[32m━━━━━━━━━━━━━━━━━━━━\u001b[0m\u001b[37m\u001b[0m \u001b[1m8s\u001b[0m 31ms/step - accuracy: 0.9044 - auc: 0.9375 - fn: 98.0876 - fp: 35.9015 - loss: 1.3619 - prc: 0.8414 - precision: 0.8340 - recall: 0.6423 - tn: 1072.5730 - tp: 168.3869 - val_accuracy: 0.9243 - val_auc: 0.9257 - val_fn: 18.0000 - val_fp: 5.0000 - val_loss: 1.3087 - val_prc: 0.8236 - val_precision: 0.8837 - val_recall: 0.6786 - val_tn: 243.0000 - val_tp: 38.0000 - learning_rate: 1.0000e-04\n",
            "Epoch 22/100\n",
            "\u001b[1m273/273\u001b[0m \u001b[32m━━━━━━━━━━━━━━━━━━━━\u001b[0m\u001b[37m\u001b[0m \u001b[1m10s\u001b[0m 30ms/step - accuracy: 0.9043 - auc: 0.9333 - fn: 95.3832 - fp: 31.6642 - loss: 1.2965 - prc: 0.8390 - precision: 0.8303 - recall: 0.6414 - tn: 1079.0402 - tp: 168.8613 - val_accuracy: 0.9309 - val_auc: 0.9486 - val_fn: 16.0000 - val_fp: 5.0000 - val_loss: 1.2218 - val_prc: 0.8617 - val_precision: 0.8889 - val_recall: 0.7143 - val_tn: 243.0000 - val_tp: 40.0000 - learning_rate: 1.0000e-04\n",
            "Epoch 23/100\n",
            "\u001b[1m273/273\u001b[0m \u001b[32m━━━━━━━━━━━━━━━━━━━━\u001b[0m\u001b[37m\u001b[0m \u001b[1m10s\u001b[0m 31ms/step - accuracy: 0.9130 - auc: 0.9298 - fn: 94.0036 - fp: 31.2920 - loss: 1.2239 - prc: 0.8540 - precision: 0.8678 - recall: 0.6545 - tn: 1074.8503 - tp: 174.8029 - val_accuracy: 0.9112 - val_auc: 0.9523 - val_fn: 25.0000 - val_fp: 2.0000 - val_loss: 1.1823 - val_prc: 0.8655 - val_precision: 0.9394 - val_recall: 0.5536 - val_tn: 246.0000 - val_tp: 31.0000 - learning_rate: 1.0000e-04\n",
            "Epoch 24/100\n",
            "\u001b[1m273/273\u001b[0m \u001b[32m━━━━━━━━━━━━━━━━━━━━\u001b[0m\u001b[37m\u001b[0m \u001b[1m9s\u001b[0m 31ms/step - accuracy: 0.9112 - auc: 0.9327 - fn: 92.0401 - fp: 27.6423 - loss: 1.1807 - prc: 0.8540 - precision: 0.8748 - recall: 0.6545 - tn: 1076.1313 - tp: 179.1350 - val_accuracy: 0.9211 - val_auc: 0.9402 - val_fn: 21.0000 - val_fp: 3.0000 - val_loss: 1.1345 - val_prc: 0.8565 - val_precision: 0.9211 - val_recall: 0.6250 - val_tn: 245.0000 - val_tp: 35.0000 - learning_rate: 1.0000e-04\n",
            "Epoch 25/100\n",
            "\u001b[1m273/273\u001b[0m \u001b[32m━━━━━━━━━━━━━━━━━━━━\u001b[0m\u001b[37m\u001b[0m \u001b[1m8s\u001b[0m 31ms/step - accuracy: 0.9139 - auc: 0.9412 - fn: 87.9197 - fp: 28.0146 - loss: 1.1094 - prc: 0.8672 - precision: 0.8602 - recall: 0.6674 - tn: 1082.7847 - tp: 176.2299 - val_accuracy: 0.9243 - val_auc: 0.9507 - val_fn: 13.0000 - val_fp: 10.0000 - val_loss: 1.0689 - val_prc: 0.8750 - val_precision: 0.8113 - val_recall: 0.7679 - val_tn: 238.0000 - val_tp: 43.0000 - learning_rate: 1.0000e-04\n",
            "Epoch 26/100\n",
            "\u001b[1m273/273\u001b[0m \u001b[32m━━━━━━━━━━━━━━━━━━━━\u001b[0m\u001b[37m\u001b[0m \u001b[1m10s\u001b[0m 31ms/step - accuracy: 0.9233 - auc: 0.9570 - fn: 81.6022 - fp: 27.7847 - loss: 1.0449 - prc: 0.8920 - precision: 0.8807 - recall: 0.7152 - tn: 1079.1788 - tp: 186.3832 - val_accuracy: 0.8684 - val_auc: 0.9515 - val_fn: 7.0000 - val_fp: 33.0000 - val_loss: 1.1419 - val_prc: 0.8618 - val_precision: 0.5976 - val_recall: 0.8750 - val_tn: 215.0000 - val_tp: 49.0000 - learning_rate: 1.0000e-04\n",
            "Epoch 27/100\n",
            "\u001b[1m273/273\u001b[0m \u001b[32m━━━━━━━━━━━━━━━━━━━━\u001b[0m\u001b[37m\u001b[0m \u001b[1m10s\u001b[0m 31ms/step - accuracy: 0.9115 - auc: 0.9386 - fn: 83.1058 - fp: 27.0109 - loss: 1.0284 - prc: 0.8502 - precision: 0.8456 - recall: 0.6507 - tn: 1087.5657 - tp: 177.2664 - val_accuracy: 0.9276 - val_auc: 0.9405 - val_fn: 15.0000 - val_fp: 7.0000 - val_loss: 0.9933 - val_prc: 0.8651 - val_precision: 0.8542 - val_recall: 0.7321 - val_tn: 241.0000 - val_tp: 41.0000 - learning_rate: 1.0000e-04\n",
            "Epoch 28/100\n",
            "\u001b[1m273/273\u001b[0m \u001b[32m━━━━━━━━━━━━━━━━━━━━\u001b[0m\u001b[37m\u001b[0m \u001b[1m10s\u001b[0m 30ms/step - accuracy: 0.9268 - auc: 0.9554 - fn: 73.7956 - fp: 29.6277 - loss: 0.9699 - prc: 0.8967 - precision: 0.8832 - recall: 0.7331 - tn: 1075.9854 - tp: 195.5401 - val_accuracy: 0.9342 - val_auc: 0.9500 - val_fn: 17.0000 - val_fp: 3.0000 - val_loss: 0.9551 - val_prc: 0.8687 - val_precision: 0.9286 - val_recall: 0.6964 - val_tn: 245.0000 - val_tp: 39.0000 - learning_rate: 1.0000e-04\n",
            "Epoch 29/100\n",
            "\u001b[1m273/273\u001b[0m \u001b[32m━━━━━━━━━━━━━━━━━━━━\u001b[0m\u001b[37m\u001b[0m \u001b[1m8s\u001b[0m 31ms/step - accuracy: 0.9334 - auc: 0.9548 - fn: 69.5256 - fp: 26.6788 - loss: 0.9292 - prc: 0.8854 - precision: 0.8922 - recall: 0.7267 - tn: 1089.9417 - tp: 188.8029 - val_accuracy: 0.9276 - val_auc: 0.9398 - val_fn: 14.0000 - val_fp: 8.0000 - val_loss: 0.9358 - val_prc: 0.8675 - val_precision: 0.8400 - val_recall: 0.7500 - val_tn: 240.0000 - val_tp: 42.0000 - learning_rate: 1.0000e-04\n",
            "Epoch 30/100\n",
            "\u001b[1m273/273\u001b[0m \u001b[32m━━━━━━━━━━━━━━━━━━━━\u001b[0m\u001b[37m\u001b[0m \u001b[1m8s\u001b[0m 31ms/step - accuracy: 0.9198 - auc: 0.9473 - fn: 78.6095 - fp: 27.2080 - loss: 0.9126 - prc: 0.8740 - precision: 0.8626 - recall: 0.6769 - tn: 1087.9453 - tp: 181.1861 - val_accuracy: 0.9342 - val_auc: 0.9434 - val_fn: 13.0000 - val_fp: 7.0000 - val_loss: 0.9053 - val_prc: 0.8623 - val_precision: 0.8600 - val_recall: 0.7679 - val_tn: 241.0000 - val_tp: 43.0000 - learning_rate: 1.0000e-04\n",
            "Epoch 31/100\n",
            "\u001b[1m273/273\u001b[0m \u001b[32m━━━━━━━━━━━━━━━━━━━━\u001b[0m\u001b[37m\u001b[0m \u001b[1m10s\u001b[0m 31ms/step - accuracy: 0.9382 - auc: 0.9629 - fn: 63.0401 - fp: 28.3504 - loss: 0.8508 - prc: 0.9070 - precision: 0.8767 - recall: 0.7664 - tn: 1090.7408 - tp: 192.8175 - val_accuracy: 0.9342 - val_auc: 0.9613 - val_fn: 10.0000 - val_fp: 10.0000 - val_loss: 0.8857 - val_prc: 0.8569 - val_precision: 0.8214 - val_recall: 0.8214 - val_tn: 238.0000 - val_tp: 46.0000 - learning_rate: 1.0000e-04\n",
            "Epoch 32/100\n",
            "\u001b[1m273/273\u001b[0m \u001b[32m━━━━━━━━━━━━━━━━━━━━\u001b[0m\u001b[37m\u001b[0m \u001b[1m8s\u001b[0m 30ms/step - accuracy: 0.9343 - auc: 0.9592 - fn: 65.5146 - fp: 26.7153 - loss: 0.8421 - prc: 0.8920 - precision: 0.8696 - recall: 0.7636 - tn: 1088.2007 - tp: 194.5182 - val_accuracy: 0.9375 - val_auc: 0.9496 - val_fn: 11.0000 - val_fp: 8.0000 - val_loss: 0.8571 - val_prc: 0.8662 - val_precision: 0.8491 - val_recall: 0.8036 - val_tn: 240.0000 - val_tp: 45.0000 - learning_rate: 1.0000e-04\n",
            "Epoch 33/100\n",
            "\u001b[1m273/273\u001b[0m \u001b[32m━━━━━━━━━━━━━━━━━━━━\u001b[0m\u001b[37m\u001b[0m \u001b[1m10s\u001b[0m 31ms/step - accuracy: 0.9422 - auc: 0.9654 - fn: 59.7482 - fp: 20.9197 - loss: 0.8003 - prc: 0.9177 - precision: 0.9021 - recall: 0.7797 - tn: 1092.8102 - tp: 201.4708 - val_accuracy: 0.9046 - val_auc: 0.9479 - val_fn: 27.0000 - val_fp: 2.0000 - val_loss: 0.8954 - val_prc: 0.8538 - val_precision: 0.9355 - val_recall: 0.5179 - val_tn: 246.0000 - val_tp: 29.0000 - learning_rate: 1.0000e-04\n",
            "Epoch 34/100\n",
            "\u001b[1m273/273\u001b[0m \u001b[32m━━━━━━━━━━━━━━━━━━━━\u001b[0m\u001b[37m\u001b[0m \u001b[1m8s\u001b[0m 31ms/step - accuracy: 0.9468 - auc: 0.9706 - fn: 54.7409 - fp: 20.3832 - loss: 0.7623 - prc: 0.9222 - precision: 0.9108 - recall: 0.7763 - tn: 1104.4417 - tp: 195.3832 - val_accuracy: 0.9309 - val_auc: 0.9459 - val_fn: 15.0000 - val_fp: 6.0000 - val_loss: 0.8106 - val_prc: 0.8660 - val_precision: 0.8723 - val_recall: 0.7321 - val_tn: 242.0000 - val_tp: 41.0000 - learning_rate: 1.0000e-04\n",
            "Epoch 35/100\n",
            "\u001b[1m273/273\u001b[0m \u001b[32m━━━━━━━━━━━━━━━━━━━━\u001b[0m\u001b[37m\u001b[0m \u001b[1m10s\u001b[0m 31ms/step - accuracy: 0.9468 - auc: 0.9661 - fn: 54.5255 - fp: 19.0620 - loss: 0.7555 - prc: 0.9262 - precision: 0.9170 - recall: 0.8016 - tn: 1078.7445 - tp: 222.6168 - val_accuracy: 0.9309 - val_auc: 0.9507 - val_fn: 17.0000 - val_fp: 4.0000 - val_loss: 0.7815 - val_prc: 0.8804 - val_precision: 0.9070 - val_recall: 0.6964 - val_tn: 244.0000 - val_tp: 39.0000 - learning_rate: 1.0000e-04\n",
            "Epoch 36/100\n",
            "\u001b[1m273/273\u001b[0m \u001b[32m━━━━━━━━━━━━━━━━━━━━\u001b[0m\u001b[37m\u001b[0m \u001b[1m10s\u001b[0m 31ms/step - accuracy: 0.9560 - auc: 0.9789 - fn: 44.9088 - fp: 18.4562 - loss: 0.7142 - prc: 0.9399 - precision: 0.9248 - recall: 0.8301 - tn: 1092.5000 - tp: 219.0839 - val_accuracy: 0.9342 - val_auc: 0.9577 - val_fn: 11.0000 - val_fp: 9.0000 - val_loss: 0.7755 - val_prc: 0.8763 - val_precision: 0.8333 - val_recall: 0.8036 - val_tn: 239.0000 - val_tp: 45.0000 - learning_rate: 1.0000e-04\n",
            "Epoch 37/100\n",
            "\u001b[1m273/273\u001b[0m \u001b[32m━━━━━━━━━━━━━━━━━━━━\u001b[0m\u001b[37m\u001b[0m \u001b[1m10s\u001b[0m 31ms/step - accuracy: 0.9504 - auc: 0.9751 - fn: 43.5219 - fp: 24.2445 - loss: 0.7065 - prc: 0.9365 - precision: 0.8993 - recall: 0.8352 - tn: 1088.2920 - tp: 218.8905 - val_accuracy: 0.9375 - val_auc: 0.9583 - val_fn: 14.0000 - val_fp: 5.0000 - val_loss: 0.7497 - val_prc: 0.8771 - val_precision: 0.8936 - val_recall: 0.7500 - val_tn: 243.0000 - val_tp: 42.0000 - learning_rate: 1.0000e-04\n",
            "Epoch 38/100\n",
            "\u001b[1m273/273\u001b[0m \u001b[32m━━━━━━━━━━━━━━━━━━━━\u001b[0m\u001b[37m\u001b[0m \u001b[1m10s\u001b[0m 30ms/step - accuracy: 0.9501 - auc: 0.9749 - fn: 50.7117 - fp: 17.8942 - loss: 0.6856 - prc: 0.9359 - precision: 0.9195 - recall: 0.7932 - tn: 1101.8868 - tp: 204.4562 - val_accuracy: 0.9408 - val_auc: 0.9385 - val_fn: 11.0000 - val_fp: 7.0000 - val_loss: 0.7655 - val_prc: 0.8702 - val_precision: 0.8654 - val_recall: 0.8036 - val_tn: 241.0000 - val_tp: 45.0000 - learning_rate: 1.0000e-04\n",
            "Epoch 39/100\n",
            "\u001b[1m273/273\u001b[0m \u001b[32m━━━━━━━━━━━━━━━━━━━━\u001b[0m\u001b[37m\u001b[0m \u001b[1m10s\u001b[0m 31ms/step - accuracy: 0.9481 - auc: 0.9826 - fn: 42.7701 - fp: 27.2664 - loss: 0.6659 - prc: 0.9534 - precision: 0.8888 - recall: 0.8555 - tn: 1075.8942 - tp: 229.0182 - val_accuracy: 0.9276 - val_auc: 0.9673 - val_fn: 14.0000 - val_fp: 8.0000 - val_loss: 0.7346 - val_prc: 0.8793 - val_precision: 0.8400 - val_recall: 0.7500 - val_tn: 240.0000 - val_tp: 42.0000 - learning_rate: 1.0000e-04\n",
            "Epoch 40/100\n",
            "\u001b[1m273/273\u001b[0m \u001b[32m━━━━━━━━━━━━━━━━━━━━\u001b[0m\u001b[37m\u001b[0m \u001b[1m8s\u001b[0m 30ms/step - accuracy: 0.9561 - auc: 0.9825 - fn: 44.6204 - fp: 19.9526 - loss: 0.6506 - prc: 0.9475 - precision: 0.9272 - recall: 0.8418 - tn: 1084.8613 - tp: 225.5146 - val_accuracy: 0.9309 - val_auc: 0.9600 - val_fn: 7.0000 - val_fp: 14.0000 - val_loss: 0.7387 - val_prc: 0.8984 - val_precision: 0.7778 - val_recall: 0.8750 - val_tn: 234.0000 - val_tp: 49.0000 - learning_rate: 1.0000e-04\n",
            "Epoch 41/100\n",
            "\u001b[1m273/273\u001b[0m \u001b[32m━━━━━━━━━━━━━━━━━━━━\u001b[0m\u001b[37m\u001b[0m \u001b[1m8s\u001b[0m 31ms/step - accuracy: 0.9480 - auc: 0.9810 - fn: 50.6825 - fp: 20.2591 - loss: 0.6484 - prc: 0.9489 - precision: 0.9189 - recall: 0.8191 - tn: 1080.7957 - tp: 223.2117 - val_accuracy: 0.9276 - val_auc: 0.9635 - val_fn: 17.0000 - val_fp: 5.0000 - val_loss: 0.6984 - val_prc: 0.8835 - val_precision: 0.8864 - val_recall: 0.6964 - val_tn: 243.0000 - val_tp: 39.0000 - learning_rate: 1.0000e-04\n",
            "Epoch 42/100\n",
            "\u001b[1m273/273\u001b[0m \u001b[32m━━━━━━━━━━━━━━━━━━━━\u001b[0m\u001b[37m\u001b[0m \u001b[1m10s\u001b[0m 31ms/step - accuracy: 0.9561 - auc: 0.9834 - fn: 44.8978 - fp: 19.7518 - loss: 0.6257 - prc: 0.9516 - precision: 0.9337 - recall: 0.8336 - tn: 1090.6022 - tp: 219.6971 - val_accuracy: 0.9342 - val_auc: 0.9628 - val_fn: 9.0000 - val_fp: 11.0000 - val_loss: 0.7178 - val_prc: 0.8678 - val_precision: 0.8103 - val_recall: 0.8393 - val_tn: 237.0000 - val_tp: 47.0000 - learning_rate: 1.0000e-04\n",
            "Epoch 43/100\n",
            "\u001b[1m273/273\u001b[0m \u001b[32m━━━━━━━━━━━━━━━━━━━━\u001b[0m\u001b[37m\u001b[0m \u001b[1m10s\u001b[0m 31ms/step - accuracy: 0.9566 - auc: 0.9834 - fn: 37.3285 - fp: 23.3066 - loss: 0.6086 - prc: 0.9561 - precision: 0.9052 - recall: 0.8627 - tn: 1091.9635 - tp: 222.3504 - val_accuracy: 0.9211 - val_auc: 0.9608 - val_fn: 20.0000 - val_fp: 4.0000 - val_loss: 0.7042 - val_prc: 0.8856 - val_precision: 0.9000 - val_recall: 0.6429 - val_tn: 244.0000 - val_tp: 36.0000 - learning_rate: 1.0000e-04\n",
            "Epoch 44/100\n",
            "\u001b[1m273/273\u001b[0m \u001b[32m━━━━━━━━━━━━━━━━━━━━\u001b[0m\u001b[37m\u001b[0m \u001b[1m8s\u001b[0m 31ms/step - accuracy: 0.9646 - auc: 0.9863 - fn: 36.0073 - fp: 17.9854 - loss: 0.5845 - prc: 0.9654 - precision: 0.9337 - recall: 0.8776 - tn: 1094.2665 - tp: 226.6898 - val_accuracy: 0.9342 - val_auc: 0.9631 - val_fn: 11.0000 - val_fp: 9.0000 - val_loss: 0.6768 - val_prc: 0.8772 - val_precision: 0.8333 - val_recall: 0.8036 - val_tn: 239.0000 - val_tp: 45.0000 - learning_rate: 1.0000e-04\n",
            "Epoch 45/100\n",
            "\u001b[1m273/273\u001b[0m \u001b[32m━━━━━━━━━━━━━━━━━━━━\u001b[0m\u001b[37m\u001b[0m \u001b[1m10s\u001b[0m 31ms/step - accuracy: 0.9485 - auc: 0.9809 - fn: 43.8139 - fp: 24.1898 - loss: 0.6052 - prc: 0.9463 - precision: 0.8882 - recall: 0.8461 - tn: 1082.4343 - tp: 224.5110 - val_accuracy: 0.9342 - val_auc: 0.9647 - val_fn: 13.0000 - val_fp: 7.0000 - val_loss: 0.6571 - val_prc: 0.8969 - val_precision: 0.8600 - val_recall: 0.7679 - val_tn: 241.0000 - val_tp: 43.0000 - learning_rate: 1.0000e-04\n",
            "Epoch 46/100\n",
            "\u001b[1m273/273\u001b[0m \u001b[32m━━━━━━━━━━━━━━━━━━━━\u001b[0m\u001b[37m\u001b[0m \u001b[1m10s\u001b[0m 31ms/step - accuracy: 0.9690 - auc: 0.9792 - fn: 30.2190 - fp: 17.2190 - loss: 0.5603 - prc: 0.9575 - precision: 0.9292 - recall: 0.8832 - tn: 1096.0475 - tp: 231.4635 - val_accuracy: 0.9178 - val_auc: 0.9627 - val_fn: 21.0000 - val_fp: 4.0000 - val_loss: 0.6733 - val_prc: 0.8768 - val_precision: 0.8974 - val_recall: 0.6250 - val_tn: 244.0000 - val_tp: 35.0000 - learning_rate: 1.0000e-04\n",
            "Epoch 47/100\n",
            "\u001b[1m273/273\u001b[0m \u001b[32m━━━━━━━━━━━━━━━━━━━━\u001b[0m\u001b[37m\u001b[0m \u001b[1m8s\u001b[0m 31ms/step - accuracy: 0.9678 - auc: 0.9872 - fn: 30.2117 - fp: 13.9635 - loss: 0.5511 - prc: 0.9692 - precision: 0.9476 - recall: 0.8785 - tn: 1096.3430 - tp: 234.4307 - val_accuracy: 0.9342 - val_auc: 0.9703 - val_fn: 16.0000 - val_fp: 4.0000 - val_loss: 0.6647 - val_prc: 0.8646 - val_precision: 0.9091 - val_recall: 0.7143 - val_tn: 244.0000 - val_tp: 40.0000 - learning_rate: 1.0000e-04\n",
            "Epoch 48/100\n",
            "\u001b[1m273/273\u001b[0m \u001b[32m━━━━━━━━━━━━━━━━━━━━\u001b[0m\u001b[37m\u001b[0m \u001b[1m8s\u001b[0m 31ms/step - accuracy: 0.9587 - auc: 0.9896 - fn: 35.2263 - fp: 18.9854 - loss: 0.5518 - prc: 0.9641 - precision: 0.9174 - recall: 0.8597 - tn: 1094.0292 - tp: 226.7080 - val_accuracy: 0.9243 - val_auc: 0.9618 - val_fn: 18.0000 - val_fp: 5.0000 - val_loss: 0.6402 - val_prc: 0.8872 - val_precision: 0.8837 - val_recall: 0.6786 - val_tn: 243.0000 - val_tp: 38.0000 - learning_rate: 1.0000e-04\n",
            "Epoch 49/100\n",
            "\u001b[1m273/273\u001b[0m \u001b[32m━━━━━━━━━━━━━━━━━━━━\u001b[0m\u001b[37m\u001b[0m \u001b[1m8s\u001b[0m 31ms/step - accuracy: 0.9707 - auc: 0.9937 - fn: 28.7153 - fp: 14.6131 - loss: 0.5140 - prc: 0.9814 - precision: 0.9484 - recall: 0.8974 - tn: 1095.3212 - tp: 236.2993 - val_accuracy: 0.9145 - val_auc: 0.9281 - val_fn: 23.0000 - val_fp: 3.0000 - val_loss: 0.7234 - val_prc: 0.8749 - val_precision: 0.9167 - val_recall: 0.5893 - val_tn: 245.0000 - val_tp: 33.0000 - learning_rate: 1.0000e-04\n",
            "Epoch 50/100\n",
            "\u001b[1m273/273\u001b[0m \u001b[32m━━━━━━━━━━━━━━━━━━━━\u001b[0m\u001b[37m\u001b[0m \u001b[1m10s\u001b[0m 31ms/step - accuracy: 0.9577 - auc: 0.9862 - fn: 34.9963 - fp: 17.8431 - loss: 0.5450 - prc: 0.9597 - precision: 0.9223 - recall: 0.8479 - tn: 1096.9417 - tp: 225.1679 - val_accuracy: 0.9178 - val_auc: 0.9547 - val_fn: 21.0000 - val_fp: 4.0000 - val_loss: 0.6641 - val_prc: 0.8887 - val_precision: 0.8974 - val_recall: 0.6250 - val_tn: 244.0000 - val_tp: 35.0000 - learning_rate: 1.0000e-04\n",
            "Epoch 51/100\n",
            "\u001b[1m273/273\u001b[0m \u001b[32m━━━━━━━━━━━━━━━━━━━━\u001b[0m\u001b[37m\u001b[0m \u001b[1m8s\u001b[0m 31ms/step - accuracy: 0.9684 - auc: 0.9898 - fn: 29.3431 - fp: 16.0547 - loss: 0.5206 - prc: 0.9694 - precision: 0.9426 - recall: 0.8916 - tn: 1090.8905 - tp: 238.6606 - val_accuracy: 0.9276 - val_auc: 0.9506 - val_fn: 19.0000 - val_fp: 3.0000 - val_loss: 0.6802 - val_prc: 0.8843 - val_precision: 0.9250 - val_recall: 0.6607 - val_tn: 245.0000 - val_tp: 37.0000 - learning_rate: 1.0000e-04\n",
            "Epoch 52/100\n",
            "\u001b[1m273/273\u001b[0m \u001b[32m━━━━━━━━━━━━━━━━━━━━\u001b[0m\u001b[37m\u001b[0m \u001b[1m8s\u001b[0m 31ms/step - accuracy: 0.9735 - auc: 0.9921 - fn: 22.9051 - fp: 11.4161 - loss: 0.4912 - prc: 0.9825 - precision: 0.9529 - recall: 0.9094 - tn: 1093.8358 - tp: 246.7920 - val_accuracy: 0.9211 - val_auc: 0.9547 - val_fn: 17.0000 - val_fp: 7.0000 - val_loss: 0.6385 - val_prc: 0.8643 - val_precision: 0.8478 - val_recall: 0.6964 - val_tn: 241.0000 - val_tp: 39.0000 - learning_rate: 1.0000e-05\n",
            "Epoch 53/100\n",
            "\u001b[1m273/273\u001b[0m \u001b[32m━━━━━━━━━━━━━━━━━━━━\u001b[0m\u001b[37m\u001b[0m \u001b[1m10s\u001b[0m 30ms/step - accuracy: 0.9817 - auc: 0.9971 - fn: 17.5730 - fp: 8.0511 - loss: 0.4692 - prc: 0.9905 - precision: 0.9691 - recall: 0.9292 - tn: 1114.5475 - tp: 234.7774 - val_accuracy: 0.9342 - val_auc: 0.9486 - val_fn: 14.0000 - val_fp: 6.0000 - val_loss: 0.6432 - val_prc: 0.8659 - val_precision: 0.8750 - val_recall: 0.7500 - val_tn: 242.0000 - val_tp: 42.0000 - learning_rate: 1.0000e-05\n",
            "Epoch 54/100\n",
            "\u001b[1m273/273\u001b[0m \u001b[32m━━━━━━━━━━━━━━━━━━━━\u001b[0m\u001b[37m\u001b[0m \u001b[1m9s\u001b[0m 31ms/step - accuracy: 0.9857 - auc: 0.9981 - fn: 14.3358 - fp: 7.2190 - loss: 0.4656 - prc: 0.9931 - precision: 0.9767 - recall: 0.9518 - tn: 1094.9380 - tp: 258.4562 - val_accuracy: 0.9408 - val_auc: 0.9546 - val_fn: 11.0000 - val_fp: 7.0000 - val_loss: 0.6345 - val_prc: 0.8709 - val_precision: 0.8654 - val_recall: 0.8036 - val_tn: 241.0000 - val_tp: 45.0000 - learning_rate: 1.0000e-05\n",
            "Epoch 55/100\n",
            "\u001b[1m273/273\u001b[0m \u001b[32m━━━━━━━━━━━━━━━━━━━━\u001b[0m\u001b[37m\u001b[0m \u001b[1m10s\u001b[0m 31ms/step - accuracy: 0.9829 - auc: 0.9947 - fn: 14.1095 - fp: 8.5949 - loss: 0.4638 - prc: 0.9906 - precision: 0.9579 - recall: 0.9503 - tn: 1100.4417 - tp: 251.8029 - val_accuracy: 0.9309 - val_auc: 0.9503 - val_fn: 16.0000 - val_fp: 5.0000 - val_loss: 0.6497 - val_prc: 0.8647 - val_precision: 0.8889 - val_recall: 0.7143 - val_tn: 243.0000 - val_tp: 40.0000 - learning_rate: 1.0000e-05\n",
            "Epoch 56/100\n",
            "\u001b[1m273/273\u001b[0m \u001b[32m━━━━━━━━━━━━━━━━━━━━\u001b[0m\u001b[37m\u001b[0m \u001b[1m8s\u001b[0m 31ms/step - accuracy: 0.9861 - auc: 0.9984 - fn: 13.9453 - fp: 6.9599 - loss: 0.4589 - prc: 0.9939 - precision: 0.9734 - recall: 0.9495 - tn: 1113.5657 - tp: 240.4781 - val_accuracy: 0.9408 - val_auc: 0.9507 - val_fn: 12.0000 - val_fp: 6.0000 - val_loss: 0.6483 - val_prc: 0.8713 - val_precision: 0.8800 - val_recall: 0.7857 - val_tn: 242.0000 - val_tp: 44.0000 - learning_rate: 1.0000e-05\n",
            "Epoch 57/100\n",
            "\u001b[1m273/273\u001b[0m \u001b[32m━━━━━━━━━━━━━━━━━━━━\u001b[0m\u001b[37m\u001b[0m \u001b[1m10s\u001b[0m 30ms/step - accuracy: 0.9839 - auc: 0.9984 - fn: 13.9088 - fp: 8.2117 - loss: 0.4576 - prc: 0.9942 - precision: 0.9668 - recall: 0.9490 - tn: 1106.3175 - tp: 246.5110 - val_accuracy: 0.9276 - val_auc: 0.9533 - val_fn: 17.0000 - val_fp: 5.0000 - val_loss: 0.6976 - val_prc: 0.8679 - val_precision: 0.8864 - val_recall: 0.6964 - val_tn: 243.0000 - val_tp: 39.0000 - learning_rate: 1.0000e-05\n",
            "Epoch 58/100\n",
            "\u001b[1m273/273\u001b[0m \u001b[32m━━━━━━━━━━━━━━━━━━━━\u001b[0m\u001b[37m\u001b[0m \u001b[1m8s\u001b[0m 31ms/step - accuracy: 0.9878 - auc: 0.9938 - fn: 12.9453 - fp: 5.5182 - loss: 0.4524 - prc: 0.9910 - precision: 0.9762 - recall: 0.9559 - tn: 1095.9818 - tp: 260.5037 - val_accuracy: 0.9342 - val_auc: 0.9522 - val_fn: 15.0000 - val_fp: 5.0000 - val_loss: 0.6815 - val_prc: 0.8680 - val_precision: 0.8913 - val_recall: 0.7321 - val_tn: 243.0000 - val_tp: 41.0000 - learning_rate: 1.0000e-06\n"
          ]
        }
      ],
      "source": [
        "history = model.fit(X_train, y_train, epochs=100, batch_size=10, verbose=1, validation_split=0.1, callbacks=[reduce_lr,early_st])"
      ]
    },
    {
      "cell_type": "code",
      "execution_count": null,
      "id": "d280fe01",
      "metadata": {
        "colab": {
          "base_uri": "https://localhost:8080/",
          "height": 472
        },
        "id": "d280fe01",
        "outputId": "c7301e97-b804-4d3a-b81c-33804ab3f48a"
      },
      "outputs": [
        {
          "data": {
            "image/png": "[encoded data removed]",
            "text/plain": [
              "<Figure size 640x480 with 1 Axes>"
            ]
          },
          "metadata": {},
          "output_type": "display_data"
        }
      ],
      "source": [
        "plt.plot(history.history['loss'], label='Training Loss')\n",
        "plt.plot(history.history['val_loss'], label='Validation Loss')\n",
        "plt.xlabel('Epochs')\n",
        "plt.ylabel('Loss')\n",
        "plt.title(f'Training vs Validation Loss for \"{antibiotic}\"')\n",
        "plt.legend()\n",
        "plt.show()\n"
      ]
    },
    {
      "cell_type": "markdown",
      "id": "09293018",
      "metadata": {
        "id": "09293018"
      },
      "source": [
        "### Model Evaluation"
      ]
    },
    {
      "cell_type": "code",
      "execution_count": null,
      "id": "fa13d34d",
      "metadata": {
        "colab": {
          "base_uri": "https://localhost:8080/",
          "height": 427
        },
        "id": "fa13d34d",
        "outputId": "09b2cd88-9eba-47f5-ca7b-1a580ebc3d5c"
      },
      "outputs": [
        {
          "name": "stdout",
          "output_type": "stream",
          "text": [
            "\u001b[1m24/24\u001b[0m \u001b[32m━━━━━━━━━━━━━━━━━━━━\u001b[0m\u001b[37m\u001b[0m \u001b[1m3s\u001b[0m 75ms/step\n"
          ]
        },
        {
          "data": {
            "image/png": "[encoded data removed]",
            "text/plain": [
              "<Figure size 600x400 with 2 Axes>"
            ]
          },
          "metadata": {},
          "output_type": "display_data"
        }
      ],
      "source": [
        "y_pred_prob  = model.predict(X_test)\n",
        "y_pred = (y_pred_prob>0.5)\n",
        "cm = confusion_matrix(y_test, y_pred)\n",
        "\n",
        "target_names = ['Susceptible', 'Resistant']\n",
        "plt.figure(figsize=(6,4))\n",
        "sns.heatmap(cm, annot=True, fmt=\"d\", cmap=\"Blues\",\n",
        "            xticklabels=target_names, yticklabels=target_names)\n",
        "plt.xlabel(\"Predicted\")\n",
        "plt.ylabel(\"Actual\")\n",
        "plt.title(f'Confusion Matrix for \"{antibiotic}\"')\n",
        "plt.show()"
      ]
    },
    {
      "cell_type": "code",
      "execution_count": null,
      "id": "70c58e6d",
      "metadata": {
        "colab": {
          "base_uri": "https://localhost:8080/"
        },
        "id": "70c58e6d",
        "outputId": "ac6deb1d-6b1a-4ab3-daac-739420bf4186"
      },
      "outputs": [
        {
          "name": "stdout",
          "output_type": "stream",
          "text": [
            "              precision    recall  f1-score   support\n",
            "\n",
            " Susceptible       0.93      0.97      0.95       613\n",
            "   Resistant       0.83      0.69      0.75       145\n",
            "\n",
            "    accuracy                           0.91       758\n",
            "   macro avg       0.88      0.83      0.85       758\n",
            "weighted avg       0.91      0.91      0.91       758\n",
            "\n",
            "\u001b[1m304/304\u001b[0m \u001b[32m━━━━━━━━━━━━━━━━━━━━\u001b[0m\u001b[37m\u001b[0m \u001b[1m3s\u001b[0m 8ms/step\n",
            "\u001b[1m76/76\u001b[0m \u001b[32m━━━━━━━━━━━━━━━━━━━━\u001b[0m\u001b[37m\u001b[0m \u001b[1m1s\u001b[0m 10ms/step\n",
            "accuracy :  0.9129287600517273\n",
            "auc :  0.8959048390388489\n",
            "fn :  45.0\n",
            "fp :  21.0\n",
            "loss :  0.8030129075050354\n",
            "prc :  0.7967042326927185\n",
            "precision :  0.8264462947845459\n",
            "recall :  0.6896551847457886\n",
            "tn :  592.0\n",
            "tp :  100.0\n",
            "AUROC: 0.8998,\n",
            "AUPRC: 0.8150\n",
            "\n"
          ]
        }
      ],
      "source": [
        "print(classification_report(y_test, y_pred, target_names=target_names))\n",
        "\n",
        "train_predictions_baseline = model.predict(X_train, batch_size=10)\n",
        "test_predictions_baseline = model.predict(X_test, batch_size=10)\n",
        "\n",
        "baseline_results = model.evaluate(X_test, y_test, return_dict=True, verbose=0)\n",
        "for name, value in baseline_results.items():\n",
        "  print(name, ': ', value)\n",
        "\n",
        "auc = roc_auc_score(y_test, y_pred_prob)\n",
        "aucpr = average_precision_score(y_test, y_pred_prob)\n",
        "print(f\"AUROC: {auc:0.4f},\\nAUPRC: {aucpr:0.4f}\")\n",
        "\n",
        "print()"
      ]
    },
    {
      "cell_type": "markdown",
      "id": "2e750e32",
      "metadata": {
        "id": "2e750e32"
      },
      "source": [
        "AUCROC and AUPRC Plots"
      ]
    },
    {
      "cell_type": "code",
      "execution_count": null,
      "id": "9fee3560",
      "metadata": {
        "colab": {
          "base_uri": "https://localhost:8080/",
          "height": 1000
        },
        "id": "9fee3560",
        "outputId": "559e8e13-7f6a-496f-82cc-0286538fcfa8"
      },
      "outputs": [
        {
          "data": {
            "image/png": "[encoded data removed]",
            "text/plain": [
              "<Figure size 800x600 with 1 Axes>"
            ]
          },
          "metadata": {},
          "output_type": "display_data"
        },
        {
          "data": {
            "image/png": "[encoded data removed]",
            "text/plain": [
              "<Figure size 800x600 with 1 Axes>"
            ]
          },
          "metadata": {},
          "output_type": "display_data"
        }
      ],
      "source": [
        "plt.rcParams['figure.figsize'] = (8, 6)\n",
        "colors = plt.rcParams['axes.prop_cycle'].by_key()['color']\n",
        "\n",
        "def plot_roc(name, labels, predictions, **kwargs):\n",
        "  fp, tp, _ = sklearn.metrics.roc_curve(labels, predictions)\n",
        "\n",
        "  plt.plot(fp, tp, label=name, linewidth=2, **kwargs)\n",
        "  plt.plot([0, 1], [0, 1], 'k--')\n",
        "  plt.xlabel('False positives [%]', fontsize=16)\n",
        "  plt.ylabel('True positives [%]', fontsize=16)\n",
        "  plt.title('AUROC', fontsize=20)\n",
        "\n",
        "  plt.grid(True)\n",
        "  ax = plt.gca()\n",
        "  ax.set_aspect('equal')\n",
        "\n",
        "auroc = roc_auc_score(y_test, test_predictions_baseline)\n",
        "plot_roc(f\"{antibiotic}   AUROC: %0.2f\" % auroc, y_test, test_predictions_baseline, color=colors[0])\n",
        "\n",
        "plt.legend(loc='lower right', fontsize=12)\n",
        "plt.show()\n",
        "\n",
        "def plot_prc(name, labels, predictions, **kwargs):\n",
        "    precision, recall, _ = sklearn.metrics.precision_recall_curve(labels, predictions)\n",
        "\n",
        "    plt.plot(precision, recall, label=name, linewidth=2, **kwargs)\n",
        "    plt.title('AUPRC', fontsize=20)\n",
        "    plt.xlabel('Recall', fontsize=16)\n",
        "    plt.ylabel('Precision', fontsize=16)\n",
        "    plt.plot([1, 0], [0, 1], 'k--')\n",
        "    plt.grid(True)\n",
        "    ax = plt.gca()\n",
        "    ax.set_aspect('equal')\n",
        "\n",
        "auprc = average_precision_score(y_test, test_predictions_baseline)\n",
        "plot_prc(f\"{antibiotic}   AUPRC: %0.2f\" % auprc, y_test, test_predictions_baseline, color=colors[0])\n",
        "\n",
        "plt.legend(loc='lower left', fontsize=12)\n",
        "plt.show()"
      ]
    },
    {
      "cell_type": "markdown",
      "id": "4NkI5VPnr4DR",
      "metadata": {
        "id": "4NkI5VPnr4DR"
      },
      "source": [
        "Multilabel Model"
      ]
    },
    {
      "cell_type": "code",
      "execution_count": null,
      "id": "79xmvyIpr6_r",
      "metadata": {
        "colab": {
          "base_uri": "https://localhost:8080/",
          "height": 897
        },
        "id": "79xmvyIpr6_r",
        "outputId": "cd461ee6-4949-4acf-b414-161d8862e5ca"
      },
      "outputs": [
        {
          "data": {
            "text/html": [
              "<pre style=\"white-space:pre;overflow-x:auto;line-height:normal;font-family:Menlo,'DejaVu Sans Mono',consolas,'Courier New',monospace\"><span style=\"font-weight: bold\">Model: \"s_aureus_Oxacillin_multilabel_model\"</span>\n",
              "</pre>\n"
            ],
            "text/plain": [
              "\u001b[1mModel: \"s_aureus_Oxacillin_multilabel_model\"\u001b[0m\n"
            ]
          },
          "metadata": {},
          "output_type": "display_data"
        },
        {
          "data": {
            "text/html": [
              "<pre style=\"white-space:pre;overflow-x:auto;line-height:normal;font-family:Menlo,'DejaVu Sans Mono',consolas,'Courier New',monospace\">┏━━━━━━━━━━━━━━━━━━━━━━━━━━━━━━━━━┳━━━━━━━━━━━━━━━━━━━━━━━━┳━━━━━━━━━━━━━━━┓\n",
              "┃<span style=\"font-weight: bold\"> Layer (type)                    </span>┃<span style=\"font-weight: bold\"> Output Shape           </span>┃<span style=\"font-weight: bold\">       Param # </span>┃\n",
              "┡━━━━━━━━━━━━━━━━━━━━━━━━━━━━━━━━━╇━━━━━━━━━━━━━━━━━━━━━━━━╇━━━━━━━━━━━━━━━┩\n",
              "│ Conv_1 (<span style=\"color: #0087ff; text-decoration-color: #0087ff\">Conv1D</span>)                 │ (<span style=\"color: #00d7ff; text-decoration-color: #00d7ff\">None</span>, <span style=\"color: #00af00; text-decoration-color: #00af00\">5984</span>, <span style=\"color: #00af00; text-decoration-color: #00af00\">64</span>)       │         <span style=\"color: #00af00; text-decoration-color: #00af00\">1,152</span> │\n",
              "├─────────────────────────────────┼────────────────────────┼───────────────┤\n",
              "│ batch_normalization_4           │ (<span style=\"color: #00d7ff; text-decoration-color: #00d7ff\">None</span>, <span style=\"color: #00af00; text-decoration-color: #00af00\">5984</span>, <span style=\"color: #00af00; text-decoration-color: #00af00\">64</span>)       │           <span style=\"color: #00af00; text-decoration-color: #00af00\">256</span> │\n",
              "│ (<span style=\"color: #0087ff; text-decoration-color: #0087ff\">BatchNormalization</span>)            │                        │               │\n",
              "├─────────────────────────────────┼────────────────────────┼───────────────┤\n",
              "│ activation_4 (<span style=\"color: #0087ff; text-decoration-color: #0087ff\">Activation</span>)       │ (<span style=\"color: #00d7ff; text-decoration-color: #00d7ff\">None</span>, <span style=\"color: #00af00; text-decoration-color: #00af00\">5984</span>, <span style=\"color: #00af00; text-decoration-color: #00af00\">64</span>)       │             <span style=\"color: #00af00; text-decoration-color: #00af00\">0</span> │\n",
              "├─────────────────────────────────┼────────────────────────┼───────────────┤\n",
              "│ MaxPooling1D_1 (<span style=\"color: #0087ff; text-decoration-color: #0087ff\">MaxPooling1D</span>)   │ (<span style=\"color: #00d7ff; text-decoration-color: #00d7ff\">None</span>, <span style=\"color: #00af00; text-decoration-color: #00af00\">2992</span>, <span style=\"color: #00af00; text-decoration-color: #00af00\">64</span>)       │             <span style=\"color: #00af00; text-decoration-color: #00af00\">0</span> │\n",
              "├─────────────────────────────────┼────────────────────────┼───────────────┤\n",
              "│ Conv_2 (<span style=\"color: #0087ff; text-decoration-color: #0087ff\">Conv1D</span>)                 │ (<span style=\"color: #00d7ff; text-decoration-color: #00d7ff\">None</span>, <span style=\"color: #00af00; text-decoration-color: #00af00\">2984</span>, <span style=\"color: #00af00; text-decoration-color: #00af00\">128</span>)      │        <span style=\"color: #00af00; text-decoration-color: #00af00\">73,856</span> │\n",
              "├─────────────────────────────────┼────────────────────────┼───────────────┤\n",
              "│ batch_normalization_5           │ (<span style=\"color: #00d7ff; text-decoration-color: #00d7ff\">None</span>, <span style=\"color: #00af00; text-decoration-color: #00af00\">2984</span>, <span style=\"color: #00af00; text-decoration-color: #00af00\">128</span>)      │           <span style=\"color: #00af00; text-decoration-color: #00af00\">512</span> │\n",
              "│ (<span style=\"color: #0087ff; text-decoration-color: #0087ff\">BatchNormalization</span>)            │                        │               │\n",
              "├─────────────────────────────────┼────────────────────────┼───────────────┤\n",
              "│ activation_5 (<span style=\"color: #0087ff; text-decoration-color: #0087ff\">Activation</span>)       │ (<span style=\"color: #00d7ff; text-decoration-color: #00d7ff\">None</span>, <span style=\"color: #00af00; text-decoration-color: #00af00\">2984</span>, <span style=\"color: #00af00; text-decoration-color: #00af00\">128</span>)      │             <span style=\"color: #00af00; text-decoration-color: #00af00\">0</span> │\n",
              "├─────────────────────────────────┼────────────────────────┼───────────────┤\n",
              "│ MaxPooling1D_2 (<span style=\"color: #0087ff; text-decoration-color: #0087ff\">MaxPooling1D</span>)   │ (<span style=\"color: #00d7ff; text-decoration-color: #00d7ff\">None</span>, <span style=\"color: #00af00; text-decoration-color: #00af00\">1492</span>, <span style=\"color: #00af00; text-decoration-color: #00af00\">128</span>)      │             <span style=\"color: #00af00; text-decoration-color: #00af00\">0</span> │\n",
              "├─────────────────────────────────┼────────────────────────┼───────────────┤\n",
              "│ Conv_3 (<span style=\"color: #0087ff; text-decoration-color: #0087ff\">Conv1D</span>)                 │ (<span style=\"color: #00d7ff; text-decoration-color: #00d7ff\">None</span>, <span style=\"color: #00af00; text-decoration-color: #00af00\">1488</span>, <span style=\"color: #00af00; text-decoration-color: #00af00\">256</span>)      │       <span style=\"color: #00af00; text-decoration-color: #00af00\">164,096</span> │\n",
              "├─────────────────────────────────┼────────────────────────┼───────────────┤\n",
              "│ batch_normalization_6           │ (<span style=\"color: #00d7ff; text-decoration-color: #00d7ff\">None</span>, <span style=\"color: #00af00; text-decoration-color: #00af00\">1488</span>, <span style=\"color: #00af00; text-decoration-color: #00af00\">256</span>)      │         <span style=\"color: #00af00; text-decoration-color: #00af00\">1,024</span> │\n",
              "│ (<span style=\"color: #0087ff; text-decoration-color: #0087ff\">BatchNormalization</span>)            │                        │               │\n",
              "├─────────────────────────────────┼────────────────────────┼───────────────┤\n",
              "│ activation_6 (<span style=\"color: #0087ff; text-decoration-color: #0087ff\">Activation</span>)       │ (<span style=\"color: #00d7ff; text-decoration-color: #00d7ff\">None</span>, <span style=\"color: #00af00; text-decoration-color: #00af00\">1488</span>, <span style=\"color: #00af00; text-decoration-color: #00af00\">256</span>)      │             <span style=\"color: #00af00; text-decoration-color: #00af00\">0</span> │\n",
              "├─────────────────────────────────┼────────────────────────┼───────────────┤\n",
              "│ MaxPooling1D_3 (<span style=\"color: #0087ff; text-decoration-color: #0087ff\">MaxPooling1D</span>)   │ (<span style=\"color: #00d7ff; text-decoration-color: #00d7ff\">None</span>, <span style=\"color: #00af00; text-decoration-color: #00af00\">744</span>, <span style=\"color: #00af00; text-decoration-color: #00af00\">256</span>)       │             <span style=\"color: #00af00; text-decoration-color: #00af00\">0</span> │\n",
              "├─────────────────────────────────┼────────────────────────┼───────────────┤\n",
              "│ Conv_4 (<span style=\"color: #0087ff; text-decoration-color: #0087ff\">Conv1D</span>)                 │ (<span style=\"color: #00d7ff; text-decoration-color: #00d7ff\">None</span>, <span style=\"color: #00af00; text-decoration-color: #00af00\">740</span>, <span style=\"color: #00af00; text-decoration-color: #00af00\">256</span>)       │       <span style=\"color: #00af00; text-decoration-color: #00af00\">327,936</span> │\n",
              "├─────────────────────────────────┼────────────────────────┼───────────────┤\n",
              "│ batch_normalization_7           │ (<span style=\"color: #00d7ff; text-decoration-color: #00d7ff\">None</span>, <span style=\"color: #00af00; text-decoration-color: #00af00\">740</span>, <span style=\"color: #00af00; text-decoration-color: #00af00\">256</span>)       │         <span style=\"color: #00af00; text-decoration-color: #00af00\">1,024</span> │\n",
              "│ (<span style=\"color: #0087ff; text-decoration-color: #0087ff\">BatchNormalization</span>)            │                        │               │\n",
              "├─────────────────────────────────┼────────────────────────┼───────────────┤\n",
              "│ activation_7 (<span style=\"color: #0087ff; text-decoration-color: #0087ff\">Activation</span>)       │ (<span style=\"color: #00d7ff; text-decoration-color: #00d7ff\">None</span>, <span style=\"color: #00af00; text-decoration-color: #00af00\">740</span>, <span style=\"color: #00af00; text-decoration-color: #00af00\">256</span>)       │             <span style=\"color: #00af00; text-decoration-color: #00af00\">0</span> │\n",
              "├─────────────────────────────────┼────────────────────────┼───────────────┤\n",
              "│ MaxPooling1D_4 (<span style=\"color: #0087ff; text-decoration-color: #0087ff\">MaxPooling1D</span>)   │ (<span style=\"color: #00d7ff; text-decoration-color: #00d7ff\">None</span>, <span style=\"color: #00af00; text-decoration-color: #00af00\">370</span>, <span style=\"color: #00af00; text-decoration-color: #00af00\">256</span>)       │             <span style=\"color: #00af00; text-decoration-color: #00af00\">0</span> │\n",
              "├─────────────────────────────────┼────────────────────────┼───────────────┤\n",
              "│ flatten_1 (<span style=\"color: #0087ff; text-decoration-color: #0087ff\">Flatten</span>)             │ (<span style=\"color: #00d7ff; text-decoration-color: #00d7ff\">None</span>, <span style=\"color: #00af00; text-decoration-color: #00af00\">94720</span>)          │             <span style=\"color: #00af00; text-decoration-color: #00af00\">0</span> │\n",
              "├─────────────────────────────────┼────────────────────────┼───────────────┤\n",
              "│ dropout_1 (<span style=\"color: #0087ff; text-decoration-color: #0087ff\">Dropout</span>)             │ (<span style=\"color: #00d7ff; text-decoration-color: #00d7ff\">None</span>, <span style=\"color: #00af00; text-decoration-color: #00af00\">94720</span>)          │             <span style=\"color: #00af00; text-decoration-color: #00af00\">0</span> │\n",
              "├─────────────────────────────────┼────────────────────────┼───────────────┤\n",
              "│ fully_connected_0 (<span style=\"color: #0087ff; text-decoration-color: #0087ff\">Dense</span>)       │ (<span style=\"color: #00d7ff; text-decoration-color: #00d7ff\">None</span>, <span style=\"color: #00af00; text-decoration-color: #00af00\">256</span>)            │    <span style=\"color: #00af00; text-decoration-color: #00af00\">24,248,576</span> │\n",
              "├─────────────────────────────────┼────────────────────────┼───────────────┤\n",
              "│ fully_connected_1 (<span style=\"color: #0087ff; text-decoration-color: #0087ff\">Dense</span>)       │ (<span style=\"color: #00d7ff; text-decoration-color: #00d7ff\">None</span>, <span style=\"color: #00af00; text-decoration-color: #00af00\">64</span>)             │        <span style=\"color: #00af00; text-decoration-color: #00af00\">16,448</span> │\n",
              "├─────────────────────────────────┼────────────────────────┼───────────────┤\n",
              "│ fully_connected_2 (<span style=\"color: #0087ff; text-decoration-color: #0087ff\">Dense</span>)       │ (<span style=\"color: #00d7ff; text-decoration-color: #00d7ff\">None</span>, <span style=\"color: #00af00; text-decoration-color: #00af00\">64</span>)             │         <span style=\"color: #00af00; text-decoration-color: #00af00\">4,160</span> │\n",
              "├─────────────────────────────────┼────────────────────────┼───────────────┤\n",
              "│ OUT_Layer (<span style=\"color: #0087ff; text-decoration-color: #0087ff\">Dense</span>)               │ (<span style=\"color: #00d7ff; text-decoration-color: #00d7ff\">None</span>, <span style=\"color: #00af00; text-decoration-color: #00af00\">5</span>)              │           <span style=\"color: #00af00; text-decoration-color: #00af00\">325</span> │\n",
              "└─────────────────────────────────┴────────────────────────┴───────────────┘\n",
              "</pre>\n"
            ],
            "text/plain": [
              "┏━━━━━━━━━━━━━━━━━━━━━━━━━━━━━━━━━┳━━━━━━━━━━━━━━━━━━━━━━━━┳━━━━━━━━━━━━━━━┓\n",
              "┃\u001b[1m \u001b[0m\u001b[1mLayer (type)                   \u001b[0m\u001b[1m \u001b[0m┃\u001b[1m \u001b[0m\u001b[1mOutput Shape          \u001b[0m\u001b[1m \u001b[0m┃\u001b[1m \u001b[0m\u001b[1m      Param #\u001b[0m\u001b[1m \u001b[0m┃\n",
              "┡━━━━━━━━━━━━━━━━━━━━━━━━━━━━━━━━━╇━━━━━━━━━━━━━━━━━━━━━━━━╇━━━━━━━━━━━━━━━┩\n",
              "│ Conv_1 (\u001b[38;5;33mConv1D\u001b[0m)                 │ (\u001b[38;5;45mNone\u001b[0m, \u001b[38;5;34m5984\u001b[0m, \u001b[38;5;34m64\u001b[0m)       │         \u001b[38;5;34m1,152\u001b[0m │\n",
              "├─────────────────────────────────┼────────────────────────┼───────────────┤\n",
              "│ batch_normalization_4           │ (\u001b[38;5;45mNone\u001b[0m, \u001b[38;5;34m5984\u001b[0m, \u001b[38;5;34m64\u001b[0m)       │           \u001b[38;5;34m256\u001b[0m │\n",
              "│ (\u001b[38;5;33mBatchNormalization\u001b[0m)            │                        │               │\n",
              "├─────────────────────────────────┼────────────────────────┼───────────────┤\n",
              "│ activation_4 (\u001b[38;5;33mActivation\u001b[0m)       │ (\u001b[38;5;45mNone\u001b[0m, \u001b[38;5;34m5984\u001b[0m, \u001b[38;5;34m64\u001b[0m)       │             \u001b[38;5;34m0\u001b[0m │\n",
              "├─────────────────────────────────┼────────────────────────┼───────────────┤\n",
              "│ MaxPooling1D_1 (\u001b[38;5;33mMaxPooling1D\u001b[0m)   │ (\u001b[38;5;45mNone\u001b[0m, \u001b[38;5;34m2992\u001b[0m, \u001b[38;5;34m64\u001b[0m)       │             \u001b[38;5;34m0\u001b[0m │\n",
              "├─────────────────────────────────┼────────────────────────┼───────────────┤\n",
              "│ Conv_2 (\u001b[38;5;33mConv1D\u001b[0m)                 │ (\u001b[38;5;45mNone\u001b[0m, \u001b[38;5;34m2984\u001b[0m, \u001b[38;5;34m128\u001b[0m)      │        \u001b[38;5;34m73,856\u001b[0m │\n",
              "├─────────────────────────────────┼────────────────────────┼───────────────┤\n",
              "│ batch_normalization_5           │ (\u001b[38;5;45mNone\u001b[0m, \u001b[38;5;34m2984\u001b[0m, \u001b[38;5;34m128\u001b[0m)      │           \u001b[38;5;34m512\u001b[0m │\n",
              "│ (\u001b[38;5;33mBatchNormalization\u001b[0m)            │                        │               │\n",
              "├─────────────────────────────────┼────────────────────────┼───────────────┤\n",
              "│ activation_5 (\u001b[38;5;33mActivation\u001b[0m)       │ (\u001b[38;5;45mNone\u001b[0m, \u001b[38;5;34m2984\u001b[0m, \u001b[38;5;34m128\u001b[0m)      │             \u001b[38;5;34m0\u001b[0m │\n",
              "├─────────────────────────────────┼────────────────────────┼───────────────┤\n",
              "│ MaxPooling1D_2 (\u001b[38;5;33mMaxPooling1D\u001b[0m)   │ (\u001b[38;5;45mNone\u001b[0m, \u001b[38;5;34m1492\u001b[0m, \u001b[38;5;34m128\u001b[0m)      │             \u001b[38;5;34m0\u001b[0m │\n",
              "├─────────────────────────────────┼────────────────────────┼───────────────┤\n",
              "│ Conv_3 (\u001b[38;5;33mConv1D\u001b[0m)                 │ (\u001b[38;5;45mNone\u001b[0m, \u001b[38;5;34m1488\u001b[0m, \u001b[38;5;34m256\u001b[0m)      │       \u001b[38;5;34m164,096\u001b[0m │\n",
              "├─────────────────────────────────┼────────────────────────┼───────────────┤\n",
              "│ batch_normalization_6           │ (\u001b[38;5;45mNone\u001b[0m, \u001b[38;5;34m1488\u001b[0m, \u001b[38;5;34m256\u001b[0m)      │         \u001b[38;5;34m1,024\u001b[0m │\n",
              "│ (\u001b[38;5;33mBatchNormalization\u001b[0m)            │                        │               │\n",
              "├─────────────────────────────────┼────────────────────────┼───────────────┤\n",
              "│ activation_6 (\u001b[38;5;33mActivation\u001b[0m)       │ (\u001b[38;5;45mNone\u001b[0m, \u001b[38;5;34m1488\u001b[0m, \u001b[38;5;34m256\u001b[0m)      │             \u001b[38;5;34m0\u001b[0m │\n",
              "├─────────────────────────────────┼────────────────────────┼───────────────┤\n",
              "│ MaxPooling1D_3 (\u001b[38;5;33mMaxPooling1D\u001b[0m)   │ (\u001b[38;5;45mNone\u001b[0m, \u001b[38;5;34m744\u001b[0m, \u001b[38;5;34m256\u001b[0m)       │             \u001b[38;5;34m0\u001b[0m │\n",
              "├─────────────────────────────────┼────────────────────────┼───────────────┤\n",
              "│ Conv_4 (\u001b[38;5;33mConv1D\u001b[0m)                 │ (\u001b[38;5;45mNone\u001b[0m, \u001b[38;5;34m740\u001b[0m, \u001b[38;5;34m256\u001b[0m)       │       \u001b[38;5;34m327,936\u001b[0m │\n",
              "├─────────────────────────────────┼────────────────────────┼───────────────┤\n",
              "│ batch_normalization_7           │ (\u001b[38;5;45mNone\u001b[0m, \u001b[38;5;34m740\u001b[0m, \u001b[38;5;34m256\u001b[0m)       │         \u001b[38;5;34m1,024\u001b[0m │\n",
              "│ (\u001b[38;5;33mBatchNormalization\u001b[0m)            │                        │               │\n",
              "├─────────────────────────────────┼────────────────────────┼───────────────┤\n",
              "│ activation_7 (\u001b[38;5;33mActivation\u001b[0m)       │ (\u001b[38;5;45mNone\u001b[0m, \u001b[38;5;34m740\u001b[0m, \u001b[38;5;34m256\u001b[0m)       │             \u001b[38;5;34m0\u001b[0m │\n",
              "├─────────────────────────────────┼────────────────────────┼───────────────┤\n",
              "│ MaxPooling1D_4 (\u001b[38;5;33mMaxPooling1D\u001b[0m)   │ (\u001b[38;5;45mNone\u001b[0m, \u001b[38;5;34m370\u001b[0m, \u001b[38;5;34m256\u001b[0m)       │             \u001b[38;5;34m0\u001b[0m │\n",
              "├─────────────────────────────────┼────────────────────────┼───────────────┤\n",
              "│ flatten_1 (\u001b[38;5;33mFlatten\u001b[0m)             │ (\u001b[38;5;45mNone\u001b[0m, \u001b[38;5;34m94720\u001b[0m)          │             \u001b[38;5;34m0\u001b[0m │\n",
              "├─────────────────────────────────┼────────────────────────┼───────────────┤\n",
              "│ dropout_1 (\u001b[38;5;33mDropout\u001b[0m)             │ (\u001b[38;5;45mNone\u001b[0m, \u001b[38;5;34m94720\u001b[0m)          │             \u001b[38;5;34m0\u001b[0m │\n",
              "├─────────────────────────────────┼────────────────────────┼───────────────┤\n",
              "│ fully_connected_0 (\u001b[38;5;33mDense\u001b[0m)       │ (\u001b[38;5;45mNone\u001b[0m, \u001b[38;5;34m256\u001b[0m)            │    \u001b[38;5;34m24,248,576\u001b[0m │\n",
              "├─────────────────────────────────┼────────────────────────┼───────────────┤\n",
              "│ fully_connected_1 (\u001b[38;5;33mDense\u001b[0m)       │ (\u001b[38;5;45mNone\u001b[0m, \u001b[38;5;34m64\u001b[0m)             │        \u001b[38;5;34m16,448\u001b[0m │\n",
              "├─────────────────────────────────┼────────────────────────┼───────────────┤\n",
              "│ fully_connected_2 (\u001b[38;5;33mDense\u001b[0m)       │ (\u001b[38;5;45mNone\u001b[0m, \u001b[38;5;34m64\u001b[0m)             │         \u001b[38;5;34m4,160\u001b[0m │\n",
              "├─────────────────────────────────┼────────────────────────┼───────────────┤\n",
              "│ OUT_Layer (\u001b[38;5;33mDense\u001b[0m)               │ (\u001b[38;5;45mNone\u001b[0m, \u001b[38;5;34m5\u001b[0m)              │           \u001b[38;5;34m325\u001b[0m │\n",
              "└─────────────────────────────────┴────────────────────────┴───────────────┘\n"
            ]
          },
          "metadata": {},
          "output_type": "display_data"
        },
        {
          "data": {
            "text/html": [
              "<pre style=\"white-space:pre;overflow-x:auto;line-height:normal;font-family:Menlo,'DejaVu Sans Mono',consolas,'Courier New',monospace\"><span style=\"font-weight: bold\"> Total params: </span><span style=\"color: #00af00; text-decoration-color: #00af00\">24,839,365</span> (94.75 MB)\n",
              "</pre>\n"
            ],
            "text/plain": [
              "\u001b[1m Total params: \u001b[0m\u001b[38;5;34m24,839,365\u001b[0m (94.75 MB)\n"
            ]
          },
          "metadata": {},
          "output_type": "display_data"
        },
        {
          "data": {
            "text/html": [
              "<pre style=\"white-space:pre;overflow-x:auto;line-height:normal;font-family:Menlo,'DejaVu Sans Mono',consolas,'Courier New',monospace\"><span style=\"font-weight: bold\"> Trainable params: </span><span style=\"color: #00af00; text-decoration-color: #00af00\">24,837,957</span> (94.75 MB)\n",
              "</pre>\n"
            ],
            "text/plain": [
              "\u001b[1m Trainable params: \u001b[0m\u001b[38;5;34m24,837,957\u001b[0m (94.75 MB)\n"
            ]
          },
          "metadata": {},
          "output_type": "display_data"
        },
        {
          "data": {
            "text/html": [
              "<pre style=\"white-space:pre;overflow-x:auto;line-height:normal;font-family:Menlo,'DejaVu Sans Mono',consolas,'Courier New',monospace\"><span style=\"font-weight: bold\"> Non-trainable params: </span><span style=\"color: #00af00; text-decoration-color: #00af00\">1,408</span> (5.50 KB)\n",
              "</pre>\n"
            ],
            "text/plain": [
              "\u001b[1m Non-trainable params: \u001b[0m\u001b[38;5;34m1,408\u001b[0m (5.50 KB)\n"
            ]
          },
          "metadata": {},
          "output_type": "display_data"
        }
      ],
      "source": [
        "X_train, X_test, y_train, y_test = create_dataset(df, antibiotics, 6000)\n",
        "\n",
        "_, n_timesteps, n_features = X_train.shape\n",
        "\n",
        "model = create_model(f's_aureus_{antibiotic}_multilabel_model', n_features, n_timesteps, n_targets=5)\n",
        "model.summary()"
      ]
    },
    {
      "cell_type": "code",
      "execution_count": null,
      "id": "ir1pGfQNsMXW",
      "metadata": {
        "id": "ir1pGfQNsMXW"
      },
      "outputs": [],
      "source": [
        "reduce_lr = ReduceLROnPlateau(monitor='val_loss', factor=0.1, patience=3, min_lr=0.000001)\n",
        "early_st = EarlyStopping(monitor='val_loss', patience=4, restore_best_weights=True)"
      ]
    },
    {
      "cell_type": "code",
      "execution_count": null,
      "id": "lzqQ_R8IsWK7",
      "metadata": {
        "colab": {
          "base_uri": "https://localhost:8080/"
        },
        "id": "lzqQ_R8IsWK7",
        "outputId": "a86530e4-8501-4a3f-9556-87e8b0858fd2"
      },
      "outputs": [
        {
          "name": "stdout",
          "output_type": "stream",
          "text": [
            "Epoch 1/100\n",
            "\u001b[1m254/254\u001b[0m \u001b[32m━━━━━━━━━━━━━━━━━━━━\u001b[0m\u001b[37m\u001b[0m \u001b[1m28s\u001b[0m 74ms/step - accuracy: 0.7893 - auc: 0.5698 - fn: 885.5569 - fp: 288.5490 - loss: 6.4902 - prc: 0.1849 - precision: 0.2021 - recall: 0.1244 - tn: 5151.4824 - tp: 74.1373 - val_accuracy: 0.8459 - val_auc: 0.5908 - val_fn: 218.0000 - val_fp: 0.0000e+00 - val_loss: 5.7103 - val_prc: 0.1948 - val_precision: 0.0000e+00 - val_recall: 0.0000e+00 - val_tn: 1197.0000 - val_tp: 0.0000e+00 - learning_rate: 1.0000e-04\n",
            "Epoch 2/100\n",
            "\u001b[1m254/254\u001b[0m \u001b[32m━━━━━━━━━━━━━━━━━━━━\u001b[0m\u001b[37m\u001b[0m \u001b[1m26s\u001b[0m 31ms/step - accuracy: 0.8511 - auc: 0.6384 - fn: 920.7922 - fp: 49.1255 - loss: 5.4122 - prc: 0.2311 - precision: 0.3238 - recall: 0.0258 - tn: 5399.7568 - tp: 30.0510 - val_accuracy: 0.8459 - val_auc: 0.6490 - val_fn: 218.0000 - val_fp: 0.0000e+00 - val_loss: 4.8983 - val_prc: 0.2930 - val_precision: 0.0000e+00 - val_recall: 0.0000e+00 - val_tn: 1197.0000 - val_tp: 0.0000e+00 - learning_rate: 1.0000e-04\n",
            "Epoch 3/100\n",
            "\u001b[1m254/254\u001b[0m \u001b[32m━━━━━━━━━━━━━━━━━━━━\u001b[0m\u001b[37m\u001b[0m \u001b[1m8s\u001b[0m 31ms/step - accuracy: 0.8525 - auc: 0.6821 - fn: 901.2706 - fp: 47.9961 - loss: 4.7080 - prc: 0.3269 - precision: 0.6491 - recall: 0.0832 - tn: 5374.3140 - tp: 76.1451 - val_accuracy: 0.8509 - val_auc: 0.6804 - val_fn: 208.0000 - val_fp: 3.0000 - val_loss: 4.2708 - val_prc: 0.3529 - val_precision: 0.7692 - val_recall: 0.0459 - val_tn: 1194.0000 - val_tp: 10.0000 - learning_rate: 1.0000e-04\n",
            "Epoch 4/100\n",
            "\u001b[1m254/254\u001b[0m \u001b[32m━━━━━━━━━━━━━━━━━━━━\u001b[0m\u001b[37m\u001b[0m \u001b[1m10s\u001b[0m 32ms/step - accuracy: 0.8584 - auc: 0.7449 - fn: 822.2432 - fp: 95.4392 - loss: 4.1160 - prc: 0.4103 - precision: 0.6332 - recall: 0.1640 - tn: 5327.0000 - tp: 155.0431 - val_accuracy: 0.8551 - val_auc: 0.7405 - val_fn: 203.0000 - val_fp: 2.0000 - val_loss: 3.7614 - val_prc: 0.4280 - val_precision: 0.8824 - val_recall: 0.0688 - val_tn: 1195.0000 - val_tp: 15.0000 - learning_rate: 1.0000e-04\n",
            "Epoch 5/100\n",
            "\u001b[1m254/254\u001b[0m \u001b[32m━━━━━━━━━━━━━━━━━━━━\u001b[0m\u001b[37m\u001b[0m \u001b[1m10s\u001b[0m 31ms/step - accuracy: 0.8635 - auc: 0.7292 - fn: 797.5961 - fp: 78.8235 - loss: 3.6483 - prc: 0.3992 - precision: 0.6631 - recall: 0.1588 - tn: 5360.2236 - tp: 163.0824 - val_accuracy: 0.8657 - val_auc: 0.7528 - val_fn: 183.0000 - val_fp: 7.0000 - val_loss: 3.3386 - val_prc: 0.4679 - val_precision: 0.8333 - val_recall: 0.1606 - val_tn: 1190.0000 - val_tp: 35.0000 - learning_rate: 1.0000e-04\n",
            "Epoch 6/100\n",
            "\u001b[1m254/254\u001b[0m \u001b[32m━━━━━━━━━━━━━━━━━━━━\u001b[0m\u001b[37m\u001b[0m \u001b[1m8s\u001b[0m 31ms/step - accuracy: 0.8786 - auc: 0.7551 - fn: 726.2392 - fp: 80.6980 - loss: 3.2235 - prc: 0.4479 - precision: 0.7374 - recall: 0.2103 - tn: 5392.7920 - tp: 199.9961 - val_accuracy: 0.8572 - val_auc: 0.7475 - val_fn: 165.0000 - val_fp: 37.0000 - val_loss: 2.9929 - val_prc: 0.4672 - val_precision: 0.5889 - val_recall: 0.2431 - val_tn: 1160.0000 - val_tp: 53.0000 - learning_rate: 1.0000e-04\n",
            "Epoch 7/100\n",
            "\u001b[1m254/254\u001b[0m \u001b[32m━━━━━━━━━━━━━━━━━━━━\u001b[0m\u001b[37m\u001b[0m \u001b[1m8s\u001b[0m 31ms/step - accuracy: 0.8779 - auc: 0.7629 - fn: 710.3451 - fp: 77.7216 - loss: 2.8815 - prc: 0.4340 - precision: 0.6861 - recall: 0.2040 - tn: 5409.8550 - tp: 201.8039 - val_accuracy: 0.8700 - val_auc: 0.7578 - val_fn: 180.0000 - val_fp: 4.0000 - val_loss: 2.6851 - val_prc: 0.4755 - val_precision: 0.9048 - val_recall: 0.1743 - val_tn: 1193.0000 - val_tp: 38.0000 - learning_rate: 1.0000e-04\n",
            "Epoch 8/100\n",
            "\u001b[1m254/254\u001b[0m \u001b[32m━━━━━━━━━━━━━━━━━━━━\u001b[0m\u001b[37m\u001b[0m \u001b[1m8s\u001b[0m 30ms/step - accuracy: 0.8716 - auc: 0.7722 - fn: 732.3490 - fp: 94.2588 - loss: 2.6003 - prc: 0.4968 - precision: 0.7317 - recall: 0.2499 - tn: 5327.2822 - tp: 245.8353 - val_accuracy: 0.8693 - val_auc: 0.7663 - val_fn: 175.0000 - val_fp: 10.0000 - val_loss: 2.4144 - val_prc: 0.4969 - val_precision: 0.8113 - val_recall: 0.1972 - val_tn: 1187.0000 - val_tp: 43.0000 - learning_rate: 1.0000e-04\n",
            "Epoch 9/100\n",
            "\u001b[1m254/254\u001b[0m \u001b[32m━━━━━━━━━━━━━━━━━━━━\u001b[0m\u001b[37m\u001b[0m \u001b[1m8s\u001b[0m 31ms/step - accuracy: 0.8755 - auc: 0.7747 - fn: 704.7490 - fp: 88.9373 - loss: 2.3390 - prc: 0.4901 - precision: 0.7153 - recall: 0.2471 - tn: 5367.4746 - tp: 238.5647 - val_accuracy: 0.8636 - val_auc: 0.7779 - val_fn: 159.0000 - val_fp: 34.0000 - val_loss: 2.1813 - val_prc: 0.5152 - val_precision: 0.6344 - val_recall: 0.2706 - val_tn: 1163.0000 - val_tp: 59.0000 - learning_rate: 1.0000e-04\n",
            "Epoch 10/100\n",
            "\u001b[1m254/254\u001b[0m \u001b[32m━━━━━━━━━━━━━━━━━━━━\u001b[0m\u001b[37m\u001b[0m \u001b[1m10s\u001b[0m 31ms/step - accuracy: 0.8768 - auc: 0.7922 - fn: 679.8941 - fp: 105.2392 - loss: 2.1164 - prc: 0.5340 - precision: 0.7292 - recall: 0.3021 - tn: 5321.5254 - tp: 293.0667 - val_accuracy: 0.8643 - val_auc: 0.7780 - val_fn: 162.0000 - val_fp: 30.0000 - val_loss: 1.9803 - val_prc: 0.5242 - val_precision: 0.6512 - val_recall: 0.2569 - val_tn: 1167.0000 - val_tp: 56.0000 - learning_rate: 1.0000e-04\n",
            "Epoch 11/100\n",
            "\u001b[1m254/254\u001b[0m \u001b[32m━━━━━━━━━━━━━━━━━━━━\u001b[0m\u001b[37m\u001b[0m \u001b[1m10s\u001b[0m 31ms/step - accuracy: 0.8810 - auc: 0.7830 - fn: 678.6667 - fp: 96.3412 - loss: 1.9237 - prc: 0.5239 - precision: 0.7486 - recall: 0.2965 - tn: 5331.2627 - tp: 293.4549 - val_accuracy: 0.8686 - val_auc: 0.7859 - val_fn: 158.0000 - val_fp: 28.0000 - val_loss: 1.8088 - val_prc: 0.5266 - val_precision: 0.6818 - val_recall: 0.2752 - val_tn: 1169.0000 - val_tp: 60.0000 - learning_rate: 1.0000e-04\n",
            "Epoch 12/100\n",
            "\u001b[1m254/254\u001b[0m \u001b[32m━━━━━━━━━━━━━━━━━━━━\u001b[0m\u001b[37m\u001b[0m \u001b[1m10s\u001b[0m 31ms/step - accuracy: 0.8828 - auc: 0.8117 - fn: 661.8392 - fp: 91.7961 - loss: 1.7489 - prc: 0.5805 - precision: 0.7867 - recall: 0.3220 - tn: 5331.9961 - tp: 314.0941 - val_accuracy: 0.8714 - val_auc: 0.7631 - val_fn: 175.0000 - val_fp: 7.0000 - val_loss: 1.6839 - val_prc: 0.5081 - val_precision: 0.8600 - val_recall: 0.1972 - val_tn: 1190.0000 - val_tp: 43.0000 - learning_rate: 1.0000e-04\n",
            "Epoch 13/100\n",
            "\u001b[1m254/254\u001b[0m \u001b[32m━━━━━━━━━━━━━━━━━━━━\u001b[0m\u001b[37m\u001b[0m \u001b[1m10s\u001b[0m 32ms/step - accuracy: 0.8904 - auc: 0.7958 - fn: 641.4941 - fp: 84.8196 - loss: 1.6006 - prc: 0.5512 - precision: 0.7738 - recall: 0.3202 - tn: 5366.6040 - tp: 306.8078 - val_accuracy: 0.8678 - val_auc: 0.7780 - val_fn: 138.0000 - val_fp: 49.0000 - val_loss: 1.5485 - val_prc: 0.5270 - val_precision: 0.6202 - val_recall: 0.3670 - val_tn: 1148.0000 - val_tp: 80.0000 - learning_rate: 1.0000e-04\n",
            "Epoch 14/100\n",
            "\u001b[1m254/254\u001b[0m \u001b[32m━━━━━━━━━━━━━━━━━━━━\u001b[0m\u001b[37m\u001b[0m \u001b[1m10s\u001b[0m 31ms/step - accuracy: 0.8842 - auc: 0.8090 - fn: 644.8666 - fp: 104.0902 - loss: 1.4826 - prc: 0.5621 - precision: 0.7390 - recall: 0.3205 - tn: 5336.4038 - tp: 314.3647 - val_accuracy: 0.8749 - val_auc: 0.7874 - val_fn: 158.0000 - val_fp: 19.0000 - val_loss: 1.4296 - val_prc: 0.5475 - val_precision: 0.7595 - val_recall: 0.2752 - val_tn: 1178.0000 - val_tp: 60.0000 - learning_rate: 1.0000e-04\n",
            "Epoch 15/100\n",
            "\u001b[1m254/254\u001b[0m \u001b[32m━━━━━━━━━━━━━━━━━━━━\u001b[0m\u001b[37m\u001b[0m \u001b[1m10s\u001b[0m 31ms/step - accuracy: 0.8839 - auc: 0.8319 - fn: 637.1804 - fp: 111.1294 - loss: 1.3740 - prc: 0.5917 - precision: 0.7610 - recall: 0.3514 - tn: 5311.3921 - tp: 340.0235 - val_accuracy: 0.8749 - val_auc: 0.7869 - val_fn: 164.0000 - val_fp: 13.0000 - val_loss: 1.3424 - val_prc: 0.5304 - val_precision: 0.8060 - val_recall: 0.2477 - val_tn: 1184.0000 - val_tp: 54.0000 - learning_rate: 1.0000e-04\n",
            "Epoch 16/100\n",
            "\u001b[1m254/254\u001b[0m \u001b[32m━━━━━━━━━━━━━━━━━━━━\u001b[0m\u001b[37m\u001b[0m \u001b[1m8s\u001b[0m 32ms/step - accuracy: 0.8855 - auc: 0.8197 - fn: 635.6235 - fp: 95.7961 - loss: 1.2859 - prc: 0.5911 - precision: 0.7787 - recall: 0.3444 - tn: 5317.3999 - tp: 350.9059 - val_accuracy: 0.8763 - val_auc: 0.7875 - val_fn: 163.0000 - val_fp: 12.0000 - val_loss: 1.2538 - val_prc: 0.5414 - val_precision: 0.8209 - val_recall: 0.2523 - val_tn: 1185.0000 - val_tp: 55.0000 - learning_rate: 1.0000e-04\n",
            "Epoch 17/100\n",
            "\u001b[1m254/254\u001b[0m \u001b[32m━━━━━━━━━━━━━━━━━━━━\u001b[0m\u001b[37m\u001b[0m \u001b[1m10s\u001b[0m 32ms/step - accuracy: 0.8964 - auc: 0.8341 - fn: 609.8314 - fp: 83.0510 - loss: 1.1875 - prc: 0.6321 - precision: 0.8260 - recall: 0.3817 - tn: 5348.8354 - tp: 358.0078 - val_accuracy: 0.8806 - val_auc: 0.7773 - val_fn: 161.0000 - val_fp: 8.0000 - val_loss: 1.2031 - val_prc: 0.5335 - val_precision: 0.8769 - val_recall: 0.2615 - val_tn: 1189.0000 - val_tp: 57.0000 - learning_rate: 1.0000e-04\n",
            "Epoch 18/100\n",
            "\u001b[1m254/254\u001b[0m \u001b[32m━━━━━━━━━━━━━━━━━━━━\u001b[0m\u001b[37m\u001b[0m \u001b[1m8s\u001b[0m 32ms/step - accuracy: 0.8859 - auc: 0.8360 - fn: 616.1921 - fp: 96.7647 - loss: 1.1354 - prc: 0.6255 - precision: 0.7982 - recall: 0.3770 - tn: 5308.5649 - tp: 378.2039 - val_accuracy: 0.8841 - val_auc: 0.8073 - val_fn: 138.0000 - val_fp: 26.0000 - val_loss: 1.1016 - val_prc: 0.5885 - val_precision: 0.7547 - val_recall: 0.3670 - val_tn: 1171.0000 - val_tp: 80.0000 - learning_rate: 1.0000e-04\n",
            "Epoch 19/100\n",
            "\u001b[1m254/254\u001b[0m \u001b[32m━━━━━━━━━━━━━━━━━━━━\u001b[0m\u001b[37m\u001b[0m \u001b[1m10s\u001b[0m 31ms/step - accuracy: 0.8919 - auc: 0.8369 - fn: 597.9412 - fp: 102.1333 - loss: 1.0633 - prc: 0.6344 - precision: 0.8010 - recall: 0.3945 - tn: 5315.3530 - tp: 384.2980 - val_accuracy: 0.8813 - val_auc: 0.8143 - val_fn: 143.0000 - val_fp: 25.0000 - val_loss: 1.0429 - val_prc: 0.5901 - val_precision: 0.7500 - val_recall: 0.3440 - val_tn: 1172.0000 - val_tp: 75.0000 - learning_rate: 1.0000e-04\n",
            "Epoch 20/100\n",
            "\u001b[1m254/254\u001b[0m \u001b[32m━━━━━━━━━━━━━━━━━━━━\u001b[0m\u001b[37m\u001b[0m \u001b[1m10s\u001b[0m 31ms/step - accuracy: 0.8946 - auc: 0.8389 - fn: 591.0000 - fp: 87.7882 - loss: 1.0077 - prc: 0.6440 - precision: 0.8241 - recall: 0.3982 - tn: 5329.2002 - tp: 391.7372 - val_accuracy: 0.8770 - val_auc: 0.7898 - val_fn: 142.0000 - val_fp: 32.0000 - val_loss: 1.0222 - val_prc: 0.5587 - val_precision: 0.7037 - val_recall: 0.3486 - val_tn: 1165.0000 - val_tp: 76.0000 - learning_rate: 1.0000e-04\n",
            "Epoch 21/100\n",
            "\u001b[1m254/254\u001b[0m \u001b[32m━━━━━━━━━━━━━━━━━━━━\u001b[0m\u001b[37m\u001b[0m \u001b[1m10s\u001b[0m 31ms/step - accuracy: 0.8912 - auc: 0.8389 - fn: 591.8235 - fp: 100.5569 - loss: 0.9632 - prc: 0.6297 - precision: 0.7748 - recall: 0.3885 - tn: 5323.5410 - tp: 383.8039 - val_accuracy: 0.8855 - val_auc: 0.8060 - val_fn: 144.0000 - val_fp: 18.0000 - val_loss: 0.9589 - val_prc: 0.5901 - val_precision: 0.8043 - val_recall: 0.3394 - val_tn: 1179.0000 - val_tp: 74.0000 - learning_rate: 1.0000e-04\n",
            "Epoch 22/100\n",
            "\u001b[1m254/254\u001b[0m \u001b[32m━━━━━━━━━━━━━━━━━━━━\u001b[0m\u001b[37m\u001b[0m \u001b[1m10s\u001b[0m 31ms/step - accuracy: 0.9035 - auc: 0.8450 - fn: 553.5569 - fp: 73.6627 - loss: 0.9043 - prc: 0.6537 - precision: 0.8426 - recall: 0.4086 - tn: 5380.0195 - tp: 392.4863 - val_accuracy: 0.8827 - val_auc: 0.8147 - val_fn: 141.0000 - val_fp: 25.0000 - val_loss: 0.9236 - val_prc: 0.5924 - val_precision: 0.7549 - val_recall: 0.3532 - val_tn: 1172.0000 - val_tp: 77.0000 - learning_rate: 1.0000e-04\n",
            "Epoch 23/100\n",
            "\u001b[1m254/254\u001b[0m \u001b[32m━━━━━━━━━━━━━━━━━━━━\u001b[0m\u001b[37m\u001b[0m \u001b[1m10s\u001b[0m 31ms/step - accuracy: 0.9013 - auc: 0.8601 - fn: 552.1177 - fp: 94.0745 - loss: 0.8659 - prc: 0.6800 - precision: 0.8125 - recall: 0.4418 - tn: 5336.4351 - tp: 417.0981 - val_accuracy: 0.8820 - val_auc: 0.7997 - val_fn: 157.0000 - val_fp: 10.0000 - val_loss: 0.9208 - val_prc: 0.5724 - val_precision: 0.8592 - val_recall: 0.2798 - val_tn: 1187.0000 - val_tp: 61.0000 - learning_rate: 1.0000e-04\n",
            "Epoch 24/100\n",
            "\u001b[1m254/254\u001b[0m \u001b[32m━━━━━━━━━━━━━━━━━━━━\u001b[0m\u001b[37m\u001b[0m \u001b[1m8s\u001b[0m 32ms/step - accuracy: 0.9080 - auc: 0.8559 - fn: 532.0000 - fp: 73.1373 - loss: 0.8282 - prc: 0.6655 - precision: 0.8556 - recall: 0.4234 - tn: 5398.9136 - tp: 395.6745 - val_accuracy: 0.8926 - val_auc: 0.7965 - val_fn: 145.0000 - val_fp: 7.0000 - val_loss: 0.8614 - val_prc: 0.6056 - val_precision: 0.9125 - val_recall: 0.3349 - val_tn: 1190.0000 - val_tp: 73.0000 - learning_rate: 1.0000e-04\n",
            "Epoch 25/100\n",
            "\u001b[1m254/254\u001b[0m \u001b[32m━━━━━━━━━━━━━━━━━━━━\u001b[0m\u001b[37m\u001b[0m \u001b[1m10s\u001b[0m 32ms/step - accuracy: 0.9029 - auc: 0.8623 - fn: 529.4392 - fp: 76.6118 - loss: 0.8066 - prc: 0.6933 - precision: 0.8512 - recall: 0.4448 - tn: 5347.5176 - tp: 446.1569 - val_accuracy: 0.8905 - val_auc: 0.8195 - val_fn: 140.0000 - val_fp: 15.0000 - val_loss: 0.8292 - val_prc: 0.6184 - val_precision: 0.8387 - val_recall: 0.3578 - val_tn: 1182.0000 - val_tp: 78.0000 - learning_rate: 1.0000e-04\n",
            "Epoch 26/100\n",
            "\u001b[1m254/254\u001b[0m \u001b[32m━━━━━━━━━━━━━━━━━━━━\u001b[0m\u001b[37m\u001b[0m \u001b[1m10s\u001b[0m 31ms/step - accuracy: 0.9036 - auc: 0.8577 - fn: 550.3765 - fp: 65.4980 - loss: 0.7787 - prc: 0.6752 - precision: 0.8647 - recall: 0.4055 - tn: 5393.6431 - tp: 390.2079 - val_accuracy: 0.8862 - val_auc: 0.8114 - val_fn: 131.0000 - val_fp: 30.0000 - val_loss: 0.8129 - val_prc: 0.6038 - val_precision: 0.7436 - val_recall: 0.3991 - val_tn: 1167.0000 - val_tp: 87.0000 - learning_rate: 1.0000e-04\n",
            "Epoch 27/100\n",
            "\u001b[1m254/254\u001b[0m \u001b[32m━━━━━━━━━━━━━━━━━━━━\u001b[0m\u001b[37m\u001b[0m \u001b[1m8s\u001b[0m 32ms/step - accuracy: 0.9054 - auc: 0.8739 - fn: 520.8823 - fp: 84.2392 - loss: 0.7504 - prc: 0.7067 - precision: 0.8440 - recall: 0.4666 - tn: 5338.0669 - tp: 456.5373 - val_accuracy: 0.8883 - val_auc: 0.8232 - val_fn: 135.0000 - val_fp: 23.0000 - val_loss: 0.7920 - val_prc: 0.6067 - val_precision: 0.7830 - val_recall: 0.3807 - val_tn: 1174.0000 - val_tp: 83.0000 - learning_rate: 1.0000e-04\n",
            "Epoch 28/100\n",
            "\u001b[1m254/254\u001b[0m \u001b[32m━━━━━━━━━━━━━━━━━━━━\u001b[0m\u001b[37m\u001b[0m \u001b[1m10s\u001b[0m 31ms/step - accuracy: 0.9115 - auc: 0.8822 - fn: 497.9961 - fp: 82.8353 - loss: 0.7182 - prc: 0.7140 - precision: 0.8537 - recall: 0.4775 - tn: 5357.4473 - tp: 461.4471 - val_accuracy: 0.8862 - val_auc: 0.8179 - val_fn: 132.0000 - val_fp: 29.0000 - val_loss: 0.7737 - val_prc: 0.6105 - val_precision: 0.7478 - val_recall: 0.3945 - val_tn: 1168.0000 - val_tp: 86.0000 - learning_rate: 1.0000e-04\n",
            "Epoch 29/100\n",
            "\u001b[1m254/254\u001b[0m \u001b[32m━━━━━━━━━━━━━━━━━━━━\u001b[0m\u001b[37m\u001b[0m \u001b[1m8s\u001b[0m 32ms/step - accuracy: 0.9056 - auc: 0.8837 - fn: 500.4980 - fp: 80.8039 - loss: 0.7095 - prc: 0.7223 - precision: 0.8499 - recall: 0.4788 - tn: 5340.0630 - tp: 478.3608 - val_accuracy: 0.8883 - val_auc: 0.8218 - val_fn: 112.0000 - val_fp: 46.0000 - val_loss: 0.7692 - val_prc: 0.6086 - val_precision: 0.6974 - val_recall: 0.4862 - val_tn: 1151.0000 - val_tp: 106.0000 - learning_rate: 1.0000e-04\n",
            "Epoch 30/100\n",
            "\u001b[1m254/254\u001b[0m \u001b[32m━━━━━━━━━━━━━━━━━━━━\u001b[0m\u001b[37m\u001b[0m \u001b[1m8s\u001b[0m 31ms/step - accuracy: 0.9071 - auc: 0.8858 - fn: 514.7333 - fp: 75.9686 - loss: 0.6948 - prc: 0.7378 - precision: 0.8726 - recall: 0.4953 - tn: 5318.2822 - tp: 490.7412 - val_accuracy: 0.8869 - val_auc: 0.8295 - val_fn: 147.0000 - val_fp: 13.0000 - val_loss: 0.7443 - val_prc: 0.6255 - val_precision: 0.8452 - val_recall: 0.3257 - val_tn: 1184.0000 - val_tp: 71.0000 - learning_rate: 1.0000e-04\n",
            "Epoch 31/100\n",
            "\u001b[1m254/254\u001b[0m \u001b[32m━━━━━━━━━━━━━━━━━━━━\u001b[0m\u001b[37m\u001b[0m \u001b[1m8s\u001b[0m 31ms/step - accuracy: 0.9095 - auc: 0.8869 - fn: 496.1255 - fp: 75.1804 - loss: 0.6721 - prc: 0.7244 - precision: 0.8645 - recall: 0.4675 - tn: 5369.2900 - tp: 459.1294 - val_accuracy: 0.8961 - val_auc: 0.8147 - val_fn: 129.0000 - val_fp: 18.0000 - val_loss: 0.7262 - val_prc: 0.6082 - val_precision: 0.8318 - val_recall: 0.4083 - val_tn: 1179.0000 - val_tp: 89.0000 - learning_rate: 1.0000e-04\n",
            "Epoch 32/100\n",
            "\u001b[1m254/254\u001b[0m \u001b[32m━━━━━━━━━━━━━━━━━━━━\u001b[0m\u001b[37m\u001b[0m \u001b[1m10s\u001b[0m 31ms/step - accuracy: 0.9184 - auc: 0.8978 - fn: 468.3098 - fp: 76.2667 - loss: 0.6376 - prc: 0.7442 - precision: 0.8705 - recall: 0.5021 - tn: 5364.6743 - tp: 490.4745 - val_accuracy: 0.8961 - val_auc: 0.8231 - val_fn: 119.0000 - val_fp: 28.0000 - val_loss: 0.7042 - val_prc: 0.6329 - val_precision: 0.7795 - val_recall: 0.4541 - val_tn: 1169.0000 - val_tp: 99.0000 - learning_rate: 1.0000e-04\n",
            "Epoch 33/100\n",
            "\u001b[1m254/254\u001b[0m \u001b[32m━━━━━━━━━━━━━━━━━━━━\u001b[0m\u001b[37m\u001b[0m \u001b[1m8s\u001b[0m 31ms/step - accuracy: 0.9199 - auc: 0.9064 - fn: 441.7177 - fp: 74.6392 - loss: 0.6247 - prc: 0.7836 - precision: 0.8802 - recall: 0.5643 - tn: 5338.6548 - tp: 544.7137 - val_accuracy: 0.8954 - val_auc: 0.8314 - val_fn: 119.0000 - val_fp: 29.0000 - val_loss: 0.7036 - val_prc: 0.6331 - val_precision: 0.7734 - val_recall: 0.4541 - val_tn: 1168.0000 - val_tp: 99.0000 - learning_rate: 1.0000e-04\n",
            "Epoch 34/100\n",
            "\u001b[1m254/254\u001b[0m \u001b[32m━━━━━━━━━━━━━━━━━━━━\u001b[0m\u001b[37m\u001b[0m \u001b[1m10s\u001b[0m 30ms/step - accuracy: 0.9187 - auc: 0.9066 - fn: 458.6628 - fp: 73.9804 - loss: 0.6115 - prc: 0.7769 - precision: 0.8866 - recall: 0.5343 - tn: 5342.8589 - tp: 524.2235 - val_accuracy: 0.8947 - val_auc: 0.8198 - val_fn: 140.0000 - val_fp: 9.0000 - val_loss: 0.7066 - val_prc: 0.6348 - val_precision: 0.8966 - val_recall: 0.3578 - val_tn: 1188.0000 - val_tp: 78.0000 - learning_rate: 1.0000e-04\n",
            "Epoch 35/100\n",
            "\u001b[1m254/254\u001b[0m \u001b[32m━━━━━━━━━━━━━━━━━━━━\u001b[0m\u001b[37m\u001b[0m \u001b[1m8s\u001b[0m 31ms/step - accuracy: 0.9253 - auc: 0.9030 - fn: 424.4863 - fp: 58.6118 - loss: 0.5928 - prc: 0.7610 - precision: 0.9024 - recall: 0.5273 - tn: 5409.4785 - tp: 507.1490 - val_accuracy: 0.8862 - val_auc: 0.8281 - val_fn: 133.0000 - val_fp: 28.0000 - val_loss: 0.6816 - val_prc: 0.6233 - val_precision: 0.7522 - val_recall: 0.3899 - val_tn: 1169.0000 - val_tp: 85.0000 - learning_rate: 1.0000e-04\n",
            "Epoch 36/100\n",
            "\u001b[1m254/254\u001b[0m \u001b[32m━━━━━━━━━━━━━━━━━━━━\u001b[0m\u001b[37m\u001b[0m \u001b[1m8s\u001b[0m 31ms/step - accuracy: 0.9167 - auc: 0.9082 - fn: 443.9804 - fp: 81.3765 - loss: 0.5926 - prc: 0.7655 - precision: 0.8519 - recall: 0.5299 - tn: 5371.0747 - tp: 503.2941 - val_accuracy: 0.8975 - val_auc: 0.8443 - val_fn: 128.0000 - val_fp: 17.0000 - val_loss: 0.6651 - val_prc: 0.6636 - val_precision: 0.8411 - val_recall: 0.4128 - val_tn: 1180.0000 - val_tp: 90.0000 - learning_rate: 1.0000e-04\n",
            "Epoch 37/100\n",
            "\u001b[1m254/254\u001b[0m \u001b[32m━━━━━━━━━━━━━━━━━━━━\u001b[0m\u001b[37m\u001b[0m \u001b[1m10s\u001b[0m 31ms/step - accuracy: 0.9247 - auc: 0.9082 - fn: 429.8941 - fp: 70.4549 - loss: 0.5725 - prc: 0.7680 - precision: 0.8848 - recall: 0.5367 - tn: 5386.3018 - tp: 513.0745 - val_accuracy: 0.8933 - val_auc: 0.8360 - val_fn: 138.0000 - val_fp: 13.0000 - val_loss: 0.6664 - val_prc: 0.6680 - val_precision: 0.8602 - val_recall: 0.3670 - val_tn: 1184.0000 - val_tp: 80.0000 - learning_rate: 1.0000e-04\n",
            "Epoch 38/100\n",
            "\u001b[1m254/254\u001b[0m \u001b[32m━━━━━━━━━━━━━━━━━━━━\u001b[0m\u001b[37m\u001b[0m \u001b[1m8s\u001b[0m 31ms/step - accuracy: 0.9259 - auc: 0.9140 - fn: 422.8902 - fp: 66.7726 - loss: 0.5618 - prc: 0.7781 - precision: 0.8984 - recall: 0.5392 - tn: 5400.7295 - tp: 509.3333 - val_accuracy: 0.9039 - val_auc: 0.8464 - val_fn: 116.0000 - val_fp: 20.0000 - val_loss: 0.6499 - val_prc: 0.6548 - val_precision: 0.8361 - val_recall: 0.4679 - val_tn: 1177.0000 - val_tp: 102.0000 - learning_rate: 1.0000e-04\n",
            "Epoch 39/100\n",
            "\u001b[1m254/254\u001b[0m \u001b[32m━━━━━━━━━━━━━━━━━━━━\u001b[0m\u001b[37m\u001b[0m \u001b[1m10s\u001b[0m 31ms/step - accuracy: 0.9251 - auc: 0.9253 - fn: 406.8902 - fp: 74.1176 - loss: 0.5555 - prc: 0.8136 - precision: 0.8889 - recall: 0.6069 - tn: 5327.5059 - tp: 591.2118 - val_accuracy: 0.8905 - val_auc: 0.8352 - val_fn: 116.0000 - val_fp: 39.0000 - val_loss: 0.6653 - val_prc: 0.6444 - val_precision: 0.7234 - val_recall: 0.4679 - val_tn: 1158.0000 - val_tp: 102.0000 - learning_rate: 1.0000e-04\n",
            "Epoch 40/100\n",
            "\u001b[1m254/254\u001b[0m \u001b[32m━━━━━━━━━━━━━━━━━━━━\u001b[0m\u001b[37m\u001b[0m \u001b[1m10s\u001b[0m 31ms/step - accuracy: 0.9210 - auc: 0.9253 - fn: 414.7098 - fp: 95.8314 - loss: 0.5446 - prc: 0.7932 - precision: 0.8425 - recall: 0.5629 - tn: 5340.7295 - tp: 548.4549 - val_accuracy: 0.8961 - val_auc: 0.8224 - val_fn: 131.0000 - val_fp: 16.0000 - val_loss: 0.6647 - val_prc: 0.6485 - val_precision: 0.8447 - val_recall: 0.3991 - val_tn: 1181.0000 - val_tp: 87.0000 - learning_rate: 1.0000e-04\n",
            "Epoch 41/100\n",
            "\u001b[1m254/254\u001b[0m \u001b[32m━━━━━━━━━━━━━━━━━━━━\u001b[0m\u001b[37m\u001b[0m \u001b[1m10s\u001b[0m 31ms/step - accuracy: 0.9301 - auc: 0.9255 - fn: 387.4353 - fp: 66.2353 - loss: 0.5318 - prc: 0.8048 - precision: 0.8981 - recall: 0.5815 - tn: 5390.5020 - tp: 555.5529 - val_accuracy: 0.8905 - val_auc: 0.8533 - val_fn: 106.0000 - val_fp: 49.0000 - val_loss: 0.6459 - val_prc: 0.6602 - val_precision: 0.6957 - val_recall: 0.5138 - val_tn: 1148.0000 - val_tp: 112.0000 - learning_rate: 1.0000e-04\n",
            "Epoch 42/100\n",
            "\u001b[1m254/254\u001b[0m \u001b[32m━━━━━━━━━━━━━━━━━━━━\u001b[0m\u001b[37m\u001b[0m \u001b[1m8s\u001b[0m 32ms/step - accuracy: 0.9330 - auc: 0.9419 - fn: 358.1059 - fp: 65.9098 - loss: 0.5118 - prc: 0.8515 - precision: 0.9021 - recall: 0.6439 - tn: 5336.0273 - tp: 639.6824 - val_accuracy: 0.9011 - val_auc: 0.8538 - val_fn: 113.0000 - val_fp: 27.0000 - val_loss: 0.6264 - val_prc: 0.6785 - val_precision: 0.7955 - val_recall: 0.4817 - val_tn: 1170.0000 - val_tp: 105.0000 - learning_rate: 1.0000e-04\n",
            "Epoch 43/100\n",
            "\u001b[1m254/254\u001b[0m \u001b[32m━━━━━━━━━━━━━━━━━━━━\u001b[0m\u001b[37m\u001b[0m \u001b[1m8s\u001b[0m 31ms/step - accuracy: 0.9364 - auc: 0.9505 - fn: 332.2863 - fp: 75.7176 - loss: 0.4940 - prc: 0.8657 - precision: 0.8924 - recall: 0.6700 - tn: 5344.2393 - tp: 647.4824 - val_accuracy: 0.9032 - val_auc: 0.8359 - val_fn: 114.0000 - val_fp: 23.0000 - val_loss: 0.6217 - val_prc: 0.6740 - val_precision: 0.8189 - val_recall: 0.4771 - val_tn: 1174.0000 - val_tp: 104.0000 - learning_rate: 1.0000e-04\n",
            "Epoch 44/100\n",
            "\u001b[1m254/254\u001b[0m \u001b[32m━━━━━━━━━━━━━━━━━━━━\u001b[0m\u001b[37m\u001b[0m \u001b[1m8s\u001b[0m 31ms/step - accuracy: 0.9358 - auc: 0.9545 - fn: 340.0314 - fp: 73.4863 - loss: 0.4860 - prc: 0.8690 - precision: 0.9009 - recall: 0.6497 - tn: 5349.6040 - tp: 636.6039 - val_accuracy: 0.8975 - val_auc: 0.8372 - val_fn: 122.0000 - val_fp: 23.0000 - val_loss: 0.6383 - val_prc: 0.6581 - val_precision: 0.8067 - val_recall: 0.4404 - val_tn: 1174.0000 - val_tp: 96.0000 - learning_rate: 1.0000e-04\n",
            "Epoch 45/100\n",
            "\u001b[1m254/254\u001b[0m \u001b[32m━━━━━━━━━━━━━━━━━━━━\u001b[0m\u001b[37m\u001b[0m \u001b[1m8s\u001b[0m 32ms/step - accuracy: 0.9422 - auc: 0.9498 - fn: 317.2196 - fp: 71.4902 - loss: 0.4782 - prc: 0.8609 - precision: 0.9104 - recall: 0.6728 - tn: 5362.6587 - tp: 648.3569 - val_accuracy: 0.9074 - val_auc: 0.8390 - val_fn: 115.0000 - val_fp: 16.0000 - val_loss: 0.6073 - val_prc: 0.6818 - val_precision: 0.8655 - val_recall: 0.4725 - val_tn: 1181.0000 - val_tp: 103.0000 - learning_rate: 1.0000e-04\n",
            "Epoch 46/100\n",
            "\u001b[1m254/254\u001b[0m \u001b[32m━━━━━━━━━━━━━━━━━━━━\u001b[0m\u001b[37m\u001b[0m \u001b[1m8s\u001b[0m 30ms/step - accuracy: 0.9363 - auc: 0.9506 - fn: 332.8824 - fp: 71.1098 - loss: 0.4802 - prc: 0.8498 - precision: 0.8999 - recall: 0.6338 - tn: 5385.5293 - tp: 610.2039 - val_accuracy: 0.9018 - val_auc: 0.8305 - val_fn: 121.0000 - val_fp: 18.0000 - val_loss: 0.6426 - val_prc: 0.6571 - val_precision: 0.8435 - val_recall: 0.4450 - val_tn: 1179.0000 - val_tp: 97.0000 - learning_rate: 1.0000e-04\n",
            "Epoch 47/100\n",
            "\u001b[1m254/254\u001b[0m \u001b[32m━━━━━━━━━━━━━━━━━━━━\u001b[0m\u001b[37m\u001b[0m \u001b[1m8s\u001b[0m 31ms/step - accuracy: 0.9357 - auc: 0.9514 - fn: 318.3529 - fp: 81.2667 - loss: 0.4780 - prc: 0.8694 - precision: 0.8951 - recall: 0.6714 - tn: 5337.2197 - tp: 662.8863 - val_accuracy: 0.9025 - val_auc: 0.8346 - val_fn: 114.0000 - val_fp: 24.0000 - val_loss: 0.6320 - val_prc: 0.6655 - val_precision: 0.8125 - val_recall: 0.4771 - val_tn: 1173.0000 - val_tp: 104.0000 - learning_rate: 1.0000e-04\n",
            "Epoch 48/100\n",
            "\u001b[1m254/254\u001b[0m \u001b[32m━━━━━━━━━━━━━━━━━━━━\u001b[0m\u001b[37m\u001b[0m \u001b[1m10s\u001b[0m 31ms/step - accuracy: 0.9442 - auc: 0.9568 - fn: 288.3372 - fp: 60.2353 - loss: 0.4623 - prc: 0.8781 - precision: 0.9154 - recall: 0.6960 - tn: 5371.1489 - tp: 680.0039 - val_accuracy: 0.9039 - val_auc: 0.8306 - val_fn: 128.0000 - val_fp: 8.0000 - val_loss: 0.6822 - val_prc: 0.6697 - val_precision: 0.9184 - val_recall: 0.4128 - val_tn: 1189.0000 - val_tp: 90.0000 - learning_rate: 1.0000e-04\n",
            "Epoch 49/100\n",
            "\u001b[1m254/254\u001b[0m \u001b[32m━━━━━━━━━━━━━━━━━━━━\u001b[0m\u001b[37m\u001b[0m \u001b[1m8s\u001b[0m 31ms/step - accuracy: 0.9518 - auc: 0.9755 - fn: 253.6745 - fp: 36.8118 - loss: 0.4312 - prc: 0.9191 - precision: 0.9530 - recall: 0.7173 - tn: 5392.1685 - tp: 717.0706 - val_accuracy: 0.9053 - val_auc: 0.8477 - val_fn: 115.0000 - val_fp: 19.0000 - val_loss: 0.6156 - val_prc: 0.6850 - val_precision: 0.8443 - val_recall: 0.4725 - val_tn: 1178.0000 - val_tp: 103.0000 - learning_rate: 1.0000e-05\n"
          ]
        }
      ],
      "source": [
        "history = model.fit(X_train, y_train, epochs=100, batch_size=10, verbose=1, validation_split=0.1, callbacks=[reduce_lr,early_st])"
      ]
    },
    {
      "cell_type": "code",
      "execution_count": null,
      "id": "DuK5jSEDsWIa",
      "metadata": {
        "colab": {
          "base_uri": "https://localhost:8080/",
          "height": 564
        },
        "id": "DuK5jSEDsWIa",
        "outputId": "8b731513-79e7-40c5-9f88-7a7aa84d1a1f"
      },
      "outputs": [
        {
          "data": {
            "image/png": "[encoded data removed]",
            "text/plain": [
              "<Figure size 800x600 with 1 Axes>"
            ]
          },
          "metadata": {},
          "output_type": "display_data"
        }
      ],
      "source": [
        "plt.plot(history.history['loss'], label='Training Loss')\n",
        "plt.plot(history.history['val_loss'], label='Validation Loss')\n",
        "plt.xlabel('Epochs')\n",
        "plt.ylabel('Loss')\n",
        "plt.title(f'Training vs Validation Loss for \"{antibiotic}\"')\n",
        "plt.legend()\n",
        "plt.show()"
      ]
    },
    {
      "cell_type": "code",
      "execution_count": null,
      "id": "o8-uig3ksWBz",
      "metadata": {
        "colab": {
          "base_uri": "https://localhost:8080/"
        },
        "id": "o8-uig3ksWBz",
        "outputId": "a2ca0534-8387-49e6-e82b-c6721495687c"
      },
      "outputs": [
        {
          "name": "stdout",
          "output_type": "stream",
          "text": [
            "\u001b[1m23/23\u001b[0m \u001b[32m━━━━━━━━━━━━━━━━━━━━\u001b[0m\u001b[37m\u001b[0m \u001b[1m2s\u001b[0m 39ms/step\n",
            "               precision    recall  f1-score   support\n",
            "\n",
            "    Oxacillin       0.88      0.59      0.71       143\n",
            "  Clindamycin       0.71      0.22      0.34       100\n",
            "  Ceftriaxone       0.87      0.58      0.70       141\n",
            "Ciprofloxacin       0.77      0.41      0.54       107\n",
            " Fusidic_acid       0.50      0.02      0.04        45\n",
            "\n",
            "    micro avg       0.83      0.44      0.57       536\n",
            "    macro avg       0.75      0.37      0.46       536\n",
            " weighted avg       0.79      0.44      0.55       536\n",
            "  samples avg       0.13      0.12      0.12       536\n",
            "\n"
          ]
        }
      ],
      "source": [
        "y_pred_prob  = model.predict(X_test)\n",
        "y_pred = (y_pred_prob>0.5)\n",
        "print(classification_report(y_test, y_pred, target_names=antibiotics))"
      ]
    },
    {
      "cell_type": "code",
      "execution_count": null,
      "id": "Q6rEVwcksk4T",
      "metadata": {
        "colab": {
          "base_uri": "https://localhost:8080/"
        },
        "id": "Q6rEVwcksk4T",
        "outputId": "97d865d1-0a03-49a9-c83b-041e51606046"
      },
      "outputs": [
        {
          "name": "stdout",
          "output_type": "stream",
          "text": [
            "Oxacillin   AUROC: 0.9292, AUPRC: 0.8455\n",
            "Clindamycin   AUROC: 0.7288, AUPRC: 0.4479\n",
            "Ceftriaxone   AUROC: 0.9266, AUPRC: 0.8434\n",
            "Ciprofloxacin   AUROC: 0.8068, AUPRC: 0.6092\n",
            "Fusidic_acid   AUROC: 0.7345, AUPRC: 0.2394\n"
          ]
        }
      ],
      "source": [
        "for i, _ in enumerate(antibiotics):\n",
        "  auc = roc_auc_score(y_test[:, i], y_pred_prob[:, i])\n",
        "  aucpr = average_precision_score(y_test[:, i], y_pred_prob[:, i])\n",
        "  print(f\"{antibiotics[i]}   AUROC: {auc:0.4f}, AUPRC: {aucpr:0.4f}\")"
      ]
    },
    {
      "cell_type": "code",
      "execution_count": null,
      "id": "Sx0WJ4kix3Ip",
      "metadata": {
        "id": "Sx0WJ4kix3Ip"
      },
      "outputs": [],
      "source": []
    }
  ],
  "metadata": {
    "accelerator": "GPU",
    "colab": {
      "gpuType": "T4",
      "provenance": []
    },
    "kernelspec": {
      "display_name": "Python 3",
      "name": "python3"
    },
    "language_info": {
      "codemirror_mode": {
        "name": "ipython",
        "version": 3
      },
      "file_extension": ".py",
      "mimetype": "text/x-python",
      "name": "python",
      "nbconvert_exporter": "python",
      "pygments_lexer": "ipython3",
      "version": "3.9.23"
    }
  },
  "nbformat": 4,
  "nbformat_minor": 5
}
